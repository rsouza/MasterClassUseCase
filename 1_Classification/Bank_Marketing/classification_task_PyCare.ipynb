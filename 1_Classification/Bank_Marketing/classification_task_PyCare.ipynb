{
 "cells": [
  {
   "cell_type": "markdown",
   "metadata": {
    "application/vnd.databricks.v1+cell": {
     "cellMetadata": {},
     "inputWidgets": {},
     "nuid": "e7306428-49da-42e1-9c81-7662cdb731b8",
     "showTitle": false,
     "title": ""
    }
   },
   "source": [
    "# AutoML tools: PyCaret"
   ]
  },
  {
   "cell_type": "markdown",
   "metadata": {
    "application/vnd.databricks.v1+cell": {
     "cellMetadata": {},
     "inputWidgets": {},
     "nuid": "ce6170b9-328a-481b-b50e-dd0d40b1c462",
     "showTitle": false,
     "title": ""
    }
   },
   "source": [
    "In this notebook, we will explore a powerful AutoML library:\n",
    "[**PyCaret**](https://pycaret.gitbook.io/docs).\n",
    "[**PyCaret**](https://pycaret.gitbook.io/docs) provides a user-friendly interface for automating various steps in the machine learning workflow, making it easier for both beginners and experienced data scientists to build and evaluate machine learning models. \n",
    "\n",
    "We will be using this tool for regression (Boston dataset) and classification (Titanic dataset) problems.  \n",
    "First, we install the library."
   ]
  },
  {
   "cell_type": "code",
   "execution_count": 1,
   "metadata": {
    "application/vnd.databricks.v1+cell": {
     "cellMetadata": {
      "byteLimit": 2048000,
      "rowLimit": 10000
     },
     "inputWidgets": {},
     "nuid": "2b741a1f-167a-4b06-bb1c-8f66b84c959a",
     "showTitle": false,
     "title": ""
    }
   },
   "outputs": [
    {
     "name": "stdout",
     "output_type": "stream",
     "text": [
      "Requirement already satisfied: pycaret in c:\\users\\mmartinovic\\06-datasciencemasterclass\\.venv\\lib\\site-packages (3.3.2)\n",
      "Requirement already satisfied: ipython>=5.5.0 in c:\\users\\mmartinovic\\06-datasciencemasterclass\\.venv\\lib\\site-packages (from pycaret) (8.23.0)\n",
      "Requirement already satisfied: ipywidgets>=7.6.5 in c:\\users\\mmartinovic\\06-datasciencemasterclass\\.venv\\lib\\site-packages (from pycaret) (8.1.3)\n",
      "Requirement already satisfied: tqdm>=4.62.0 in c:\\users\\mmartinovic\\06-datasciencemasterclass\\.venv\\lib\\site-packages (from pycaret) (4.64.1)\n",
      "Requirement already satisfied: numpy<1.27,>=1.21 in c:\\users\\mmartinovic\\06-datasciencemasterclass\\.venv\\lib\\site-packages (from pycaret) (1.26.4)\n",
      "Requirement already satisfied: pandas<2.2.0 in c:\\users\\mmartinovic\\06-datasciencemasterclass\\.venv\\lib\\site-packages (from pycaret) (2.1.4)\n",
      "Requirement already satisfied: jinja2>=3 in c:\\users\\mmartinovic\\06-datasciencemasterclass\\.venv\\lib\\site-packages (from pycaret) (3.1.3)\n",
      "Requirement already satisfied: scipy<=1.11.4,>=1.6.1 in c:\\users\\mmartinovic\\06-datasciencemasterclass\\.venv\\lib\\site-packages (from pycaret) (1.11.4)\n",
      "Requirement already satisfied: joblib<1.4,>=1.2.0 in c:\\users\\mmartinovic\\06-datasciencemasterclass\\.venv\\lib\\site-packages (from pycaret) (1.3.2)\n",
      "Requirement already satisfied: scikit-learn>1.4.0 in c:\\users\\mmartinovic\\06-datasciencemasterclass\\.venv\\lib\\site-packages (from pycaret) (1.4.2)\n",
      "Requirement already satisfied: pyod>=1.1.3 in c:\\users\\mmartinovic\\06-datasciencemasterclass\\.venv\\lib\\site-packages (from pycaret) (2.0.0)\n",
      "Requirement already satisfied: imbalanced-learn>=0.12.0 in c:\\users\\mmartinovic\\06-datasciencemasterclass\\.venv\\lib\\site-packages (from pycaret) (0.12.3)\n",
      "Requirement already satisfied: category-encoders>=2.4.0 in c:\\users\\mmartinovic\\06-datasciencemasterclass\\.venv\\lib\\site-packages (from pycaret) (2.6.3)\n",
      "Requirement already satisfied: lightgbm>=3.0.0 in c:\\users\\mmartinovic\\06-datasciencemasterclass\\.venv\\lib\\site-packages (from pycaret) (4.3.0)\n",
      "Requirement already satisfied: numba>=0.55.0 in c:\\users\\mmartinovic\\06-datasciencemasterclass\\.venv\\lib\\site-packages (from pycaret) (0.59.1)\n",
      "Requirement already satisfied: requests>=2.27.1 in c:\\users\\mmartinovic\\06-datasciencemasterclass\\.venv\\lib\\site-packages (from pycaret) (2.28.2)\n",
      "Requirement already satisfied: psutil>=5.9.0 in c:\\users\\mmartinovic\\06-datasciencemasterclass\\.venv\\lib\\site-packages (from pycaret) (5.9.8)\n",
      "Requirement already satisfied: markupsafe>=2.0.1 in c:\\users\\mmartinovic\\06-datasciencemasterclass\\.venv\\lib\\site-packages (from pycaret) (2.1.4)\n",
      "Requirement already satisfied: importlib-metadata>=4.12.0 in c:\\users\\mmartinovic\\06-datasciencemasterclass\\.venv\\lib\\site-packages (from pycaret) (7.1.0)\n",
      "Requirement already satisfied: nbformat>=4.2.0 in c:\\users\\mmartinovic\\06-datasciencemasterclass\\.venv\\lib\\site-packages (from pycaret) (5.10.4)\n",
      "Requirement already satisfied: cloudpickle in c:\\users\\mmartinovic\\06-datasciencemasterclass\\.venv\\lib\\site-packages (from pycaret) (3.0.0)\n",
      "Requirement already satisfied: deprecation>=2.1.0 in c:\\users\\mmartinovic\\06-datasciencemasterclass\\.venv\\lib\\site-packages (from pycaret) (2.1.0)\n",
      "Requirement already satisfied: xxhash in c:\\users\\mmartinovic\\06-datasciencemasterclass\\.venv\\lib\\site-packages (from pycaret) (3.4.1)\n",
      "Requirement already satisfied: matplotlib<3.8.0 in c:\\users\\mmartinovic\\06-datasciencemasterclass\\.venv\\lib\\site-packages (from pycaret) (3.6.3)\n",
      "Requirement already satisfied: scikit-plot>=0.3.7 in c:\\users\\mmartinovic\\06-datasciencemasterclass\\.venv\\lib\\site-packages (from pycaret) (0.3.7)\n",
      "Requirement already satisfied: yellowbrick>=1.4 in c:\\users\\mmartinovic\\06-datasciencemasterclass\\.venv\\lib\\site-packages (from pycaret) (1.5)\n",
      "Requirement already satisfied: plotly>=5.14.0 in c:\\users\\mmartinovic\\06-datasciencemasterclass\\.venv\\lib\\site-packages (from pycaret) (5.22.0)\n",
      "Requirement already satisfied: kaleido>=0.2.1 in c:\\users\\mmartinovic\\06-datasciencemasterclass\\.venv\\lib\\site-packages (from pycaret) (0.2.1)\n",
      "Requirement already satisfied: schemdraw==0.15 in c:\\users\\mmartinovic\\06-datasciencemasterclass\\.venv\\lib\\site-packages (from pycaret) (0.15)\n",
      "Requirement already satisfied: plotly-resampler>=0.8.3.1 in c:\\users\\mmartinovic\\06-datasciencemasterclass\\.venv\\lib\\site-packages (from pycaret) (0.10.0)\n",
      "Requirement already satisfied: statsmodels>=0.12.1 in c:\\users\\mmartinovic\\06-datasciencemasterclass\\.venv\\lib\\site-packages (from pycaret) (0.13.5)\n",
      "Requirement already satisfied: sktime==0.26.0 in c:\\users\\mmartinovic\\06-datasciencemasterclass\\.venv\\lib\\site-packages (from pycaret) (0.26.0)\n",
      "Requirement already satisfied: tbats>=1.1.3 in c:\\users\\mmartinovic\\06-datasciencemasterclass\\.venv\\lib\\site-packages (from pycaret) (1.1.3)\n",
      "Requirement already satisfied: pmdarima>=2.0.4 in c:\\users\\mmartinovic\\06-datasciencemasterclass\\.venv\\lib\\site-packages (from pycaret) (2.0.4)\n",
      "Requirement already satisfied: packaging in c:\\users\\mmartinovic\\06-datasciencemasterclass\\.venv\\lib\\site-packages (from sktime==0.26.0->pycaret) (24.0)\n",
      "Requirement already satisfied: scikit-base<0.8.0 in c:\\users\\mmartinovic\\06-datasciencemasterclass\\.venv\\lib\\site-packages (from sktime==0.26.0->pycaret) (0.7.8)\n",
      "Requirement already satisfied: patsy>=0.5.1 in c:\\users\\mmartinovic\\06-datasciencemasterclass\\.venv\\lib\\site-packages (from category-encoders>=2.4.0->pycaret) (0.5.6)\n",
      "Requirement already satisfied: threadpoolctl>=2.0.0 in c:\\users\\mmartinovic\\06-datasciencemasterclass\\.venv\\lib\\site-packages (from imbalanced-learn>=0.12.0->pycaret) (3.5.0)\n",
      "Requirement already satisfied: zipp>=0.5 in c:\\users\\mmartinovic\\06-datasciencemasterclass\\.venv\\lib\\site-packages (from importlib-metadata>=4.12.0->pycaret) (3.19.2)\n",
      "Requirement already satisfied: decorator in c:\\users\\mmartinovic\\06-datasciencemasterclass\\.venv\\lib\\site-packages (from ipython>=5.5.0->pycaret) (5.1.1)\n",
      "Requirement already satisfied: jedi>=0.16 in c:\\users\\mmartinovic\\06-datasciencemasterclass\\.venv\\lib\\site-packages (from ipython>=5.5.0->pycaret) (0.19.1)\n",
      "Requirement already satisfied: matplotlib-inline in c:\\users\\mmartinovic\\06-datasciencemasterclass\\.venv\\lib\\site-packages (from ipython>=5.5.0->pycaret) (0.1.6)\n",
      "Requirement already satisfied: prompt-toolkit<3.1.0,>=3.0.41 in c:\\users\\mmartinovic\\06-datasciencemasterclass\\.venv\\lib\\site-packages (from ipython>=5.5.0->pycaret) (3.0.43)\n",
      "Requirement already satisfied: pygments>=2.4.0 in c:\\users\\mmartinovic\\06-datasciencemasterclass\\.venv\\lib\\site-packages (from ipython>=5.5.0->pycaret) (2.17.2)\n",
      "Requirement already satisfied: stack-data in c:\\users\\mmartinovic\\06-datasciencemasterclass\\.venv\\lib\\site-packages (from ipython>=5.5.0->pycaret) (0.6.3)\n",
      "Requirement already satisfied: traitlets>=5.13.0 in c:\\users\\mmartinovic\\06-datasciencemasterclass\\.venv\\lib\\site-packages (from ipython>=5.5.0->pycaret) (5.14.2)\n",
      "Requirement already satisfied: typing-extensions in c:\\users\\mmartinovic\\06-datasciencemasterclass\\.venv\\lib\\site-packages (from ipython>=5.5.0->pycaret) (4.11.0)\n",
      "Requirement already satisfied: colorama in c:\\users\\mmartinovic\\06-datasciencemasterclass\\.venv\\lib\\site-packages (from ipython>=5.5.0->pycaret) (0.4.6)\n",
      "Requirement already satisfied: comm>=0.1.3 in c:\\users\\mmartinovic\\06-datasciencemasterclass\\.venv\\lib\\site-packages (from ipywidgets>=7.6.5->pycaret) (0.2.2)\n",
      "Requirement already satisfied: widgetsnbextension~=4.0.11 in c:\\users\\mmartinovic\\06-datasciencemasterclass\\.venv\\lib\\site-packages (from ipywidgets>=7.6.5->pycaret) (4.0.11)\n",
      "Requirement already satisfied: jupyterlab-widgets~=3.0.11 in c:\\users\\mmartinovic\\06-datasciencemasterclass\\.venv\\lib\\site-packages (from ipywidgets>=7.6.5->pycaret) (3.0.11)\n",
      "Requirement already satisfied: contourpy>=1.0.1 in c:\\users\\mmartinovic\\06-datasciencemasterclass\\.venv\\lib\\site-packages (from matplotlib<3.8.0->pycaret) (1.2.1)\n",
      "Requirement already satisfied: cycler>=0.10 in c:\\users\\mmartinovic\\06-datasciencemasterclass\\.venv\\lib\\site-packages (from matplotlib<3.8.0->pycaret) (0.12.1)\n",
      "Requirement already satisfied: fonttools>=4.22.0 in c:\\users\\mmartinovic\\06-datasciencemasterclass\\.venv\\lib\\site-packages (from matplotlib<3.8.0->pycaret) (4.51.0)\n",
      "Requirement already satisfied: kiwisolver>=1.0.1 in c:\\users\\mmartinovic\\06-datasciencemasterclass\\.venv\\lib\\site-packages (from matplotlib<3.8.0->pycaret) (1.4.5)\n",
      "Requirement already satisfied: pillow>=6.2.0 in c:\\users\\mmartinovic\\06-datasciencemasterclass\\.venv\\lib\\site-packages (from matplotlib<3.8.0->pycaret) (10.3.0)\n",
      "Requirement already satisfied: pyparsing>=2.2.1 in c:\\users\\mmartinovic\\06-datasciencemasterclass\\.venv\\lib\\site-packages (from matplotlib<3.8.0->pycaret) (3.1.2)\n",
      "Requirement already satisfied: python-dateutil>=2.7 in c:\\users\\mmartinovic\\06-datasciencemasterclass\\.venv\\lib\\site-packages (from matplotlib<3.8.0->pycaret) (2.9.0.post0)\n",
      "Requirement already satisfied: fastjsonschema>=2.15 in c:\\users\\mmartinovic\\06-datasciencemasterclass\\.venv\\lib\\site-packages (from nbformat>=4.2.0->pycaret) (2.19.1)\n",
      "Requirement already satisfied: jsonschema>=2.6 in c:\\users\\mmartinovic\\06-datasciencemasterclass\\.venv\\lib\\site-packages (from nbformat>=4.2.0->pycaret) (4.21.1)\n",
      "Requirement already satisfied: jupyter-core!=5.0.*,>=4.12 in c:\\users\\mmartinovic\\06-datasciencemasterclass\\.venv\\lib\\site-packages (from nbformat>=4.2.0->pycaret) (5.7.2)\n",
      "Requirement already satisfied: llvmlite<0.43,>=0.42.0dev0 in c:\\users\\mmartinovic\\06-datasciencemasterclass\\.venv\\lib\\site-packages (from numba>=0.55.0->pycaret) (0.42.0)\n",
      "Requirement already satisfied: pytz>=2020.1 in c:\\users\\mmartinovic\\06-datasciencemasterclass\\.venv\\lib\\site-packages (from pandas<2.2.0->pycaret) (2024.1)\n",
      "Requirement already satisfied: tzdata>=2022.1 in c:\\users\\mmartinovic\\06-datasciencemasterclass\\.venv\\lib\\site-packages (from pandas<2.2.0->pycaret) (2024.1)\n",
      "Requirement already satisfied: tenacity>=6.2.0 in c:\\users\\mmartinovic\\06-datasciencemasterclass\\.venv\\lib\\site-packages (from plotly>=5.14.0->pycaret) (8.3.0)\n",
      "Requirement already satisfied: dash>=2.9.0 in c:\\users\\mmartinovic\\06-datasciencemasterclass\\.venv\\lib\\site-packages (from plotly-resampler>=0.8.3.1->pycaret) (2.17.0)\n",
      "Requirement already satisfied: orjson<4.0.0,>=3.8.0 in c:\\users\\mmartinovic\\06-datasciencemasterclass\\.venv\\lib\\site-packages (from plotly-resampler>=0.8.3.1->pycaret) (3.10.3)\n",
      "Requirement already satisfied: tsdownsample>=0.1.3 in c:\\users\\mmartinovic\\06-datasciencemasterclass\\.venv\\lib\\site-packages (from plotly-resampler>=0.8.3.1->pycaret) (0.1.3)\n",
      "Requirement already satisfied: Cython!=0.29.18,!=0.29.31,>=0.29 in c:\\users\\mmartinovic\\06-datasciencemasterclass\\.venv\\lib\\site-packages (from pmdarima>=2.0.4->pycaret) (3.0.10)\n",
      "Requirement already satisfied: urllib3 in c:\\users\\mmartinovic\\06-datasciencemasterclass\\.venv\\lib\\site-packages (from pmdarima>=2.0.4->pycaret) (1.26.18)\n",
      "Requirement already satisfied: setuptools!=50.0.0,>=38.6.0 in c:\\users\\mmartinovic\\06-datasciencemasterclass\\.venv\\lib\\site-packages (from pmdarima>=2.0.4->pycaret) (69.0.3)\n",
      "Requirement already satisfied: charset-normalizer<4,>=2 in c:\\users\\mmartinovic\\06-datasciencemasterclass\\.venv\\lib\\site-packages (from requests>=2.27.1->pycaret) (3.3.2)\n",
      "Requirement already satisfied: idna<4,>=2.5 in c:\\users\\mmartinovic\\06-datasciencemasterclass\\.venv\\lib\\site-packages (from requests>=2.27.1->pycaret) (3.7)\n",
      "Requirement already satisfied: certifi>=2017.4.17 in c:\\users\\mmartinovic\\06-datasciencemasterclass\\.venv\\lib\\site-packages (from requests>=2.27.1->pycaret) (2024.2.2)\n",
      "Requirement already satisfied: Flask<3.1,>=1.0.4 in c:\\users\\mmartinovic\\06-datasciencemasterclass\\.venv\\lib\\site-packages (from dash>=2.9.0->plotly-resampler>=0.8.3.1->pycaret) (3.0.3)\n",
      "Requirement already satisfied: Werkzeug<3.1 in c:\\users\\mmartinovic\\06-datasciencemasterclass\\.venv\\lib\\site-packages (from dash>=2.9.0->plotly-resampler>=0.8.3.1->pycaret) (3.0.3)\n",
      "Requirement already satisfied: dash-html-components==2.0.0 in c:\\users\\mmartinovic\\06-datasciencemasterclass\\.venv\\lib\\site-packages (from dash>=2.9.0->plotly-resampler>=0.8.3.1->pycaret) (2.0.0)\n",
      "Requirement already satisfied: dash-core-components==2.0.0 in c:\\users\\mmartinovic\\06-datasciencemasterclass\\.venv\\lib\\site-packages (from dash>=2.9.0->plotly-resampler>=0.8.3.1->pycaret) (2.0.0)\n",
      "Requirement already satisfied: dash-table==5.0.0 in c:\\users\\mmartinovic\\06-datasciencemasterclass\\.venv\\lib\\site-packages (from dash>=2.9.0->plotly-resampler>=0.8.3.1->pycaret) (5.0.0)\n",
      "Requirement already satisfied: retrying in c:\\users\\mmartinovic\\06-datasciencemasterclass\\.venv\\lib\\site-packages (from dash>=2.9.0->plotly-resampler>=0.8.3.1->pycaret) (1.3.4)\n",
      "Requirement already satisfied: nest-asyncio in c:\\users\\mmartinovic\\06-datasciencemasterclass\\.venv\\lib\\site-packages (from dash>=2.9.0->plotly-resampler>=0.8.3.1->pycaret) (1.6.0)\n",
      "Requirement already satisfied: parso<0.9.0,>=0.8.3 in c:\\users\\mmartinovic\\06-datasciencemasterclass\\.venv\\lib\\site-packages (from jedi>=0.16->ipython>=5.5.0->pycaret) (0.8.4)\n",
      "Requirement already satisfied: attrs>=22.2.0 in c:\\users\\mmartinovic\\06-datasciencemasterclass\\.venv\\lib\\site-packages (from jsonschema>=2.6->nbformat>=4.2.0->pycaret) (23.2.0)\n",
      "Requirement already satisfied: jsonschema-specifications>=2023.03.6 in c:\\users\\mmartinovic\\06-datasciencemasterclass\\.venv\\lib\\site-packages (from jsonschema>=2.6->nbformat>=4.2.0->pycaret) (2023.12.1)\n",
      "Requirement already satisfied: referencing>=0.28.4 in c:\\users\\mmartinovic\\06-datasciencemasterclass\\.venv\\lib\\site-packages (from jsonschema>=2.6->nbformat>=4.2.0->pycaret) (0.34.0)\n",
      "Requirement already satisfied: rpds-py>=0.7.1 in c:\\users\\mmartinovic\\06-datasciencemasterclass\\.venv\\lib\\site-packages (from jsonschema>=2.6->nbformat>=4.2.0->pycaret) (0.18.0)\n",
      "Requirement already satisfied: platformdirs>=2.5 in c:\\users\\mmartinovic\\06-datasciencemasterclass\\.venv\\lib\\site-packages (from jupyter-core!=5.0.*,>=4.12->nbformat>=4.2.0->pycaret) (4.2.0)\n",
      "Requirement already satisfied: pywin32>=300 in c:\\users\\mmartinovic\\06-datasciencemasterclass\\.venv\\lib\\site-packages (from jupyter-core!=5.0.*,>=4.12->nbformat>=4.2.0->pycaret) (306)\n",
      "Requirement already satisfied: six in c:\\users\\mmartinovic\\06-datasciencemasterclass\\.venv\\lib\\site-packages (from patsy>=0.5.1->category-encoders>=2.4.0->pycaret) (1.16.0)\n",
      "Requirement already satisfied: wcwidth in c:\\users\\mmartinovic\\06-datasciencemasterclass\\.venv\\lib\\site-packages (from prompt-toolkit<3.1.0,>=3.0.41->ipython>=5.5.0->pycaret) (0.2.13)\n",
      "Requirement already satisfied: executing>=1.2.0 in c:\\users\\mmartinovic\\06-datasciencemasterclass\\.venv\\lib\\site-packages (from stack-data->ipython>=5.5.0->pycaret) (2.0.1)\n",
      "Requirement already satisfied: asttokens>=2.1.0 in c:\\users\\mmartinovic\\06-datasciencemasterclass\\.venv\\lib\\site-packages (from stack-data->ipython>=5.5.0->pycaret) (2.4.1)\n",
      "Requirement already satisfied: pure-eval in c:\\users\\mmartinovic\\06-datasciencemasterclass\\.venv\\lib\\site-packages (from stack-data->ipython>=5.5.0->pycaret) (0.2.2)\n",
      "Requirement already satisfied: itsdangerous>=2.1.2 in c:\\users\\mmartinovic\\06-datasciencemasterclass\\.venv\\lib\\site-packages (from Flask<3.1,>=1.0.4->dash>=2.9.0->plotly-resampler>=0.8.3.1->pycaret) (2.2.0)\n",
      "Requirement already satisfied: click>=8.1.3 in c:\\users\\mmartinovic\\06-datasciencemasterclass\\.venv\\lib\\site-packages (from Flask<3.1,>=1.0.4->dash>=2.9.0->plotly-resampler>=0.8.3.1->pycaret) (8.1.7)\n",
      "Requirement already satisfied: blinker>=1.6.2 in c:\\users\\mmartinovic\\06-datasciencemasterclass\\.venv\\lib\\site-packages (from Flask<3.1,>=1.0.4->dash>=2.9.0->plotly-resampler>=0.8.3.1->pycaret) (1.8.2)\n"
     ]
    },
    {
     "name": "stderr",
     "output_type": "stream",
     "text": [
      "\n",
      "[notice] A new release of pip is available: 24.0 -> 24.1.1\n",
      "[notice] To update, run: python.exe -m pip install --upgrade pip\n"
     ]
    }
   ],
   "source": [
    "!pip install pycaret"
   ]
  },
  {
   "cell_type": "code",
   "execution_count": 2,
   "metadata": {},
   "outputs": [
    {
     "name": "stdout",
     "output_type": "stream",
     "text": [
      "Requirement already satisfied: shap in c:\\users\\mmartinovic\\06-datasciencemasterclass\\.venv\\lib\\site-packages (0.44.1)"
     ]
    },
    {
     "name": "stderr",
     "output_type": "stream",
     "text": [
      "\n",
      "[notice] A new release of pip is available: 24.0 -> 24.1.1\n",
      "[notice] To update, run: python.exe -m pip install --upgrade pip\n"
     ]
    },
    {
     "name": "stdout",
     "output_type": "stream",
     "text": [
      "\n",
      "Requirement already satisfied: numpy in c:\\users\\mmartinovic\\06-datasciencemasterclass\\.venv\\lib\\site-packages (from shap) (1.26.4)\n",
      "Requirement already satisfied: scipy in c:\\users\\mmartinovic\\06-datasciencemasterclass\\.venv\\lib\\site-packages (from shap) (1.11.4)\n",
      "Requirement already satisfied: scikit-learn in c:\\users\\mmartinovic\\06-datasciencemasterclass\\.venv\\lib\\site-packages (from shap) (1.4.2)\n",
      "Requirement already satisfied: pandas in c:\\users\\mmartinovic\\06-datasciencemasterclass\\.venv\\lib\\site-packages (from shap) (2.1.4)\n",
      "Requirement already satisfied: tqdm>=4.27.0 in c:\\users\\mmartinovic\\06-datasciencemasterclass\\.venv\\lib\\site-packages (from shap) (4.64.1)\n",
      "Requirement already satisfied: packaging>20.9 in c:\\users\\mmartinovic\\06-datasciencemasterclass\\.venv\\lib\\site-packages (from shap) (24.0)\n",
      "Requirement already satisfied: slicer==0.0.7 in c:\\users\\mmartinovic\\06-datasciencemasterclass\\.venv\\lib\\site-packages (from shap) (0.0.7)\n",
      "Requirement already satisfied: numba in c:\\users\\mmartinovic\\06-datasciencemasterclass\\.venv\\lib\\site-packages (from shap) (0.59.1)\n",
      "Requirement already satisfied: cloudpickle in c:\\users\\mmartinovic\\06-datasciencemasterclass\\.venv\\lib\\site-packages (from shap) (3.0.0)\n",
      "Requirement already satisfied: colorama in c:\\users\\mmartinovic\\06-datasciencemasterclass\\.venv\\lib\\site-packages (from tqdm>=4.27.0->shap) (0.4.6)\n",
      "Requirement already satisfied: llvmlite<0.43,>=0.42.0dev0 in c:\\users\\mmartinovic\\06-datasciencemasterclass\\.venv\\lib\\site-packages (from numba->shap) (0.42.0)\n",
      "Requirement already satisfied: python-dateutil>=2.8.2 in c:\\users\\mmartinovic\\06-datasciencemasterclass\\.venv\\lib\\site-packages (from pandas->shap) (2.9.0.post0)\n",
      "Requirement already satisfied: pytz>=2020.1 in c:\\users\\mmartinovic\\06-datasciencemasterclass\\.venv\\lib\\site-packages (from pandas->shap) (2024.1)\n",
      "Requirement already satisfied: tzdata>=2022.1 in c:\\users\\mmartinovic\\06-datasciencemasterclass\\.venv\\lib\\site-packages (from pandas->shap) (2024.1)\n",
      "Requirement already satisfied: joblib>=1.2.0 in c:\\users\\mmartinovic\\06-datasciencemasterclass\\.venv\\lib\\site-packages (from scikit-learn->shap) (1.3.2)\n",
      "Requirement already satisfied: threadpoolctl>=2.0.0 in c:\\users\\mmartinovic\\06-datasciencemasterclass\\.venv\\lib\\site-packages (from scikit-learn->shap) (3.5.0)\n",
      "Requirement already satisfied: six>=1.5 in c:\\users\\mmartinovic\\06-datasciencemasterclass\\.venv\\lib\\site-packages (from python-dateutil>=2.8.2->pandas->shap) (1.16.0)\n"
     ]
    }
   ],
   "source": [
    "!pip install shap"
   ]
  },
  {
   "cell_type": "code",
   "execution_count": 3,
   "metadata": {},
   "outputs": [
    {
     "name": "stdout",
     "output_type": "stream",
     "text": [
      "Requirement already satisfied: pycaret[analysis] in c:\\users\\mmartinovic\\06-datasciencemasterclass\\.venv\\lib\\site-packages (3.3.2)\n",
      "Requirement already satisfied: ipython>=5.5.0 in c:\\users\\mmartinovic\\06-datasciencemasterclass\\.venv\\lib\\site-packages (from pycaret[analysis]) (8.23.0)\n",
      "Requirement already satisfied: ipywidgets>=7.6.5 in c:\\users\\mmartinovic\\06-datasciencemasterclass\\.venv\\lib\\site-packages (from pycaret[analysis]) (8.1.3)\n",
      "Requirement already satisfied: tqdm>=4.62.0 in c:\\users\\mmartinovic\\06-datasciencemasterclass\\.venv\\lib\\site-packages (from pycaret[analysis]) (4.64.1)\n",
      "Requirement already satisfied: numpy<1.27,>=1.21 in c:\\users\\mmartinovic\\06-datasciencemasterclass\\.venv\\lib\\site-packages (from pycaret[analysis]) (1.26.4)\n",
      "Requirement already satisfied: pandas<2.2.0 in c:\\users\\mmartinovic\\06-datasciencemasterclass\\.venv\\lib\\site-packages (from pycaret[analysis]) (2.1.4)\n",
      "Requirement already satisfied: jinja2>=3 in c:\\users\\mmartinovic\\06-datasciencemasterclass\\.venv\\lib\\site-packages (from pycaret[analysis]) (3.1.3)\n",
      "Requirement already satisfied: scipy<=1.11.4,>=1.6.1 in c:\\users\\mmartinovic\\06-datasciencemasterclass\\.venv\\lib\\site-packages (from pycaret[analysis]) (1.11.4)\n",
      "Requirement already satisfied: joblib<1.4,>=1.2.0 in c:\\users\\mmartinovic\\06-datasciencemasterclass\\.venv\\lib\\site-packages (from pycaret[analysis]) (1.3.2)\n",
      "Requirement already satisfied: scikit-learn>1.4.0 in c:\\users\\mmartinovic\\06-datasciencemasterclass\\.venv\\lib\\site-packages (from pycaret[analysis]) (1.4.2)\n",
      "Requirement already satisfied: pyod>=1.1.3 in c:\\users\\mmartinovic\\06-datasciencemasterclass\\.venv\\lib\\site-packages (from pycaret[analysis]) (2.0.0)\n",
      "Requirement already satisfied: imbalanced-learn>=0.12.0 in c:\\users\\mmartinovic\\06-datasciencemasterclass\\.venv\\lib\\site-packages (from pycaret[analysis]) (0.12.3)\n",
      "Requirement already satisfied: category-encoders>=2.4.0 in c:\\users\\mmartinovic\\06-datasciencemasterclass\\.venv\\lib\\site-packages (from pycaret[analysis]) (2.6.3)\n",
      "Requirement already satisfied: lightgbm>=3.0.0 in c:\\users\\mmartinovic\\06-datasciencemasterclass\\.venv\\lib\\site-packages (from pycaret[analysis]) (4.3.0)\n",
      "Requirement already satisfied: numba>=0.55.0 in c:\\users\\mmartinovic\\06-datasciencemasterclass\\.venv\\lib\\site-packages (from pycaret[analysis]) (0.59.1)\n",
      "Requirement already satisfied: requests>=2.27.1 in c:\\users\\mmartinovic\\06-datasciencemasterclass\\.venv\\lib\\site-packages (from pycaret[analysis]) (2.28.2)\n",
      "Requirement already satisfied: psutil>=5.9.0 in c:\\users\\mmartinovic\\06-datasciencemasterclass\\.venv\\lib\\site-packages (from pycaret[analysis]) (5.9.8)\n",
      "Requirement already satisfied: markupsafe>=2.0.1 in c:\\users\\mmartinovic\\06-datasciencemasterclass\\.venv\\lib\\site-packages (from pycaret[analysis]) (2.1.4)\n",
      "Requirement already satisfied: importlib-metadata>=4.12.0 in c:\\users\\mmartinovic\\06-datasciencemasterclass\\.venv\\lib\\site-packages (from pycaret[analysis]) (7.1.0)\n",
      "Requirement already satisfied: nbformat>=4.2.0 in c:\\users\\mmartinovic\\06-datasciencemasterclass\\.venv\\lib\\site-packages (from pycaret[analysis]) (5.10.4)\n",
      "Requirement already satisfied: cloudpickle in c:\\users\\mmartinovic\\06-datasciencemasterclass\\.venv\\lib\\site-packages (from pycaret[analysis]) (3.0.0)\n",
      "Requirement already satisfied: deprecation>=2.1.0 in c:\\users\\mmartinovic\\06-datasciencemasterclass\\.venv\\lib\\site-packages (from pycaret[analysis]) (2.1.0)\n",
      "Requirement already satisfied: xxhash in c:\\users\\mmartinovic\\06-datasciencemasterclass\\.venv\\lib\\site-packages (from pycaret[analysis]) (3.4.1)\n",
      "Requirement already satisfied: matplotlib<3.8.0 in c:\\users\\mmartinovic\\06-datasciencemasterclass\\.venv\\lib\\site-packages (from pycaret[analysis]) (3.6.3)\n",
      "Requirement already satisfied: scikit-plot>=0.3.7 in c:\\users\\mmartinovic\\06-datasciencemasterclass\\.venv\\lib\\site-packages (from pycaret[analysis]) (0.3.7)\n",
      "Requirement already satisfied: yellowbrick>=1.4 in c:\\users\\mmartinovic\\06-datasciencemasterclass\\.venv\\lib\\site-packages (from pycaret[analysis]) (1.5)\n",
      "Requirement already satisfied: plotly>=5.14.0 in c:\\users\\mmartinovic\\06-datasciencemasterclass\\.venv\\lib\\site-packages (from pycaret[analysis]) (5.22.0)\n",
      "Requirement already satisfied: kaleido>=0.2.1 in c:\\users\\mmartinovic\\06-datasciencemasterclass\\.venv\\lib\\site-packages (from pycaret[analysis]) (0.2.1)\n",
      "Requirement already satisfied: schemdraw==0.15 in c:\\users\\mmartinovic\\06-datasciencemasterclass\\.venv\\lib\\site-packages (from pycaret[analysis]) (0.15)\n",
      "Requirement already satisfied: plotly-resampler>=0.8.3.1 in c:\\users\\mmartinovic\\06-datasciencemasterclass\\.venv\\lib\\site-packages (from pycaret[analysis]) (0.10.0)\n",
      "Requirement already satisfied: statsmodels>=0.12.1 in c:\\users\\mmartinovic\\06-datasciencemasterclass\\.venv\\lib\\site-packages (from pycaret[analysis]) (0.13.5)\n",
      "Requirement already satisfied: sktime==0.26.0 in c:\\users\\mmartinovic\\06-datasciencemasterclass\\.venv\\lib\\site-packages (from pycaret[analysis]) (0.26.0)\n",
      "Requirement already satisfied: tbats>=1.1.3 in c:\\users\\mmartinovic\\06-datasciencemasterclass\\.venv\\lib\\site-packages (from pycaret[analysis]) (1.1.3)\n",
      "Requirement already satisfied: pmdarima>=2.0.4 in c:\\users\\mmartinovic\\06-datasciencemasterclass\\.venv\\lib\\site-packages (from pycaret[analysis]) (2.0.4)\n",
      "Requirement already satisfied: shap~=0.44.0 in c:\\users\\mmartinovic\\06-datasciencemasterclass\\.venv\\lib\\site-packages (from pycaret[analysis]) (0.44.1)\n",
      "Requirement already satisfied: interpret>=0.2.7 in c:\\users\\mmartinovic\\06-datasciencemasterclass\\.venv\\lib\\site-packages (from pycaret[analysis]) (0.6.1)\n",
      "Requirement already satisfied: umap-learn>=0.5.2 in c:\\users\\mmartinovic\\06-datasciencemasterclass\\.venv\\lib\\site-packages (from pycaret[analysis]) (0.5.6)\n",
      "Requirement already satisfied: pyyaml in c:\\users\\mmartinovic\\06-datasciencemasterclass\\.venv\\lib\\site-packages (from pycaret[analysis]) (6.0.1)\n",
      "Requirement already satisfied: ydata-profiling>=4.3.1 in c:\\users\\mmartinovic\\06-datasciencemasterclass\\.venv\\lib\\site-packages (from pycaret[analysis]) (4.8.3)\n",
      "Requirement already satisfied: explainerdashboard>=0.3.8 in c:\\users\\mmartinovic\\06-datasciencemasterclass\\.venv\\lib\\site-packages (from pycaret[analysis]) (0.4.7)\n",
      "Requirement already satisfied: fairlearn==0.7.0 in c:\\users\\mmartinovic\\06-datasciencemasterclass\\.venv\\lib\\site-packages (from pycaret[analysis]) (0.7.0)\n",
      "Requirement already satisfied: packaging in c:\\users\\mmartinovic\\06-datasciencemasterclass\\.venv\\lib\\site-packages (from sktime==0.26.0->pycaret[analysis]) (24.0)\n",
      "Requirement already satisfied: scikit-base<0.8.0 in c:\\users\\mmartinovic\\06-datasciencemasterclass\\.venv\\lib\\site-packages (from sktime==0.26.0->pycaret[analysis]) (0.7.8)\n",
      "Requirement already satisfied: patsy>=0.5.1 in c:\\users\\mmartinovic\\06-datasciencemasterclass\\.venv\\lib\\site-packages (from category-encoders>=2.4.0->pycaret[analysis]) (0.5.6)\n",
      "Requirement already satisfied: click in c:\\users\\mmartinovic\\06-datasciencemasterclass\\.venv\\lib\\site-packages (from explainerdashboard>=0.3.8->pycaret[analysis]) (8.1.7)\n",
      "Requirement already satisfied: dash-auth in c:\\users\\mmartinovic\\06-datasciencemasterclass\\.venv\\lib\\site-packages (from explainerdashboard>=0.3.8->pycaret[analysis]) (2.3.0)\n",
      "Requirement already satisfied: dash-bootstrap-components>=1 in c:\\users\\mmartinovic\\06-datasciencemasterclass\\.venv\\lib\\site-packages (from explainerdashboard>=0.3.8->pycaret[analysis]) (1.6.0)\n",
      "Requirement already satisfied: dash>=2.10.1 in c:\\users\\mmartinovic\\06-datasciencemasterclass\\.venv\\lib\\site-packages (from explainerdashboard>=0.3.8->pycaret[analysis]) (2.17.0)\n",
      "Requirement already satisfied: dtreeviz>=2.1 in c:\\users\\mmartinovic\\06-datasciencemasterclass\\.venv\\lib\\site-packages (from explainerdashboard>=0.3.8->pycaret[analysis]) (2.2.2)\n",
      "Requirement already satisfied: flask-simplelogin in c:\\users\\mmartinovic\\06-datasciencemasterclass\\.venv\\lib\\site-packages (from explainerdashboard>=0.3.8->pycaret[analysis]) (0.1.2)\n",
      "Requirement already satisfied: Flask-WTF>=1.1 in c:\\users\\mmartinovic\\06-datasciencemasterclass\\.venv\\lib\\site-packages (from explainerdashboard>=0.3.8->pycaret[analysis]) (1.2.1)\n",
      "Requirement already satisfied: graphviz>=0.18.2 in c:\\users\\mmartinovic\\06-datasciencemasterclass\\.venv\\lib\\site-packages (from explainerdashboard>=0.3.8->pycaret[analysis]) (0.20.3)\n",
      "Requirement already satisfied: jupyter-dash>=0.4.1 in c:\\users\\mmartinovic\\06-datasciencemasterclass\\.venv\\lib\\site-packages (from explainerdashboard>=0.3.8->pycaret[analysis]) (0.4.2)\n",
      "Requirement already satisfied: oyaml in c:\\users\\mmartinovic\\06-datasciencemasterclass\\.venv\\lib\\site-packages (from explainerdashboard>=0.3.8->pycaret[analysis]) (1.0)\n",
      "Requirement already satisfied: waitress in c:\\users\\mmartinovic\\06-datasciencemasterclass\\.venv\\lib\\site-packages (from explainerdashboard>=0.3.8->pycaret[analysis]) (3.0.0)\n",
      "Requirement already satisfied: threadpoolctl>=2.0.0 in c:\\users\\mmartinovic\\06-datasciencemasterclass\\.venv\\lib\\site-packages (from imbalanced-learn>=0.12.0->pycaret[analysis]) (3.5.0)\n",
      "Requirement already satisfied: zipp>=0.5 in c:\\users\\mmartinovic\\06-datasciencemasterclass\\.venv\\lib\\site-packages (from importlib-metadata>=4.12.0->pycaret[analysis]) (3.19.2)\n",
      "Requirement already satisfied: interpret-core==0.6.1 in c:\\users\\mmartinovic\\06-datasciencemasterclass\\.venv\\lib\\site-packages (from interpret-core[dash,debug,linear,notebook,plotly,sensitivity,shap]==0.6.1->interpret>=0.2.7->pycaret[analysis]) (0.6.1)\n",
      "Requirement already satisfied: dash-core-components>=1.0.0 in c:\\users\\mmartinovic\\06-datasciencemasterclass\\.venv\\lib\\site-packages (from interpret-core[dash,debug,linear,notebook,plotly,sensitivity,shap]==0.6.1->interpret>=0.2.7->pycaret[analysis]) (2.0.0)\n",
      "Requirement already satisfied: dash-html-components>=1.0.0 in c:\\users\\mmartinovic\\06-datasciencemasterclass\\.venv\\lib\\site-packages (from interpret-core[dash,debug,linear,notebook,plotly,sensitivity,shap]==0.6.1->interpret>=0.2.7->pycaret[analysis]) (2.0.0)\n",
      "Requirement already satisfied: dash-table>=4.1.0 in c:\\users\\mmartinovic\\06-datasciencemasterclass\\.venv\\lib\\site-packages (from interpret-core[dash,debug,linear,notebook,plotly,sensitivity,shap]==0.6.1->interpret>=0.2.7->pycaret[analysis]) (5.0.0)\n",
      "Requirement already satisfied: dash-cytoscape>=0.1.1 in c:\\users\\mmartinovic\\06-datasciencemasterclass\\.venv\\lib\\site-packages (from interpret-core[dash,debug,linear,notebook,plotly,sensitivity,shap]==0.6.1->interpret>=0.2.7->pycaret[analysis]) (1.0.1)\n",
      "Requirement already satisfied: gevent>=1.3.6 in c:\\users\\mmartinovic\\06-datasciencemasterclass\\.venv\\lib\\site-packages (from interpret-core[dash,debug,linear,notebook,plotly,sensitivity,shap]==0.6.1->interpret>=0.2.7->pycaret[analysis]) (24.2.1)\n",
      "Requirement already satisfied: ipykernel>=4.10.0 in c:\\users\\mmartinovic\\06-datasciencemasterclass\\.venv\\lib\\site-packages (from interpret-core[dash,debug,linear,notebook,plotly,sensitivity,shap]==0.6.1->interpret>=0.2.7->pycaret[analysis]) (6.29.4)\n",
      "Requirement already satisfied: SALib>=1.3.3 in c:\\users\\mmartinovic\\06-datasciencemasterclass\\.venv\\lib\\site-packages (from interpret-core[dash,debug,linear,notebook,plotly,sensitivity,shap]==0.6.1->interpret>=0.2.7->pycaret[analysis]) (1.5.0)\n",
      "Requirement already satisfied: dill>=0.2.5 in c:\\users\\mmartinovic\\06-datasciencemasterclass\\.venv\\lib\\site-packages (from interpret-core[dash,debug,linear,notebook,plotly,sensitivity,shap]==0.6.1->interpret>=0.2.7->pycaret[analysis]) (0.3.8)\n",
      "Requirement already satisfied: decorator in c:\\users\\mmartinovic\\06-datasciencemasterclass\\.venv\\lib\\site-packages (from ipython>=5.5.0->pycaret[analysis]) (5.1.1)\n",
      "Requirement already satisfied: jedi>=0.16 in c:\\users\\mmartinovic\\06-datasciencemasterclass\\.venv\\lib\\site-packages (from ipython>=5.5.0->pycaret[analysis]) (0.19.1)\n",
      "Requirement already satisfied: matplotlib-inline in c:\\users\\mmartinovic\\06-datasciencemasterclass\\.venv\\lib\\site-packages (from ipython>=5.5.0->pycaret[analysis]) (0.1.6)\n",
      "Requirement already satisfied: prompt-toolkit<3.1.0,>=3.0.41 in c:\\users\\mmartinovic\\06-datasciencemasterclass\\.venv\\lib\\site-packages (from ipython>=5.5.0->pycaret[analysis]) (3.0.43)\n",
      "Requirement already satisfied: pygments>=2.4.0 in c:\\users\\mmartinovic\\06-datasciencemasterclass\\.venv\\lib\\site-packages (from ipython>=5.5.0->pycaret[analysis]) (2.17.2)\n",
      "Requirement already satisfied: stack-data in c:\\users\\mmartinovic\\06-datasciencemasterclass\\.venv\\lib\\site-packages (from ipython>=5.5.0->pycaret[analysis]) (0.6.3)\n",
      "Requirement already satisfied: traitlets>=5.13.0 in c:\\users\\mmartinovic\\06-datasciencemasterclass\\.venv\\lib\\site-packages (from ipython>=5.5.0->pycaret[analysis]) (5.14.2)\n",
      "Requirement already satisfied: typing-extensions in c:\\users\\mmartinovic\\06-datasciencemasterclass\\.venv\\lib\\site-packages (from ipython>=5.5.0->pycaret[analysis]) (4.11.0)\n",
      "Requirement already satisfied: colorama in c:\\users\\mmartinovic\\06-datasciencemasterclass\\.venv\\lib\\site-packages (from ipython>=5.5.0->pycaret[analysis]) (0.4.6)\n",
      "Requirement already satisfied: comm>=0.1.3 in c:\\users\\mmartinovic\\06-datasciencemasterclass\\.venv\\lib\\site-packages (from ipywidgets>=7.6.5->pycaret[analysis]) (0.2.2)\n",
      "Requirement already satisfied: widgetsnbextension~=4.0.11 in c:\\users\\mmartinovic\\06-datasciencemasterclass\\.venv\\lib\\site-packages (from ipywidgets>=7.6.5->pycaret[analysis]) (4.0.11)\n",
      "Requirement already satisfied: jupyterlab-widgets~=3.0.11 in c:\\users\\mmartinovic\\06-datasciencemasterclass\\.venv\\lib\\site-packages (from ipywidgets>=7.6.5->pycaret[analysis]) (3.0.11)\n",
      "Requirement already satisfied: contourpy>=1.0.1 in c:\\users\\mmartinovic\\06-datasciencemasterclass\\.venv\\lib\\site-packages (from matplotlib<3.8.0->pycaret[analysis]) (1.2.1)\n",
      "Requirement already satisfied: cycler>=0.10 in c:\\users\\mmartinovic\\06-datasciencemasterclass\\.venv\\lib\\site-packages (from matplotlib<3.8.0->pycaret[analysis]) (0.12.1)\n",
      "Requirement already satisfied: fonttools>=4.22.0 in c:\\users\\mmartinovic\\06-datasciencemasterclass\\.venv\\lib\\site-packages (from matplotlib<3.8.0->pycaret[analysis]) (4.51.0)\n",
      "Requirement already satisfied: kiwisolver>=1.0.1 in c:\\users\\mmartinovic\\06-datasciencemasterclass\\.venv\\lib\\site-packages (from matplotlib<3.8.0->pycaret[analysis]) (1.4.5)\n",
      "Requirement already satisfied: pillow>=6.2.0 in c:\\users\\mmartinovic\\06-datasciencemasterclass\\.venv\\lib\\site-packages (from matplotlib<3.8.0->pycaret[analysis]) (10.3.0)\n",
      "Requirement already satisfied: pyparsing>=2.2.1 in c:\\users\\mmartinovic\\06-datasciencemasterclass\\.venv\\lib\\site-packages (from matplotlib<3.8.0->pycaret[analysis]) (3.1.2)\n",
      "Requirement already satisfied: python-dateutil>=2.7 in c:\\users\\mmartinovic\\06-datasciencemasterclass\\.venv\\lib\\site-packages (from matplotlib<3.8.0->pycaret[analysis]) (2.9.0.post0)\n",
      "Requirement already satisfied: fastjsonschema>=2.15 in c:\\users\\mmartinovic\\06-datasciencemasterclass\\.venv\\lib\\site-packages (from nbformat>=4.2.0->pycaret[analysis]) (2.19.1)\n",
      "Requirement already satisfied: jsonschema>=2.6 in c:\\users\\mmartinovic\\06-datasciencemasterclass\\.venv\\lib\\site-packages (from nbformat>=4.2.0->pycaret[analysis]) (4.21.1)\n",
      "Requirement already satisfied: jupyter-core!=5.0.*,>=4.12 in c:\\users\\mmartinovic\\06-datasciencemasterclass\\.venv\\lib\\site-packages (from nbformat>=4.2.0->pycaret[analysis]) (5.7.2)\n",
      "Requirement already satisfied: llvmlite<0.43,>=0.42.0dev0 in c:\\users\\mmartinovic\\06-datasciencemasterclass\\.venv\\lib\\site-packages (from numba>=0.55.0->pycaret[analysis]) (0.42.0)\n",
      "Requirement already satisfied: pytz>=2020.1 in c:\\users\\mmartinovic\\06-datasciencemasterclass\\.venv\\lib\\site-packages (from pandas<2.2.0->pycaret[analysis]) (2024.1)\n",
      "Requirement already satisfied: tzdata>=2022.1 in c:\\users\\mmartinovic\\06-datasciencemasterclass\\.venv\\lib\\site-packages (from pandas<2.2.0->pycaret[analysis]) (2024.1)\n",
      "Requirement already satisfied: tenacity>=6.2.0 in c:\\users\\mmartinovic\\06-datasciencemasterclass\\.venv\\lib\\site-packages (from plotly>=5.14.0->pycaret[analysis]) (8.3.0)\n",
      "Requirement already satisfied: orjson<4.0.0,>=3.8.0 in c:\\users\\mmartinovic\\06-datasciencemasterclass\\.venv\\lib\\site-packages (from plotly-resampler>=0.8.3.1->pycaret[analysis]) (3.10.3)\n",
      "Requirement already satisfied: tsdownsample>=0.1.3 in c:\\users\\mmartinovic\\06-datasciencemasterclass\\.venv\\lib\\site-packages (from plotly-resampler>=0.8.3.1->pycaret[analysis]) (0.1.3)\n",
      "Requirement already satisfied: Cython!=0.29.18,!=0.29.31,>=0.29 in c:\\users\\mmartinovic\\06-datasciencemasterclass\\.venv\\lib\\site-packages (from pmdarima>=2.0.4->pycaret[analysis]) (3.0.10)\n",
      "Requirement already satisfied: urllib3 in c:\\users\\mmartinovic\\06-datasciencemasterclass\\.venv\\lib\\site-packages (from pmdarima>=2.0.4->pycaret[analysis]) (1.26.18)\n",
      "Requirement already satisfied: setuptools!=50.0.0,>=38.6.0 in c:\\users\\mmartinovic\\06-datasciencemasterclass\\.venv\\lib\\site-packages (from pmdarima>=2.0.4->pycaret[analysis]) (69.0.3)\n",
      "Requirement already satisfied: charset-normalizer<4,>=2 in c:\\users\\mmartinovic\\06-datasciencemasterclass\\.venv\\lib\\site-packages (from requests>=2.27.1->pycaret[analysis]) (3.3.2)\n",
      "Requirement already satisfied: idna<4,>=2.5 in c:\\users\\mmartinovic\\06-datasciencemasterclass\\.venv\\lib\\site-packages (from requests>=2.27.1->pycaret[analysis]) (3.7)\n",
      "Requirement already satisfied: certifi>=2017.4.17 in c:\\users\\mmartinovic\\06-datasciencemasterclass\\.venv\\lib\\site-packages (from requests>=2.27.1->pycaret[analysis]) (2024.2.2)\n",
      "Requirement already satisfied: slicer==0.0.7 in c:\\users\\mmartinovic\\06-datasciencemasterclass\\.venv\\lib\\site-packages (from shap~=0.44.0->pycaret[analysis]) (0.0.7)\n",
      "Requirement already satisfied: pynndescent>=0.5 in c:\\users\\mmartinovic\\06-datasciencemasterclass\\.venv\\lib\\site-packages (from umap-learn>=0.5.2->pycaret[analysis]) (0.5.12)\n",
      "Requirement already satisfied: pydantic>=2 in c:\\users\\mmartinovic\\06-datasciencemasterclass\\.venv\\lib\\site-packages (from ydata-profiling>=4.3.1->pycaret[analysis]) (2.7.3)\n",
      "Requirement already satisfied: visions<0.7.7,>=0.7.5 in c:\\users\\mmartinovic\\06-datasciencemasterclass\\.venv\\lib\\site-packages (from visions[type_image_path]<0.7.7,>=0.7.5->ydata-profiling>=4.3.1->pycaret[analysis]) (0.7.5)\n",
      "Requirement already satisfied: htmlmin==0.1.12 in c:\\users\\mmartinovic\\06-datasciencemasterclass\\.venv\\lib\\site-packages (from ydata-profiling>=4.3.1->pycaret[analysis]) (0.1.12)\n",
      "Requirement already satisfied: phik<0.13,>=0.11.1 in c:\\users\\mmartinovic\\06-datasciencemasterclass\\.venv\\lib\\site-packages (from ydata-profiling>=4.3.1->pycaret[analysis]) (0.12.4)\n",
      "Requirement already satisfied: seaborn<0.14,>=0.10.1 in c:\\users\\mmartinovic\\06-datasciencemasterclass\\.venv\\lib\\site-packages (from ydata-profiling>=4.3.1->pycaret[analysis]) (0.12.2)\n",
      "Requirement already satisfied: multimethod<2,>=1.4 in c:\\users\\mmartinovic\\06-datasciencemasterclass\\.venv\\lib\\site-packages (from ydata-profiling>=4.3.1->pycaret[analysis]) (1.9.1)\n",
      "Requirement already satisfied: typeguard<5,>=3 in c:\\users\\mmartinovic\\06-datasciencemasterclass\\.venv\\lib\\site-packages (from ydata-profiling>=4.3.1->pycaret[analysis]) (4.3.0)\n",
      "Requirement already satisfied: imagehash==4.3.1 in c:\\users\\mmartinovic\\06-datasciencemasterclass\\.venv\\lib\\site-packages (from ydata-profiling>=4.3.1->pycaret[analysis]) (4.3.1)\n",
      "Requirement already satisfied: wordcloud>=1.9.1 in c:\\users\\mmartinovic\\06-datasciencemasterclass\\.venv\\lib\\site-packages (from ydata-profiling>=4.3.1->pycaret[analysis]) (1.9.3)\n",
      "Requirement already satisfied: dacite>=1.8 in c:\\users\\mmartinovic\\06-datasciencemasterclass\\.venv\\lib\\site-packages (from ydata-profiling>=4.3.1->pycaret[analysis]) (1.8.1)\n",
      "Requirement already satisfied: PyWavelets in c:\\users\\mmartinovic\\06-datasciencemasterclass\\.venv\\lib\\site-packages (from imagehash==4.3.1->ydata-profiling>=4.3.1->pycaret[analysis]) (1.6.0)\n",
      "Requirement already satisfied: Flask<3.1,>=1.0.4 in c:\\users\\mmartinovic\\06-datasciencemasterclass\\.venv\\lib\\site-packages (from dash>=2.10.1->explainerdashboard>=0.3.8->pycaret[analysis]) (3.0.3)\n",
      "Requirement already satisfied: Werkzeug<3.1 in c:\\users\\mmartinovic\\06-datasciencemasterclass\\.venv\\lib\\site-packages (from dash>=2.10.1->explainerdashboard>=0.3.8->pycaret[analysis]) (3.0.3)\n",
      "Requirement already satisfied: retrying in c:\\users\\mmartinovic\\06-datasciencemasterclass\\.venv\\lib\\site-packages (from dash>=2.10.1->explainerdashboard>=0.3.8->pycaret[analysis]) (1.3.4)\n",
      "Requirement already satisfied: nest-asyncio in c:\\users\\mmartinovic\\06-datasciencemasterclass\\.venv\\lib\\site-packages (from dash>=2.10.1->explainerdashboard>=0.3.8->pycaret[analysis]) (1.6.0)\n",
      "Requirement already satisfied: colour in c:\\users\\mmartinovic\\06-datasciencemasterclass\\.venv\\lib\\site-packages (from dtreeviz>=2.1->explainerdashboard>=0.3.8->pycaret[analysis]) (0.1.5)\n",
      "Requirement already satisfied: pytest in c:\\users\\mmartinovic\\06-datasciencemasterclass\\.venv\\lib\\site-packages (from dtreeviz>=2.1->explainerdashboard>=0.3.8->pycaret[analysis]) (8.2.2)\n",
      "Requirement already satisfied: itsdangerous in c:\\users\\mmartinovic\\06-datasciencemasterclass\\.venv\\lib\\site-packages (from Flask-WTF>=1.1->explainerdashboard>=0.3.8->pycaret[analysis]) (2.2.0)\n",
      "Requirement already satisfied: wtforms in c:\\users\\mmartinovic\\06-datasciencemasterclass\\.venv\\lib\\site-packages (from Flask-WTF>=1.1->explainerdashboard>=0.3.8->pycaret[analysis]) (3.1.2)\n",
      "Requirement already satisfied: parso<0.9.0,>=0.8.3 in c:\\users\\mmartinovic\\06-datasciencemasterclass\\.venv\\lib\\site-packages (from jedi>=0.16->ipython>=5.5.0->pycaret[analysis]) (0.8.4)\n",
      "Requirement already satisfied: attrs>=22.2.0 in c:\\users\\mmartinovic\\06-datasciencemasterclass\\.venv\\lib\\site-packages (from jsonschema>=2.6->nbformat>=4.2.0->pycaret[analysis]) (23.2.0)\n",
      "Requirement already satisfied: jsonschema-specifications>=2023.03.6 in c:\\users\\mmartinovic\\06-datasciencemasterclass\\.venv\\lib\\site-packages (from jsonschema>=2.6->nbformat>=4.2.0->pycaret[analysis]) (2023.12.1)\n",
      "Requirement already satisfied: referencing>=0.28.4 in c:\\users\\mmartinovic\\06-datasciencemasterclass\\.venv\\lib\\site-packages (from jsonschema>=2.6->nbformat>=4.2.0->pycaret[analysis]) (0.34.0)\n",
      "Requirement already satisfied: rpds-py>=0.7.1 in c:\\users\\mmartinovic\\06-datasciencemasterclass\\.venv\\lib\\site-packages (from jsonschema>=2.6->nbformat>=4.2.0->pycaret[analysis]) (0.18.0)\n",
      "Requirement already satisfied: platformdirs>=2.5 in c:\\users\\mmartinovic\\06-datasciencemasterclass\\.venv\\lib\\site-packages (from jupyter-core!=5.0.*,>=4.12->nbformat>=4.2.0->pycaret[analysis]) (4.2.0)\n",
      "Requirement already satisfied: pywin32>=300 in c:\\users\\mmartinovic\\06-datasciencemasterclass\\.venv\\lib\\site-packages (from jupyter-core!=5.0.*,>=4.12->nbformat>=4.2.0->pycaret[analysis]) (306)\n",
      "Requirement already satisfied: ansi2html in c:\\users\\mmartinovic\\06-datasciencemasterclass\\.venv\\lib\\site-packages (from jupyter-dash>=0.4.1->explainerdashboard>=0.3.8->pycaret[analysis]) (1.9.1)\n",
      "Requirement already satisfied: six in c:\\users\\mmartinovic\\06-datasciencemasterclass\\.venv\\lib\\site-packages (from patsy>=0.5.1->category-encoders>=2.4.0->pycaret[analysis]) (1.16.0)\n",
      "Requirement already satisfied: wcwidth in c:\\users\\mmartinovic\\06-datasciencemasterclass\\.venv\\lib\\site-packages (from prompt-toolkit<3.1.0,>=3.0.41->ipython>=5.5.0->pycaret[analysis]) (0.2.13)\n",
      "Requirement already satisfied: annotated-types>=0.4.0 in c:\\users\\mmartinovic\\06-datasciencemasterclass\\.venv\\lib\\site-packages (from pydantic>=2->ydata-profiling>=4.3.1->pycaret[analysis]) (0.7.0)\n",
      "Requirement already satisfied: pydantic-core==2.18.4 in c:\\users\\mmartinovic\\06-datasciencemasterclass\\.venv\\lib\\site-packages (from pydantic>=2->ydata-profiling>=4.3.1->pycaret[analysis]) (2.18.4)\n",
      "Requirement already satisfied: networkx>=2.4 in c:\\users\\mmartinovic\\06-datasciencemasterclass\\.venv\\lib\\site-packages (from visions<0.7.7,>=0.7.5->visions[type_image_path]<0.7.7,>=0.7.5->ydata-profiling>=4.3.1->pycaret[analysis]) (3.3)\n",
      "Requirement already satisfied: tangled-up-in-unicode>=0.0.4 in c:\\users\\mmartinovic\\06-datasciencemasterclass\\.venv\\lib\\site-packages (from visions<0.7.7,>=0.7.5->visions[type_image_path]<0.7.7,>=0.7.5->ydata-profiling>=4.3.1->pycaret[analysis]) (0.2.0)\n",
      "Requirement already satisfied: executing>=1.2.0 in c:\\users\\mmartinovic\\06-datasciencemasterclass\\.venv\\lib\\site-packages (from stack-data->ipython>=5.5.0->pycaret[analysis]) (2.0.1)\n",
      "Requirement already satisfied: asttokens>=2.1.0 in c:\\users\\mmartinovic\\06-datasciencemasterclass\\.venv\\lib\\site-packages (from stack-data->ipython>=5.5.0->pycaret[analysis]) (2.4.1)\n",
      "Requirement already satisfied: pure-eval in c:\\users\\mmartinovic\\06-datasciencemasterclass\\.venv\\lib\\site-packages (from stack-data->ipython>=5.5.0->pycaret[analysis]) (0.2.2)\n",
      "Requirement already satisfied: blinker>=1.6.2 in c:\\users\\mmartinovic\\06-datasciencemasterclass\\.venv\\lib\\site-packages (from Flask<3.1,>=1.0.4->dash>=2.10.1->explainerdashboard>=0.3.8->pycaret[analysis]) (1.8.2)\n",
      "Requirement already satisfied: zope.event in c:\\users\\mmartinovic\\06-datasciencemasterclass\\.venv\\lib\\site-packages (from gevent>=1.3.6->interpret-core[dash,debug,linear,notebook,plotly,sensitivity,shap]==0.6.1->interpret>=0.2.7->pycaret[analysis]) (5.0)\n",
      "Requirement already satisfied: zope.interface in c:\\users\\mmartinovic\\06-datasciencemasterclass\\.venv\\lib\\site-packages (from gevent>=1.3.6->interpret-core[dash,debug,linear,notebook,plotly,sensitivity,shap]==0.6.1->interpret>=0.2.7->pycaret[analysis]) (6.4.post2)\n",
      "Requirement already satisfied: greenlet>=3.0rc3 in c:\\users\\mmartinovic\\06-datasciencemasterclass\\.venv\\lib\\site-packages (from gevent>=1.3.6->interpret-core[dash,debug,linear,notebook,plotly,sensitivity,shap]==0.6.1->interpret>=0.2.7->pycaret[analysis]) (3.0.3)\n",
      "Requirement already satisfied: cffi>=1.12.2 in c:\\users\\mmartinovic\\06-datasciencemasterclass\\.venv\\lib\\site-packages (from gevent>=1.3.6->interpret-core[dash,debug,linear,notebook,plotly,sensitivity,shap]==0.6.1->interpret>=0.2.7->pycaret[analysis]) (1.16.0)\n",
      "Requirement already satisfied: debugpy>=1.6.5 in c:\\users\\mmartinovic\\06-datasciencemasterclass\\.venv\\lib\\site-packages (from ipykernel>=4.10.0->interpret-core[dash,debug,linear,notebook,plotly,sensitivity,shap]==0.6.1->interpret>=0.2.7->pycaret[analysis]) (1.8.1)\n",
      "Requirement already satisfied: jupyter-client>=6.1.12 in c:\\users\\mmartinovic\\06-datasciencemasterclass\\.venv\\lib\\site-packages (from ipykernel>=4.10.0->interpret-core[dash,debug,linear,notebook,plotly,sensitivity,shap]==0.6.1->interpret>=0.2.7->pycaret[analysis]) (8.6.1)\n",
      "Requirement already satisfied: pyzmq>=24 in c:\\users\\mmartinovic\\06-datasciencemasterclass\\.venv\\lib\\site-packages (from ipykernel>=4.10.0->interpret-core[dash,debug,linear,notebook,plotly,sensitivity,shap]==0.6.1->interpret>=0.2.7->pycaret[analysis]) (26.0.0)\n",
      "Requirement already satisfied: tornado>=6.1 in c:\\users\\mmartinovic\\06-datasciencemasterclass\\.venv\\lib\\site-packages (from ipykernel>=4.10.0->interpret-core[dash,debug,linear,notebook,plotly,sensitivity,shap]==0.6.1->interpret>=0.2.7->pycaret[analysis]) (6.4)\n",
      "Requirement already satisfied: multiprocess in c:\\users\\mmartinovic\\06-datasciencemasterclass\\.venv\\lib\\site-packages (from SALib>=1.3.3->interpret-core[dash,debug,linear,notebook,plotly,sensitivity,shap]==0.6.1->interpret>=0.2.7->pycaret[analysis]) (0.70.16)\n",
      "Requirement already satisfied: iniconfig in c:\\users\\mmartinovic\\06-datasciencemasterclass\\.venv\\lib\\site-packages (from pytest->dtreeviz>=2.1->explainerdashboard>=0.3.8->pycaret[analysis]) (2.0.0)\n",
      "Requirement already satisfied: pluggy<2.0,>=1.5 in c:\\users\\mmartinovic\\06-datasciencemasterclass\\.venv\\lib\\site-packages (from pytest->dtreeviz>=2.1->explainerdashboard>=0.3.8->pycaret[analysis]) (1.5.0)\n",
      "Requirement already satisfied: pycparser in c:\\users\\mmartinovic\\06-datasciencemasterclass\\.venv\\lib\\site-packages (from cffi>=1.12.2->gevent>=1.3.6->interpret-core[dash,debug,linear,notebook,plotly,sensitivity,shap]==0.6.1->interpret>=0.2.7->pycaret[analysis]) (2.22)\n",
      "Note: you may need to restart the kernel to use updated packages.\n"
     ]
    },
    {
     "name": "stderr",
     "output_type": "stream",
     "text": [
      "\n",
      "[notice] A new release of pip is available: 24.0 -> 24.1.1\n",
      "[notice] To update, run: python.exe -m pip install --upgrade pip\n"
     ]
    }
   ],
   "source": [
    "pip install pycaret[analysis]"
   ]
  },
  {
   "cell_type": "code",
   "execution_count": 4,
   "metadata": {
    "application/vnd.databricks.v1+cell": {
     "cellMetadata": {
      "byteLimit": 2048000,
      "rowLimit": 10000
     },
     "inputWidgets": {},
     "nuid": "fee1863e-3899-4dc7-af03-172f9003ff14",
     "showTitle": false,
     "title": ""
    }
   },
   "outputs": [],
   "source": [
    "import pandas as pd\n",
    "\n",
    "df = pd.read_csv(r\"C:\\Users\\mmartinovic\\06-DataScienceMasterclass\\bank-additional-full\\bank-additional-full.csv\", sep=\";\")"
   ]
  },
  {
   "cell_type": "markdown",
   "metadata": {
    "application/vnd.databricks.v1+cell": {
     "cellMetadata": {},
     "inputWidgets": {},
     "nuid": "28268bfb-aa58-4707-b1f4-e16570126cd8",
     "showTitle": false,
     "title": ""
    }
   },
   "source": [
    "Before using AutoML tools, let's take a quick look at our dataset and its structure:"
   ]
  },
  {
   "cell_type": "code",
   "execution_count": 5,
   "metadata": {
    "application/vnd.databricks.v1+cell": {
     "cellMetadata": {
      "byteLimit": 2048000,
      "rowLimit": 10000
     },
     "inputWidgets": {},
     "nuid": "43c98b6e-3138-4dd4-bf9b-4ab896257652",
     "showTitle": false,
     "title": ""
    }
   },
   "outputs": [
    {
     "data": {
      "text/html": [
       "<div>\n",
       "<style scoped>\n",
       "    .dataframe tbody tr th:only-of-type {\n",
       "        vertical-align: middle;\n",
       "    }\n",
       "\n",
       "    .dataframe tbody tr th {\n",
       "        vertical-align: top;\n",
       "    }\n",
       "\n",
       "    .dataframe thead th {\n",
       "        text-align: right;\n",
       "    }\n",
       "</style>\n",
       "<table border=\"1\" class=\"dataframe\">\n",
       "  <thead>\n",
       "    <tr style=\"text-align: right;\">\n",
       "      <th></th>\n",
       "      <th>age</th>\n",
       "      <th>job</th>\n",
       "      <th>marital</th>\n",
       "      <th>education</th>\n",
       "      <th>default</th>\n",
       "      <th>housing</th>\n",
       "      <th>loan</th>\n",
       "      <th>contact</th>\n",
       "      <th>month</th>\n",
       "      <th>day_of_week</th>\n",
       "      <th>...</th>\n",
       "      <th>campaign</th>\n",
       "      <th>pdays</th>\n",
       "      <th>previous</th>\n",
       "      <th>poutcome</th>\n",
       "      <th>emp.var.rate</th>\n",
       "      <th>cons.price.idx</th>\n",
       "      <th>cons.conf.idx</th>\n",
       "      <th>euribor3m</th>\n",
       "      <th>nr.employed</th>\n",
       "      <th>y</th>\n",
       "    </tr>\n",
       "  </thead>\n",
       "  <tbody>\n",
       "    <tr>\n",
       "      <th>0</th>\n",
       "      <td>56</td>\n",
       "      <td>housemaid</td>\n",
       "      <td>married</td>\n",
       "      <td>basic.4y</td>\n",
       "      <td>no</td>\n",
       "      <td>no</td>\n",
       "      <td>no</td>\n",
       "      <td>telephone</td>\n",
       "      <td>may</td>\n",
       "      <td>mon</td>\n",
       "      <td>...</td>\n",
       "      <td>1</td>\n",
       "      <td>999</td>\n",
       "      <td>0</td>\n",
       "      <td>nonexistent</td>\n",
       "      <td>1.1</td>\n",
       "      <td>93.994</td>\n",
       "      <td>-36.4</td>\n",
       "      <td>4.857</td>\n",
       "      <td>5191.0</td>\n",
       "      <td>no</td>\n",
       "    </tr>\n",
       "    <tr>\n",
       "      <th>1</th>\n",
       "      <td>57</td>\n",
       "      <td>services</td>\n",
       "      <td>married</td>\n",
       "      <td>high.school</td>\n",
       "      <td>unknown</td>\n",
       "      <td>no</td>\n",
       "      <td>no</td>\n",
       "      <td>telephone</td>\n",
       "      <td>may</td>\n",
       "      <td>mon</td>\n",
       "      <td>...</td>\n",
       "      <td>1</td>\n",
       "      <td>999</td>\n",
       "      <td>0</td>\n",
       "      <td>nonexistent</td>\n",
       "      <td>1.1</td>\n",
       "      <td>93.994</td>\n",
       "      <td>-36.4</td>\n",
       "      <td>4.857</td>\n",
       "      <td>5191.0</td>\n",
       "      <td>no</td>\n",
       "    </tr>\n",
       "    <tr>\n",
       "      <th>2</th>\n",
       "      <td>37</td>\n",
       "      <td>services</td>\n",
       "      <td>married</td>\n",
       "      <td>high.school</td>\n",
       "      <td>no</td>\n",
       "      <td>yes</td>\n",
       "      <td>no</td>\n",
       "      <td>telephone</td>\n",
       "      <td>may</td>\n",
       "      <td>mon</td>\n",
       "      <td>...</td>\n",
       "      <td>1</td>\n",
       "      <td>999</td>\n",
       "      <td>0</td>\n",
       "      <td>nonexistent</td>\n",
       "      <td>1.1</td>\n",
       "      <td>93.994</td>\n",
       "      <td>-36.4</td>\n",
       "      <td>4.857</td>\n",
       "      <td>5191.0</td>\n",
       "      <td>no</td>\n",
       "    </tr>\n",
       "    <tr>\n",
       "      <th>3</th>\n",
       "      <td>40</td>\n",
       "      <td>admin.</td>\n",
       "      <td>married</td>\n",
       "      <td>basic.6y</td>\n",
       "      <td>no</td>\n",
       "      <td>no</td>\n",
       "      <td>no</td>\n",
       "      <td>telephone</td>\n",
       "      <td>may</td>\n",
       "      <td>mon</td>\n",
       "      <td>...</td>\n",
       "      <td>1</td>\n",
       "      <td>999</td>\n",
       "      <td>0</td>\n",
       "      <td>nonexistent</td>\n",
       "      <td>1.1</td>\n",
       "      <td>93.994</td>\n",
       "      <td>-36.4</td>\n",
       "      <td>4.857</td>\n",
       "      <td>5191.0</td>\n",
       "      <td>no</td>\n",
       "    </tr>\n",
       "    <tr>\n",
       "      <th>4</th>\n",
       "      <td>56</td>\n",
       "      <td>services</td>\n",
       "      <td>married</td>\n",
       "      <td>high.school</td>\n",
       "      <td>no</td>\n",
       "      <td>no</td>\n",
       "      <td>yes</td>\n",
       "      <td>telephone</td>\n",
       "      <td>may</td>\n",
       "      <td>mon</td>\n",
       "      <td>...</td>\n",
       "      <td>1</td>\n",
       "      <td>999</td>\n",
       "      <td>0</td>\n",
       "      <td>nonexistent</td>\n",
       "      <td>1.1</td>\n",
       "      <td>93.994</td>\n",
       "      <td>-36.4</td>\n",
       "      <td>4.857</td>\n",
       "      <td>5191.0</td>\n",
       "      <td>no</td>\n",
       "    </tr>\n",
       "  </tbody>\n",
       "</table>\n",
       "<p>5 rows × 21 columns</p>\n",
       "</div>"
      ],
      "text/plain": [
       "   age        job  marital    education  default housing loan    contact  \\\n",
       "0   56  housemaid  married     basic.4y       no      no   no  telephone   \n",
       "1   57   services  married  high.school  unknown      no   no  telephone   \n",
       "2   37   services  married  high.school       no     yes   no  telephone   \n",
       "3   40     admin.  married     basic.6y       no      no   no  telephone   \n",
       "4   56   services  married  high.school       no      no  yes  telephone   \n",
       "\n",
       "  month day_of_week  ...  campaign  pdays  previous     poutcome emp.var.rate  \\\n",
       "0   may         mon  ...         1    999         0  nonexistent          1.1   \n",
       "1   may         mon  ...         1    999         0  nonexistent          1.1   \n",
       "2   may         mon  ...         1    999         0  nonexistent          1.1   \n",
       "3   may         mon  ...         1    999         0  nonexistent          1.1   \n",
       "4   may         mon  ...         1    999         0  nonexistent          1.1   \n",
       "\n",
       "   cons.price.idx  cons.conf.idx  euribor3m  nr.employed   y  \n",
       "0          93.994          -36.4      4.857       5191.0  no  \n",
       "1          93.994          -36.4      4.857       5191.0  no  \n",
       "2          93.994          -36.4      4.857       5191.0  no  \n",
       "3          93.994          -36.4      4.857       5191.0  no  \n",
       "4          93.994          -36.4      4.857       5191.0  no  \n",
       "\n",
       "[5 rows x 21 columns]"
      ]
     },
     "execution_count": 5,
     "metadata": {},
     "output_type": "execute_result"
    }
   ],
   "source": [
    "df.head()"
   ]
  },
  {
   "cell_type": "code",
   "execution_count": 6,
   "metadata": {
    "application/vnd.databricks.v1+cell": {
     "cellMetadata": {
      "byteLimit": 2048000,
      "rowLimit": 10000
     },
     "inputWidgets": {},
     "nuid": "7babd426-4247-49ee-9ea3-13161f0288f2",
     "showTitle": false,
     "title": ""
    }
   },
   "outputs": [
    {
     "data": {
      "text/html": [
       "<div>\n",
       "<style scoped>\n",
       "    .dataframe tbody tr th:only-of-type {\n",
       "        vertical-align: middle;\n",
       "    }\n",
       "\n",
       "    .dataframe tbody tr th {\n",
       "        vertical-align: top;\n",
       "    }\n",
       "\n",
       "    .dataframe thead th {\n",
       "        text-align: right;\n",
       "    }\n",
       "</style>\n",
       "<table border=\"1\" class=\"dataframe\">\n",
       "  <thead>\n",
       "    <tr style=\"text-align: right;\">\n",
       "      <th></th>\n",
       "      <th>age</th>\n",
       "      <th>duration</th>\n",
       "      <th>campaign</th>\n",
       "      <th>pdays</th>\n",
       "      <th>previous</th>\n",
       "      <th>emp.var.rate</th>\n",
       "      <th>cons.price.idx</th>\n",
       "      <th>cons.conf.idx</th>\n",
       "      <th>euribor3m</th>\n",
       "      <th>nr.employed</th>\n",
       "    </tr>\n",
       "  </thead>\n",
       "  <tbody>\n",
       "    <tr>\n",
       "      <th>count</th>\n",
       "      <td>41188.00000</td>\n",
       "      <td>41188.000000</td>\n",
       "      <td>41188.000000</td>\n",
       "      <td>41188.000000</td>\n",
       "      <td>41188.000000</td>\n",
       "      <td>41188.000000</td>\n",
       "      <td>41188.000000</td>\n",
       "      <td>41188.000000</td>\n",
       "      <td>41188.000000</td>\n",
       "      <td>41188.000000</td>\n",
       "    </tr>\n",
       "    <tr>\n",
       "      <th>mean</th>\n",
       "      <td>40.02406</td>\n",
       "      <td>258.285010</td>\n",
       "      <td>2.567593</td>\n",
       "      <td>962.475454</td>\n",
       "      <td>0.172963</td>\n",
       "      <td>0.081886</td>\n",
       "      <td>93.575664</td>\n",
       "      <td>-40.502600</td>\n",
       "      <td>3.621291</td>\n",
       "      <td>5167.035911</td>\n",
       "    </tr>\n",
       "    <tr>\n",
       "      <th>std</th>\n",
       "      <td>10.42125</td>\n",
       "      <td>259.279249</td>\n",
       "      <td>2.770014</td>\n",
       "      <td>186.910907</td>\n",
       "      <td>0.494901</td>\n",
       "      <td>1.570960</td>\n",
       "      <td>0.578840</td>\n",
       "      <td>4.628198</td>\n",
       "      <td>1.734447</td>\n",
       "      <td>72.251528</td>\n",
       "    </tr>\n",
       "    <tr>\n",
       "      <th>min</th>\n",
       "      <td>17.00000</td>\n",
       "      <td>0.000000</td>\n",
       "      <td>1.000000</td>\n",
       "      <td>0.000000</td>\n",
       "      <td>0.000000</td>\n",
       "      <td>-3.400000</td>\n",
       "      <td>92.201000</td>\n",
       "      <td>-50.800000</td>\n",
       "      <td>0.634000</td>\n",
       "      <td>4963.600000</td>\n",
       "    </tr>\n",
       "    <tr>\n",
       "      <th>25%</th>\n",
       "      <td>32.00000</td>\n",
       "      <td>102.000000</td>\n",
       "      <td>1.000000</td>\n",
       "      <td>999.000000</td>\n",
       "      <td>0.000000</td>\n",
       "      <td>-1.800000</td>\n",
       "      <td>93.075000</td>\n",
       "      <td>-42.700000</td>\n",
       "      <td>1.344000</td>\n",
       "      <td>5099.100000</td>\n",
       "    </tr>\n",
       "    <tr>\n",
       "      <th>50%</th>\n",
       "      <td>38.00000</td>\n",
       "      <td>180.000000</td>\n",
       "      <td>2.000000</td>\n",
       "      <td>999.000000</td>\n",
       "      <td>0.000000</td>\n",
       "      <td>1.100000</td>\n",
       "      <td>93.749000</td>\n",
       "      <td>-41.800000</td>\n",
       "      <td>4.857000</td>\n",
       "      <td>5191.000000</td>\n",
       "    </tr>\n",
       "    <tr>\n",
       "      <th>75%</th>\n",
       "      <td>47.00000</td>\n",
       "      <td>319.000000</td>\n",
       "      <td>3.000000</td>\n",
       "      <td>999.000000</td>\n",
       "      <td>0.000000</td>\n",
       "      <td>1.400000</td>\n",
       "      <td>93.994000</td>\n",
       "      <td>-36.400000</td>\n",
       "      <td>4.961000</td>\n",
       "      <td>5228.100000</td>\n",
       "    </tr>\n",
       "    <tr>\n",
       "      <th>max</th>\n",
       "      <td>98.00000</td>\n",
       "      <td>4918.000000</td>\n",
       "      <td>56.000000</td>\n",
       "      <td>999.000000</td>\n",
       "      <td>7.000000</td>\n",
       "      <td>1.400000</td>\n",
       "      <td>94.767000</td>\n",
       "      <td>-26.900000</td>\n",
       "      <td>5.045000</td>\n",
       "      <td>5228.100000</td>\n",
       "    </tr>\n",
       "  </tbody>\n",
       "</table>\n",
       "</div>"
      ],
      "text/plain": [
       "               age      duration      campaign         pdays      previous  \\\n",
       "count  41188.00000  41188.000000  41188.000000  41188.000000  41188.000000   \n",
       "mean      40.02406    258.285010      2.567593    962.475454      0.172963   \n",
       "std       10.42125    259.279249      2.770014    186.910907      0.494901   \n",
       "min       17.00000      0.000000      1.000000      0.000000      0.000000   \n",
       "25%       32.00000    102.000000      1.000000    999.000000      0.000000   \n",
       "50%       38.00000    180.000000      2.000000    999.000000      0.000000   \n",
       "75%       47.00000    319.000000      3.000000    999.000000      0.000000   \n",
       "max       98.00000   4918.000000     56.000000    999.000000      7.000000   \n",
       "\n",
       "       emp.var.rate  cons.price.idx  cons.conf.idx     euribor3m   nr.employed  \n",
       "count  41188.000000    41188.000000   41188.000000  41188.000000  41188.000000  \n",
       "mean       0.081886       93.575664     -40.502600      3.621291   5167.035911  \n",
       "std        1.570960        0.578840       4.628198      1.734447     72.251528  \n",
       "min       -3.400000       92.201000     -50.800000      0.634000   4963.600000  \n",
       "25%       -1.800000       93.075000     -42.700000      1.344000   5099.100000  \n",
       "50%        1.100000       93.749000     -41.800000      4.857000   5191.000000  \n",
       "75%        1.400000       93.994000     -36.400000      4.961000   5228.100000  \n",
       "max        1.400000       94.767000     -26.900000      5.045000   5228.100000  "
      ]
     },
     "execution_count": 6,
     "metadata": {},
     "output_type": "execute_result"
    }
   ],
   "source": [
    "df.describe()"
   ]
  },
  {
   "cell_type": "code",
   "execution_count": 7,
   "metadata": {},
   "outputs": [],
   "source": [
    "df.drop([\"default\", \"duration\"], axis=1, inplace=True)"
   ]
  },
  {
   "cell_type": "code",
   "execution_count": 8,
   "metadata": {
    "application/vnd.databricks.v1+cell": {
     "cellMetadata": {
      "byteLimit": 2048000,
      "rowLimit": 10000
     },
     "inputWidgets": {},
     "nuid": "0ebe82e2-a010-491d-a199-15f4343c509f",
     "showTitle": false,
     "title": ""
    }
   },
   "outputs": [],
   "source": [
    "from sklearn.model_selection import train_test_split\n",
    "\n",
    "X = df.drop('y', axis=1)\n",
    "y = df['y']\n",
    "X_train, X_test, y_train, y_test = train_test_split(X, y, test_size = 0.2, random_state = 0)"
   ]
  },
  {
   "cell_type": "markdown",
   "metadata": {
    "application/vnd.databricks.v1+cell": {
     "cellMetadata": {},
     "inputWidgets": {},
     "nuid": "0edefc20-26de-41fa-83fa-ecf320f84cd5",
     "showTitle": false,
     "title": ""
    }
   },
   "source": [
    "## Regression with PyCaret"
   ]
  },
  {
   "cell_type": "code",
   "execution_count": 9,
   "metadata": {
    "application/vnd.databricks.v1+cell": {
     "cellMetadata": {
      "byteLimit": 2048000,
      "rowLimit": 10000
     },
     "inputWidgets": {},
     "nuid": "5cd28d04-48a0-4957-a7e2-5509e7661a1b",
     "showTitle": false,
     "title": ""
    }
   },
   "outputs": [
    {
     "data": {
      "text/html": [
       "<style type=\"text/css\">\n",
       "#T_e589f_row9_col1 {\n",
       "  background-color: lightgreen;\n",
       "}\n",
       "</style>\n",
       "<table id=\"T_e589f\">\n",
       "  <thead>\n",
       "    <tr>\n",
       "      <th class=\"blank level0\" >&nbsp;</th>\n",
       "      <th id=\"T_e589f_level0_col0\" class=\"col_heading level0 col0\" >Description</th>\n",
       "      <th id=\"T_e589f_level0_col1\" class=\"col_heading level0 col1\" >Value</th>\n",
       "    </tr>\n",
       "  </thead>\n",
       "  <tbody>\n",
       "    <tr>\n",
       "      <th id=\"T_e589f_level0_row0\" class=\"row_heading level0 row0\" >0</th>\n",
       "      <td id=\"T_e589f_row0_col0\" class=\"data row0 col0\" >Session id</td>\n",
       "      <td id=\"T_e589f_row0_col1\" class=\"data row0 col1\" >2899</td>\n",
       "    </tr>\n",
       "    <tr>\n",
       "      <th id=\"T_e589f_level0_row1\" class=\"row_heading level0 row1\" >1</th>\n",
       "      <td id=\"T_e589f_row1_col0\" class=\"data row1 col0\" >Target</td>\n",
       "      <td id=\"T_e589f_row1_col1\" class=\"data row1 col1\" >y</td>\n",
       "    </tr>\n",
       "    <tr>\n",
       "      <th id=\"T_e589f_level0_row2\" class=\"row_heading level0 row2\" >2</th>\n",
       "      <td id=\"T_e589f_row2_col0\" class=\"data row2 col0\" >Target type</td>\n",
       "      <td id=\"T_e589f_row2_col1\" class=\"data row2 col1\" >Regression</td>\n",
       "    </tr>\n",
       "    <tr>\n",
       "      <th id=\"T_e589f_level0_row3\" class=\"row_heading level0 row3\" >3</th>\n",
       "      <td id=\"T_e589f_row3_col0\" class=\"data row3 col0\" >Original data shape</td>\n",
       "      <td id=\"T_e589f_row3_col1\" class=\"data row3 col1\" >(41188, 19)</td>\n",
       "    </tr>\n",
       "    <tr>\n",
       "      <th id=\"T_e589f_level0_row4\" class=\"row_heading level0 row4\" >4</th>\n",
       "      <td id=\"T_e589f_row4_col0\" class=\"data row4 col0\" >Transformed data shape</td>\n",
       "      <td id=\"T_e589f_row4_col1\" class=\"data row4 col1\" >(41188, 59)</td>\n",
       "    </tr>\n",
       "    <tr>\n",
       "      <th id=\"T_e589f_level0_row5\" class=\"row_heading level0 row5\" >5</th>\n",
       "      <td id=\"T_e589f_row5_col0\" class=\"data row5 col0\" >Transformed train set shape</td>\n",
       "      <td id=\"T_e589f_row5_col1\" class=\"data row5 col1\" >(28831, 59)</td>\n",
       "    </tr>\n",
       "    <tr>\n",
       "      <th id=\"T_e589f_level0_row6\" class=\"row_heading level0 row6\" >6</th>\n",
       "      <td id=\"T_e589f_row6_col0\" class=\"data row6 col0\" >Transformed test set shape</td>\n",
       "      <td id=\"T_e589f_row6_col1\" class=\"data row6 col1\" >(12357, 59)</td>\n",
       "    </tr>\n",
       "    <tr>\n",
       "      <th id=\"T_e589f_level0_row7\" class=\"row_heading level0 row7\" >7</th>\n",
       "      <td id=\"T_e589f_row7_col0\" class=\"data row7 col0\" >Numeric features</td>\n",
       "      <td id=\"T_e589f_row7_col1\" class=\"data row7 col1\" >9</td>\n",
       "    </tr>\n",
       "    <tr>\n",
       "      <th id=\"T_e589f_level0_row8\" class=\"row_heading level0 row8\" >8</th>\n",
       "      <td id=\"T_e589f_row8_col0\" class=\"data row8 col0\" >Categorical features</td>\n",
       "      <td id=\"T_e589f_row8_col1\" class=\"data row8 col1\" >9</td>\n",
       "    </tr>\n",
       "    <tr>\n",
       "      <th id=\"T_e589f_level0_row9\" class=\"row_heading level0 row9\" >9</th>\n",
       "      <td id=\"T_e589f_row9_col0\" class=\"data row9 col0\" >Preprocess</td>\n",
       "      <td id=\"T_e589f_row9_col1\" class=\"data row9 col1\" >True</td>\n",
       "    </tr>\n",
       "    <tr>\n",
       "      <th id=\"T_e589f_level0_row10\" class=\"row_heading level0 row10\" >10</th>\n",
       "      <td id=\"T_e589f_row10_col0\" class=\"data row10 col0\" >Imputation type</td>\n",
       "      <td id=\"T_e589f_row10_col1\" class=\"data row10 col1\" >simple</td>\n",
       "    </tr>\n",
       "    <tr>\n",
       "      <th id=\"T_e589f_level0_row11\" class=\"row_heading level0 row11\" >11</th>\n",
       "      <td id=\"T_e589f_row11_col0\" class=\"data row11 col0\" >Numeric imputation</td>\n",
       "      <td id=\"T_e589f_row11_col1\" class=\"data row11 col1\" >mean</td>\n",
       "    </tr>\n",
       "    <tr>\n",
       "      <th id=\"T_e589f_level0_row12\" class=\"row_heading level0 row12\" >12</th>\n",
       "      <td id=\"T_e589f_row12_col0\" class=\"data row12 col0\" >Categorical imputation</td>\n",
       "      <td id=\"T_e589f_row12_col1\" class=\"data row12 col1\" >mode</td>\n",
       "    </tr>\n",
       "    <tr>\n",
       "      <th id=\"T_e589f_level0_row13\" class=\"row_heading level0 row13\" >13</th>\n",
       "      <td id=\"T_e589f_row13_col0\" class=\"data row13 col0\" >Maximum one-hot encoding</td>\n",
       "      <td id=\"T_e589f_row13_col1\" class=\"data row13 col1\" >25</td>\n",
       "    </tr>\n",
       "    <tr>\n",
       "      <th id=\"T_e589f_level0_row14\" class=\"row_heading level0 row14\" >14</th>\n",
       "      <td id=\"T_e589f_row14_col0\" class=\"data row14 col0\" >Encoding method</td>\n",
       "      <td id=\"T_e589f_row14_col1\" class=\"data row14 col1\" >None</td>\n",
       "    </tr>\n",
       "    <tr>\n",
       "      <th id=\"T_e589f_level0_row15\" class=\"row_heading level0 row15\" >15</th>\n",
       "      <td id=\"T_e589f_row15_col0\" class=\"data row15 col0\" >Fold Generator</td>\n",
       "      <td id=\"T_e589f_row15_col1\" class=\"data row15 col1\" >KFold</td>\n",
       "    </tr>\n",
       "    <tr>\n",
       "      <th id=\"T_e589f_level0_row16\" class=\"row_heading level0 row16\" >16</th>\n",
       "      <td id=\"T_e589f_row16_col0\" class=\"data row16 col0\" >Fold Number</td>\n",
       "      <td id=\"T_e589f_row16_col1\" class=\"data row16 col1\" >10</td>\n",
       "    </tr>\n",
       "    <tr>\n",
       "      <th id=\"T_e589f_level0_row17\" class=\"row_heading level0 row17\" >17</th>\n",
       "      <td id=\"T_e589f_row17_col0\" class=\"data row17 col0\" >CPU Jobs</td>\n",
       "      <td id=\"T_e589f_row17_col1\" class=\"data row17 col1\" >-1</td>\n",
       "    </tr>\n",
       "    <tr>\n",
       "      <th id=\"T_e589f_level0_row18\" class=\"row_heading level0 row18\" >18</th>\n",
       "      <td id=\"T_e589f_row18_col0\" class=\"data row18 col0\" >Use GPU</td>\n",
       "      <td id=\"T_e589f_row18_col1\" class=\"data row18 col1\" >False</td>\n",
       "    </tr>\n",
       "    <tr>\n",
       "      <th id=\"T_e589f_level0_row19\" class=\"row_heading level0 row19\" >19</th>\n",
       "      <td id=\"T_e589f_row19_col0\" class=\"data row19 col0\" >Log Experiment</td>\n",
       "      <td id=\"T_e589f_row19_col1\" class=\"data row19 col1\" >False</td>\n",
       "    </tr>\n",
       "    <tr>\n",
       "      <th id=\"T_e589f_level0_row20\" class=\"row_heading level0 row20\" >20</th>\n",
       "      <td id=\"T_e589f_row20_col0\" class=\"data row20 col0\" >Experiment Name</td>\n",
       "      <td id=\"T_e589f_row20_col1\" class=\"data row20 col1\" >reg-default-name</td>\n",
       "    </tr>\n",
       "    <tr>\n",
       "      <th id=\"T_e589f_level0_row21\" class=\"row_heading level0 row21\" >21</th>\n",
       "      <td id=\"T_e589f_row21_col0\" class=\"data row21 col0\" >USI</td>\n",
       "      <td id=\"T_e589f_row21_col1\" class=\"data row21 col1\" >88b9</td>\n",
       "    </tr>\n",
       "  </tbody>\n",
       "</table>\n"
      ],
      "text/plain": [
       "<pandas.io.formats.style.Styler at 0x217a710c9d0>"
      ]
     },
     "metadata": {},
     "output_type": "display_data"
    }
   ],
   "source": [
    "from pycaret.regression import *\n",
    " \n",
    "s = setup(df, target = 'y')"
   ]
  },
  {
   "cell_type": "markdown",
   "metadata": {
    "application/vnd.databricks.v1+cell": {
     "cellMetadata": {},
     "inputWidgets": {},
     "nuid": "892ff80d-83f1-437d-960f-6269b71f8fe6",
     "showTitle": false,
     "title": ""
    }
   },
   "source": [
    "Now that the data is preprocessed, we can use\n",
    "[`compare_models()`](https://pycaret.gitbook.io/docs/get-started/functions/train#compare_models)\n",
    "function, which trains and evaluates the performance of all the estimators."
   ]
  },
  {
   "cell_type": "code",
   "execution_count": 10,
   "metadata": {
    "application/vnd.databricks.v1+cell": {
     "cellMetadata": {
      "byteLimit": 2048000,
      "rowLimit": 10000
     },
     "inputWidgets": {},
     "nuid": "db94e344-b69e-4162-847c-e2b35d848716",
     "showTitle": false,
     "title": ""
    }
   },
   "outputs": [
    {
     "data": {
      "text/html": [],
      "text/plain": [
       "<IPython.core.display.HTML object>"
      ]
     },
     "metadata": {},
     "output_type": "display_data"
    },
    {
     "data": {
      "text/html": [
       "<style type=\"text/css\">\n",
       "</style>\n",
       "<table id=\"T_1eb7d\">\n",
       "  <thead>\n",
       "  </thead>\n",
       "  <tbody>\n",
       "  </tbody>\n",
       "</table>\n"
      ],
      "text/plain": [
       "<pandas.io.formats.style.Styler at 0x217a72b8cd0>"
      ]
     },
     "metadata": {},
     "output_type": "display_data"
    },
    {
     "data": {
      "text/html": [],
      "text/plain": [
       "<IPython.core.display.HTML object>"
      ]
     },
     "metadata": {},
     "output_type": "display_data"
    }
   ],
   "source": [
    "best = compare_models()"
   ]
  },
  {
   "cell_type": "markdown",
   "metadata": {
    "application/vnd.databricks.v1+cell": {
     "cellMetadata": {},
     "inputWidgets": {},
     "nuid": "7265761f-a75c-4193-8f4e-1fa0286c93ec",
     "showTitle": false,
     "title": ""
    }
   },
   "source": [
    "With PyCaret we got very similar list of best regressors."
   ]
  },
  {
   "cell_type": "markdown",
   "metadata": {
    "application/vnd.databricks.v1+cell": {
     "cellMetadata": {},
     "inputWidgets": {},
     "nuid": "495c1dae-2e7d-493d-a8ba-a67bef81235c",
     "showTitle": false,
     "title": ""
    }
   },
   "source": [
    "#### Optimization\n",
    "\n",
    "PyCaret makes it easy to tune hyperparameters of the selected model using the [`tune_model()`](https://pycaret.gitbook.io/docs/get-started/functions/optimize#tune_model) function. \n",
    "\n",
    "You can increase the number of iterations (n_iter parameter) depending on how much time and resouces you have. By default, it is set to 10.\n",
    "\n",
    "You can also choose which metric to optimize for (optimize parameter). By default, it is set to R2 for regression problem."
   ]
  },
  {
   "cell_type": "code",
   "execution_count": 11,
   "metadata": {
    "application/vnd.databricks.v1+cell": {
     "cellMetadata": {
      "byteLimit": 2048000,
      "rowLimit": 10000
     },
     "inputWidgets": {},
     "nuid": "486029d5-b513-4e63-980d-e05eb23de15d",
     "showTitle": false,
     "title": ""
    }
   },
   "outputs": [
    {
     "ename": "ValueError",
     "evalue": "Estimator [] does not have the required fit() method.",
     "output_type": "error",
     "traceback": [
      "\u001b[1;31m---------------------------------------------------------------------------\u001b[0m",
      "\u001b[1;31mValueError\u001b[0m                                Traceback (most recent call last)",
      "Cell \u001b[1;32mIn[11], line 1\u001b[0m\n\u001b[1;32m----> 1\u001b[0m tuned_model \u001b[38;5;241m=\u001b[39m \u001b[43mtune_model\u001b[49m\u001b[43m(\u001b[49m\u001b[43mbest\u001b[49m\u001b[43m,\u001b[49m\u001b[43m \u001b[49m\u001b[43mn_iter\u001b[49m\u001b[43m \u001b[49m\u001b[38;5;241;43m=\u001b[39;49m\u001b[43m \u001b[49m\u001b[38;5;241;43m10\u001b[39;49m\u001b[43m,\u001b[49m\u001b[43m \u001b[49m\u001b[43moptimize\u001b[49m\u001b[38;5;241;43m=\u001b[39;49m\u001b[38;5;124;43m'\u001b[39;49m\u001b[38;5;124;43mMAE\u001b[39;49m\u001b[38;5;124;43m'\u001b[39;49m\u001b[43m)\u001b[49m\n",
      "File \u001b[1;32m~\\06-DataScienceMasterclass\\.venv\\Lib\\site-packages\\pycaret\\utils\\generic.py:964\u001b[0m, in \u001b[0;36mcheck_if_global_is_not_none.<locals>.decorator.<locals>.wrapper\u001b[1;34m(*args, **kwargs)\u001b[0m\n\u001b[0;32m    962\u001b[0m     \u001b[38;5;28;01mif\u001b[39;00m globals_d[name] \u001b[38;5;129;01mis\u001b[39;00m \u001b[38;5;28;01mNone\u001b[39;00m:\n\u001b[0;32m    963\u001b[0m         \u001b[38;5;28;01mraise\u001b[39;00m \u001b[38;5;167;01mValueError\u001b[39;00m(message)\n\u001b[1;32m--> 964\u001b[0m \u001b[38;5;28;01mreturn\u001b[39;00m \u001b[43mfunc\u001b[49m\u001b[43m(\u001b[49m\u001b[38;5;241;43m*\u001b[39;49m\u001b[43margs\u001b[49m\u001b[43m,\u001b[49m\u001b[43m \u001b[49m\u001b[38;5;241;43m*\u001b[39;49m\u001b[38;5;241;43m*\u001b[39;49m\u001b[43mkwargs\u001b[49m\u001b[43m)\u001b[49m\n",
      "File \u001b[1;32m~\\06-DataScienceMasterclass\\.venv\\Lib\\site-packages\\pycaret\\regression\\functional.py:1197\u001b[0m, in \u001b[0;36mtune_model\u001b[1;34m(estimator, fold, round, n_iter, custom_grid, optimize, custom_scorer, search_library, search_algorithm, early_stopping, early_stopping_max_iters, choose_better, fit_kwargs, groups, return_tuner, verbose, tuner_verbose, return_train_score, **kwargs)\u001b[0m\n\u001b[0;32m   1005\u001b[0m \u001b[38;5;129m@check_if_global_is_not_none\u001b[39m(\u001b[38;5;28mglobals\u001b[39m(), _CURRENT_EXPERIMENT_DECORATOR_DICT)\n\u001b[0;32m   1006\u001b[0m \u001b[38;5;28;01mdef\u001b[39;00m \u001b[38;5;21mtune_model\u001b[39m(\n\u001b[0;32m   1007\u001b[0m     estimator,\n\u001b[1;32m   (...)\u001b[0m\n\u001b[0;32m   1025\u001b[0m     \u001b[38;5;241m*\u001b[39m\u001b[38;5;241m*\u001b[39mkwargs,\n\u001b[0;32m   1026\u001b[0m ):\n\u001b[0;32m   1027\u001b[0m \u001b[38;5;250m    \u001b[39m\u001b[38;5;124;03m\"\"\"\u001b[39;00m\n\u001b[0;32m   1028\u001b[0m \u001b[38;5;124;03m    This function tunes the hyperparameters of a given estimator. The output of\u001b[39;00m\n\u001b[0;32m   1029\u001b[0m \u001b[38;5;124;03m    this function is a score grid with CV scores by fold of the best selected\u001b[39;00m\n\u001b[1;32m   (...)\u001b[0m\n\u001b[0;32m   1194\u001b[0m \n\u001b[0;32m   1195\u001b[0m \u001b[38;5;124;03m    \"\"\"\u001b[39;00m\n\u001b[1;32m-> 1197\u001b[0m     \u001b[38;5;28;01mreturn\u001b[39;00m \u001b[43m_CURRENT_EXPERIMENT\u001b[49m\u001b[38;5;241;43m.\u001b[39;49m\u001b[43mtune_model\u001b[49m\u001b[43m(\u001b[49m\n\u001b[0;32m   1198\u001b[0m \u001b[43m        \u001b[49m\u001b[43mestimator\u001b[49m\u001b[38;5;241;43m=\u001b[39;49m\u001b[43mestimator\u001b[49m\u001b[43m,\u001b[49m\n\u001b[0;32m   1199\u001b[0m \u001b[43m        \u001b[49m\u001b[43mfold\u001b[49m\u001b[38;5;241;43m=\u001b[39;49m\u001b[43mfold\u001b[49m\u001b[43m,\u001b[49m\n\u001b[0;32m   1200\u001b[0m \u001b[43m        \u001b[49m\u001b[38;5;28;43mround\u001b[39;49m\u001b[38;5;241;43m=\u001b[39;49m\u001b[38;5;28;43mround\u001b[39;49m\u001b[43m,\u001b[49m\n\u001b[0;32m   1201\u001b[0m \u001b[43m        \u001b[49m\u001b[43mn_iter\u001b[49m\u001b[38;5;241;43m=\u001b[39;49m\u001b[43mn_iter\u001b[49m\u001b[43m,\u001b[49m\n\u001b[0;32m   1202\u001b[0m \u001b[43m        \u001b[49m\u001b[43mcustom_grid\u001b[49m\u001b[38;5;241;43m=\u001b[39;49m\u001b[43mcustom_grid\u001b[49m\u001b[43m,\u001b[49m\n\u001b[0;32m   1203\u001b[0m \u001b[43m        \u001b[49m\u001b[43moptimize\u001b[49m\u001b[38;5;241;43m=\u001b[39;49m\u001b[43moptimize\u001b[49m\u001b[43m,\u001b[49m\n\u001b[0;32m   1204\u001b[0m \u001b[43m        \u001b[49m\u001b[43mcustom_scorer\u001b[49m\u001b[38;5;241;43m=\u001b[39;49m\u001b[43mcustom_scorer\u001b[49m\u001b[43m,\u001b[49m\n\u001b[0;32m   1205\u001b[0m \u001b[43m        \u001b[49m\u001b[43msearch_library\u001b[49m\u001b[38;5;241;43m=\u001b[39;49m\u001b[43msearch_library\u001b[49m\u001b[43m,\u001b[49m\n\u001b[0;32m   1206\u001b[0m \u001b[43m        \u001b[49m\u001b[43msearch_algorithm\u001b[49m\u001b[38;5;241;43m=\u001b[39;49m\u001b[43msearch_algorithm\u001b[49m\u001b[43m,\u001b[49m\n\u001b[0;32m   1207\u001b[0m \u001b[43m        \u001b[49m\u001b[43mearly_stopping\u001b[49m\u001b[38;5;241;43m=\u001b[39;49m\u001b[43mearly_stopping\u001b[49m\u001b[43m,\u001b[49m\n\u001b[0;32m   1208\u001b[0m \u001b[43m        \u001b[49m\u001b[43mearly_stopping_max_iters\u001b[49m\u001b[38;5;241;43m=\u001b[39;49m\u001b[43mearly_stopping_max_iters\u001b[49m\u001b[43m,\u001b[49m\n\u001b[0;32m   1209\u001b[0m \u001b[43m        \u001b[49m\u001b[43mchoose_better\u001b[49m\u001b[38;5;241;43m=\u001b[39;49m\u001b[43mchoose_better\u001b[49m\u001b[43m,\u001b[49m\n\u001b[0;32m   1210\u001b[0m \u001b[43m        \u001b[49m\u001b[43mfit_kwargs\u001b[49m\u001b[38;5;241;43m=\u001b[39;49m\u001b[43mfit_kwargs\u001b[49m\u001b[43m,\u001b[49m\n\u001b[0;32m   1211\u001b[0m \u001b[43m        \u001b[49m\u001b[43mgroups\u001b[49m\u001b[38;5;241;43m=\u001b[39;49m\u001b[43mgroups\u001b[49m\u001b[43m,\u001b[49m\n\u001b[0;32m   1212\u001b[0m \u001b[43m        \u001b[49m\u001b[43mreturn_tuner\u001b[49m\u001b[38;5;241;43m=\u001b[39;49m\u001b[43mreturn_tuner\u001b[49m\u001b[43m,\u001b[49m\n\u001b[0;32m   1213\u001b[0m \u001b[43m        \u001b[49m\u001b[43mverbose\u001b[49m\u001b[38;5;241;43m=\u001b[39;49m\u001b[43mverbose\u001b[49m\u001b[43m,\u001b[49m\n\u001b[0;32m   1214\u001b[0m \u001b[43m        \u001b[49m\u001b[43mtuner_verbose\u001b[49m\u001b[38;5;241;43m=\u001b[39;49m\u001b[43mtuner_verbose\u001b[49m\u001b[43m,\u001b[49m\n\u001b[0;32m   1215\u001b[0m \u001b[43m        \u001b[49m\u001b[43mreturn_train_score\u001b[49m\u001b[38;5;241;43m=\u001b[39;49m\u001b[43mreturn_train_score\u001b[49m\u001b[43m,\u001b[49m\n\u001b[0;32m   1216\u001b[0m \u001b[43m        \u001b[49m\u001b[38;5;241;43m*\u001b[39;49m\u001b[38;5;241;43m*\u001b[39;49m\u001b[43mkwargs\u001b[49m\u001b[43m,\u001b[49m\n\u001b[0;32m   1217\u001b[0m \u001b[43m    \u001b[49m\u001b[43m)\u001b[49m\n",
      "File \u001b[1;32m~\\06-DataScienceMasterclass\\.venv\\Lib\\site-packages\\pycaret\\regression\\oop.py:1499\u001b[0m, in \u001b[0;36mRegressionExperiment.tune_model\u001b[1;34m(self, estimator, fold, round, n_iter, custom_grid, optimize, custom_scorer, search_library, search_algorithm, early_stopping, early_stopping_max_iters, choose_better, fit_kwargs, groups, return_tuner, verbose, tuner_verbose, return_train_score, **kwargs)\u001b[0m\n\u001b[0;32m   1307\u001b[0m \u001b[38;5;28;01mdef\u001b[39;00m \u001b[38;5;21mtune_model\u001b[39m(\n\u001b[0;32m   1308\u001b[0m     \u001b[38;5;28mself\u001b[39m,\n\u001b[0;32m   1309\u001b[0m     estimator,\n\u001b[1;32m   (...)\u001b[0m\n\u001b[0;32m   1327\u001b[0m     \u001b[38;5;241m*\u001b[39m\u001b[38;5;241m*\u001b[39mkwargs,\n\u001b[0;32m   1328\u001b[0m ):\n\u001b[0;32m   1329\u001b[0m \u001b[38;5;250m    \u001b[39m\u001b[38;5;124;03m\"\"\"\u001b[39;00m\n\u001b[0;32m   1330\u001b[0m \u001b[38;5;124;03m    This function tunes the hyperparameters of a given estimator. The output of\u001b[39;00m\n\u001b[0;32m   1331\u001b[0m \u001b[38;5;124;03m    this function is a score grid with CV scores by fold of the best selected\u001b[39;00m\n\u001b[1;32m   (...)\u001b[0m\n\u001b[0;32m   1496\u001b[0m \n\u001b[0;32m   1497\u001b[0m \u001b[38;5;124;03m    \"\"\"\u001b[39;00m\n\u001b[1;32m-> 1499\u001b[0m     \u001b[38;5;28;01mreturn\u001b[39;00m \u001b[38;5;28;43msuper\u001b[39;49m\u001b[43m(\u001b[49m\u001b[43m)\u001b[49m\u001b[38;5;241;43m.\u001b[39;49m\u001b[43mtune_model\u001b[49m\u001b[43m(\u001b[49m\n\u001b[0;32m   1500\u001b[0m \u001b[43m        \u001b[49m\u001b[43mestimator\u001b[49m\u001b[38;5;241;43m=\u001b[39;49m\u001b[43mestimator\u001b[49m\u001b[43m,\u001b[49m\n\u001b[0;32m   1501\u001b[0m \u001b[43m        \u001b[49m\u001b[43mfold\u001b[49m\u001b[38;5;241;43m=\u001b[39;49m\u001b[43mfold\u001b[49m\u001b[43m,\u001b[49m\n\u001b[0;32m   1502\u001b[0m \u001b[43m        \u001b[49m\u001b[38;5;28;43mround\u001b[39;49m\u001b[38;5;241;43m=\u001b[39;49m\u001b[38;5;28;43mround\u001b[39;49m\u001b[43m,\u001b[49m\n\u001b[0;32m   1503\u001b[0m \u001b[43m        \u001b[49m\u001b[43mn_iter\u001b[49m\u001b[38;5;241;43m=\u001b[39;49m\u001b[43mn_iter\u001b[49m\u001b[43m,\u001b[49m\n\u001b[0;32m   1504\u001b[0m \u001b[43m        \u001b[49m\u001b[43mcustom_grid\u001b[49m\u001b[38;5;241;43m=\u001b[39;49m\u001b[43mcustom_grid\u001b[49m\u001b[43m,\u001b[49m\n\u001b[0;32m   1505\u001b[0m \u001b[43m        \u001b[49m\u001b[43moptimize\u001b[49m\u001b[38;5;241;43m=\u001b[39;49m\u001b[43moptimize\u001b[49m\u001b[43m,\u001b[49m\n\u001b[0;32m   1506\u001b[0m \u001b[43m        \u001b[49m\u001b[43mcustom_scorer\u001b[49m\u001b[38;5;241;43m=\u001b[39;49m\u001b[43mcustom_scorer\u001b[49m\u001b[43m,\u001b[49m\n\u001b[0;32m   1507\u001b[0m \u001b[43m        \u001b[49m\u001b[43msearch_library\u001b[49m\u001b[38;5;241;43m=\u001b[39;49m\u001b[43msearch_library\u001b[49m\u001b[43m,\u001b[49m\n\u001b[0;32m   1508\u001b[0m \u001b[43m        \u001b[49m\u001b[43msearch_algorithm\u001b[49m\u001b[38;5;241;43m=\u001b[39;49m\u001b[43msearch_algorithm\u001b[49m\u001b[43m,\u001b[49m\n\u001b[0;32m   1509\u001b[0m \u001b[43m        \u001b[49m\u001b[43mearly_stopping\u001b[49m\u001b[38;5;241;43m=\u001b[39;49m\u001b[43mearly_stopping\u001b[49m\u001b[43m,\u001b[49m\n\u001b[0;32m   1510\u001b[0m \u001b[43m        \u001b[49m\u001b[43mearly_stopping_max_iters\u001b[49m\u001b[38;5;241;43m=\u001b[39;49m\u001b[43mearly_stopping_max_iters\u001b[49m\u001b[43m,\u001b[49m\n\u001b[0;32m   1511\u001b[0m \u001b[43m        \u001b[49m\u001b[43mchoose_better\u001b[49m\u001b[38;5;241;43m=\u001b[39;49m\u001b[43mchoose_better\u001b[49m\u001b[43m,\u001b[49m\n\u001b[0;32m   1512\u001b[0m \u001b[43m        \u001b[49m\u001b[43mfit_kwargs\u001b[49m\u001b[38;5;241;43m=\u001b[39;49m\u001b[43mfit_kwargs\u001b[49m\u001b[43m,\u001b[49m\n\u001b[0;32m   1513\u001b[0m \u001b[43m        \u001b[49m\u001b[43mgroups\u001b[49m\u001b[38;5;241;43m=\u001b[39;49m\u001b[43mgroups\u001b[49m\u001b[43m,\u001b[49m\n\u001b[0;32m   1514\u001b[0m \u001b[43m        \u001b[49m\u001b[43mreturn_tuner\u001b[49m\u001b[38;5;241;43m=\u001b[39;49m\u001b[43mreturn_tuner\u001b[49m\u001b[43m,\u001b[49m\n\u001b[0;32m   1515\u001b[0m \u001b[43m        \u001b[49m\u001b[43mverbose\u001b[49m\u001b[38;5;241;43m=\u001b[39;49m\u001b[43mverbose\u001b[49m\u001b[43m,\u001b[49m\n\u001b[0;32m   1516\u001b[0m \u001b[43m        \u001b[49m\u001b[43mtuner_verbose\u001b[49m\u001b[38;5;241;43m=\u001b[39;49m\u001b[43mtuner_verbose\u001b[49m\u001b[43m,\u001b[49m\n\u001b[0;32m   1517\u001b[0m \u001b[43m        \u001b[49m\u001b[43mreturn_train_score\u001b[49m\u001b[38;5;241;43m=\u001b[39;49m\u001b[43mreturn_train_score\u001b[49m\u001b[43m,\u001b[49m\n\u001b[0;32m   1518\u001b[0m \u001b[43m        \u001b[49m\u001b[38;5;241;43m*\u001b[39;49m\u001b[38;5;241;43m*\u001b[39;49m\u001b[43mkwargs\u001b[49m\u001b[43m,\u001b[49m\n\u001b[0;32m   1519\u001b[0m \u001b[43m    \u001b[49m\u001b[43m)\u001b[49m\n",
      "File \u001b[1;32m~\\06-DataScienceMasterclass\\.venv\\Lib\\site-packages\\pycaret\\internal\\pycaret_experiment\\supervised_experiment.py:1996\u001b[0m, in \u001b[0;36m_SupervisedExperiment.tune_model\u001b[1;34m(self, estimator, fold, round, n_iter, custom_grid, optimize, custom_scorer, search_library, search_algorithm, early_stopping, early_stopping_max_iters, choose_better, fit_kwargs, groups, return_tuner, verbose, tuner_verbose, return_train_score, **kwargs)\u001b[0m\n\u001b[0;32m   1994\u001b[0m \u001b[38;5;66;03m# Check for estimator\u001b[39;00m\n\u001b[0;32m   1995\u001b[0m \u001b[38;5;28;01mif\u001b[39;00m \u001b[38;5;129;01mnot\u001b[39;00m \u001b[38;5;28mhasattr\u001b[39m(estimator, \u001b[38;5;124m\"\u001b[39m\u001b[38;5;124mfit\u001b[39m\u001b[38;5;124m\"\u001b[39m):\n\u001b[1;32m-> 1996\u001b[0m     \u001b[38;5;28;01mraise\u001b[39;00m \u001b[38;5;167;01mValueError\u001b[39;00m(\n\u001b[0;32m   1997\u001b[0m         \u001b[38;5;124mf\u001b[39m\u001b[38;5;124m\"\u001b[39m\u001b[38;5;124mEstimator \u001b[39m\u001b[38;5;132;01m{\u001b[39;00mestimator\u001b[38;5;132;01m}\u001b[39;00m\u001b[38;5;124m does not have the required fit() method.\u001b[39m\u001b[38;5;124m\"\u001b[39m\n\u001b[0;32m   1998\u001b[0m     )\n\u001b[0;32m   2000\u001b[0m \u001b[38;5;66;03m# checking fold parameter\u001b[39;00m\n\u001b[0;32m   2001\u001b[0m \u001b[38;5;28;01mif\u001b[39;00m fold \u001b[38;5;129;01mis\u001b[39;00m \u001b[38;5;129;01mnot\u001b[39;00m \u001b[38;5;28;01mNone\u001b[39;00m \u001b[38;5;129;01mand\u001b[39;00m \u001b[38;5;129;01mnot\u001b[39;00m (\n\u001b[0;32m   2002\u001b[0m     \u001b[38;5;28mtype\u001b[39m(fold) \u001b[38;5;129;01mis\u001b[39;00m \u001b[38;5;28mint\u001b[39m \u001b[38;5;129;01mor\u001b[39;00m is_sklearn_cv_generator(fold)\n\u001b[0;32m   2003\u001b[0m ):\n",
      "\u001b[1;31mValueError\u001b[0m: Estimator [] does not have the required fit() method."
     ]
    }
   ],
   "source": [
    "tuned_model = tune_model(best, n_iter = 10, optimize='MAE')"
   ]
  },
  {
   "cell_type": "code",
   "execution_count": null,
   "metadata": {
    "application/vnd.databricks.v1+cell": {
     "cellMetadata": {
      "byteLimit": 2048000,
      "rowLimit": 10000
     },
     "inputWidgets": {},
     "nuid": "28be53b9-6504-4dbf-b27d-ec37ef39eb08",
     "showTitle": false,
     "title": ""
    }
   },
   "outputs": [],
   "source": [
    "evaluate_model(best)"
   ]
  },
  {
   "cell_type": "code",
   "execution_count": null,
   "metadata": {
    "application/vnd.databricks.v1+cell": {
     "cellMetadata": {
      "byteLimit": 2048000,
      "rowLimit": 10000
     },
     "inputWidgets": {},
     "nuid": "24fcf1aa-ec8b-4701-a93a-458fb99d0e10",
     "showTitle": false,
     "title": ""
    }
   },
   "outputs": [],
   "source": [
    "interpret_model(best)"
   ]
  }
 ],
 "metadata": {
  "application/vnd.databricks.v1+notebook": {
   "dashboards": [],
   "language": "python",
   "notebookMetadata": {
    "pythonIndentUnit": 4
   },
   "notebookName": "4c_AutoML_PyCare_jupyter",
   "widgets": {}
  },
  "kernelspec": {
   "display_name": "Python 3 (ipykernel)",
   "language": "python",
   "name": "python3"
  },
  "language_info": {
   "codemirror_mode": {
    "name": "ipython",
    "version": 3
   },
   "file_extension": ".py",
   "mimetype": "text/x-python",
   "name": "python",
   "nbconvert_exporter": "python",
   "pygments_lexer": "ipython3",
   "version": "3.11.5"
  }
 },
 "nbformat": 4,
 "nbformat_minor": 4
}
