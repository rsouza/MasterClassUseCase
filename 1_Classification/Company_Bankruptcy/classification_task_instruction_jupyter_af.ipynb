{
 "cells": [
  {
   "cell_type": "markdown",
   "metadata": {
    "application/vnd.databricks.v1+cell": {
     "cellMetadata": {},
     "inputWidgets": {},
     "nuid": "7c95c1f5-0a2c-42d5-8e1b-372ace8f4d2a",
     "showTitle": false,
     "title": ""
    }
   },
   "source": [
    "# Classification Task Instruction\n",
    "In this task, you will get a sense of using Python to solve a classification problem.\n",
    "The [dataset](https://archive.ics.uci.edu/dataset/572/taiwanese+bankruptcy+prediction) that we will be working with is from the Taiwanese Strock Exchange about the bankruptcy of various companies.   \n",
    "````\n",
    " Goal: to predict, if a company is bankrupt (denoted in **variable y**) or not.\n",
    "````\n",
    "\n",
    "Remember that this is an artifical use case which is supposed to serve a **Contributor level** purposes. Thereafter, you should practice skills such as **Data Preprocessing, Data Visualisation, Preparing Data for ML** and only after you receive feedback on your initial work it is recommended to try **to fit some baseline Machine Learning Model**."
   ]
  },
  {
   "cell_type": "markdown",
   "metadata": {
    "application/vnd.databricks.v1+cell": {
     "cellMetadata": {},
     "inputWidgets": {},
     "nuid": "97a0f587-fd01-42b0-9898-3f3423468f00",
     "showTitle": false,
     "title": ""
    }
   },
   "source": [
    "**Dataset citation:**\n",
    "[[Liang et al., 2016] Liang, D., Lu, C.-C., Tsai, C.-F., and Shih, G.-A. (2016) Financial Ratios and Corporate Governance Indicators in Bankruptcy Prediction: A Comprehensive Study. European Journal of Operational Research, vol. 252, no. 2, pp. 561-572.](https://archive.ics.uci.edu/ml/datasets/Bank+Marketing)"
   ]
  },
  {
   "cell_type": "markdown",
   "metadata": {},
   "source": [
    "# Task"
   ]
  },
  {
   "cell_type": "code",
   "execution_count": 1,
   "metadata": {},
   "outputs": [],
   "source": [
    "import pandas as pd\n",
    "import numpy as np\n",
    "import zipfile\n",
    "import matplotlib.pyplot as plt\n",
    "import seaborn as sns\n",
    "from sklearn.preprocessing import MinMaxScaler\n",
    "from sklearn.preprocessing import StandardScaler\n",
    "import scipy.stats as stats\n",
    "from sklearn.model_selection import train_test_split\n",
    "from sklearn.ensemble import RandomForestClassifier\n",
    "from sklearn.model_selection import RandomizedSearchCV, GridSearchCV\n",
    "\n",
    "from sklearn.metrics import classification_report, confusion_matrix, accuracy_score, recall_score, precision_score, f1_score"
   ]
  },
  {
   "cell_type": "markdown",
   "metadata": {},
   "source": [
    "## Step 1\n",
    "\n",
    "**Step 1: Data Loading & Preprocessing**\n",
    "- load the dataset into your Python Notebook\n",
    "- convert the dataset to the desired format that you want to work with (dataframe, numpy.array, list, etc.)\n",
    "- explore the dataset\n",
    "- observe the variables carefully, and try to understand each variable and its business value\n",
    "- don't forget the special treatment to null values"
   ]
  },
  {
   "cell_type": "code",
   "execution_count": 2,
   "metadata": {},
   "outputs": [],
   "source": [
    "zf = zipfile.ZipFile('Data/Company_Bankruptcy.zip') \n",
    "df = pd.read_csv(zf.open('Company_Bankruptcy.csv'))"
   ]
  },
  {
   "cell_type": "markdown",
   "metadata": {},
   "source": [
    "##### 1.0 - Making familiar with the data"
   ]
  },
  {
   "cell_type": "code",
   "execution_count": 3,
   "metadata": {},
   "outputs": [
    {
     "data": {
      "text/plain": [
       "(6819, 96)"
      ]
     },
     "execution_count": 3,
     "metadata": {},
     "output_type": "execute_result"
    }
   ],
   "source": [
    "# 11 years of data -> ~600 entries per year?\n",
    "df.shape"
   ]
  },
  {
   "cell_type": "code",
   "execution_count": 4,
   "metadata": {},
   "outputs": [
    {
     "data": {
      "text/html": [
       "<div>\n",
       "<style scoped>\n",
       "    .dataframe tbody tr th:only-of-type {\n",
       "        vertical-align: middle;\n",
       "    }\n",
       "\n",
       "    .dataframe tbody tr th {\n",
       "        vertical-align: top;\n",
       "    }\n",
       "\n",
       "    .dataframe thead th {\n",
       "        text-align: right;\n",
       "    }\n",
       "</style>\n",
       "<table border=\"1\" class=\"dataframe\">\n",
       "  <thead>\n",
       "    <tr style=\"text-align: right;\">\n",
       "      <th></th>\n",
       "      <th>Bankrupt?</th>\n",
       "      <th>ROA(C) before interest and depreciation before interest</th>\n",
       "      <th>ROA(A) before interest and % after tax</th>\n",
       "      <th>ROA(B) before interest and depreciation after tax</th>\n",
       "      <th>Operating Gross Margin</th>\n",
       "      <th>Realized Sales Gross Margin</th>\n",
       "      <th>Operating Profit Rate</th>\n",
       "      <th>Pre-tax net Interest Rate</th>\n",
       "      <th>After-tax net Interest Rate</th>\n",
       "      <th>Non-industry income and expenditure/revenue</th>\n",
       "      <th>...</th>\n",
       "      <th>Net Income to Total Assets</th>\n",
       "      <th>Total assets to GNP price</th>\n",
       "      <th>No-credit Interval</th>\n",
       "      <th>Gross Profit to Sales</th>\n",
       "      <th>Net Income to Stockholder's Equity</th>\n",
       "      <th>Liability to Equity</th>\n",
       "      <th>Degree of Financial Leverage (DFL)</th>\n",
       "      <th>Interest Coverage Ratio (Interest expense to EBIT)</th>\n",
       "      <th>Net Income Flag</th>\n",
       "      <th>Equity to Liability</th>\n",
       "    </tr>\n",
       "  </thead>\n",
       "  <tbody>\n",
       "    <tr>\n",
       "      <th>0</th>\n",
       "      <td>1</td>\n",
       "      <td>0.370594</td>\n",
       "      <td>0.424389</td>\n",
       "      <td>0.405750</td>\n",
       "      <td>0.601457</td>\n",
       "      <td>0.601457</td>\n",
       "      <td>0.998969</td>\n",
       "      <td>0.796887</td>\n",
       "      <td>0.808809</td>\n",
       "      <td>0.302646</td>\n",
       "      <td>...</td>\n",
       "      <td>0.716845</td>\n",
       "      <td>0.009219</td>\n",
       "      <td>0.622879</td>\n",
       "      <td>0.601453</td>\n",
       "      <td>0.827890</td>\n",
       "      <td>0.290202</td>\n",
       "      <td>0.026601</td>\n",
       "      <td>0.564050</td>\n",
       "      <td>1</td>\n",
       "      <td>0.016469</td>\n",
       "    </tr>\n",
       "    <tr>\n",
       "      <th>1</th>\n",
       "      <td>1</td>\n",
       "      <td>0.464291</td>\n",
       "      <td>0.538214</td>\n",
       "      <td>0.516730</td>\n",
       "      <td>0.610235</td>\n",
       "      <td>0.610235</td>\n",
       "      <td>0.998946</td>\n",
       "      <td>0.797380</td>\n",
       "      <td>0.809301</td>\n",
       "      <td>0.303556</td>\n",
       "      <td>...</td>\n",
       "      <td>0.795297</td>\n",
       "      <td>0.008323</td>\n",
       "      <td>0.623652</td>\n",
       "      <td>0.610237</td>\n",
       "      <td>0.839969</td>\n",
       "      <td>0.283846</td>\n",
       "      <td>0.264577</td>\n",
       "      <td>0.570175</td>\n",
       "      <td>1</td>\n",
       "      <td>0.020794</td>\n",
       "    </tr>\n",
       "    <tr>\n",
       "      <th>2</th>\n",
       "      <td>1</td>\n",
       "      <td>0.426071</td>\n",
       "      <td>0.499019</td>\n",
       "      <td>0.472295</td>\n",
       "      <td>0.601450</td>\n",
       "      <td>0.601364</td>\n",
       "      <td>0.998857</td>\n",
       "      <td>0.796403</td>\n",
       "      <td>0.808388</td>\n",
       "      <td>0.302035</td>\n",
       "      <td>...</td>\n",
       "      <td>0.774670</td>\n",
       "      <td>0.040003</td>\n",
       "      <td>0.623841</td>\n",
       "      <td>0.601449</td>\n",
       "      <td>0.836774</td>\n",
       "      <td>0.290189</td>\n",
       "      <td>0.026555</td>\n",
       "      <td>0.563706</td>\n",
       "      <td>1</td>\n",
       "      <td>0.016474</td>\n",
       "    </tr>\n",
       "    <tr>\n",
       "      <th>3</th>\n",
       "      <td>1</td>\n",
       "      <td>0.399844</td>\n",
       "      <td>0.451265</td>\n",
       "      <td>0.457733</td>\n",
       "      <td>0.583541</td>\n",
       "      <td>0.583541</td>\n",
       "      <td>0.998700</td>\n",
       "      <td>0.796967</td>\n",
       "      <td>0.808966</td>\n",
       "      <td>0.303350</td>\n",
       "      <td>...</td>\n",
       "      <td>0.739555</td>\n",
       "      <td>0.003252</td>\n",
       "      <td>0.622929</td>\n",
       "      <td>0.583538</td>\n",
       "      <td>0.834697</td>\n",
       "      <td>0.281721</td>\n",
       "      <td>0.026697</td>\n",
       "      <td>0.564663</td>\n",
       "      <td>1</td>\n",
       "      <td>0.023982</td>\n",
       "    </tr>\n",
       "    <tr>\n",
       "      <th>4</th>\n",
       "      <td>1</td>\n",
       "      <td>0.465022</td>\n",
       "      <td>0.538432</td>\n",
       "      <td>0.522298</td>\n",
       "      <td>0.598783</td>\n",
       "      <td>0.598783</td>\n",
       "      <td>0.998973</td>\n",
       "      <td>0.797366</td>\n",
       "      <td>0.809304</td>\n",
       "      <td>0.303475</td>\n",
       "      <td>...</td>\n",
       "      <td>0.795016</td>\n",
       "      <td>0.003878</td>\n",
       "      <td>0.623521</td>\n",
       "      <td>0.598782</td>\n",
       "      <td>0.839973</td>\n",
       "      <td>0.278514</td>\n",
       "      <td>0.024752</td>\n",
       "      <td>0.575617</td>\n",
       "      <td>1</td>\n",
       "      <td>0.035490</td>\n",
       "    </tr>\n",
       "  </tbody>\n",
       "</table>\n",
       "<p>5 rows × 96 columns</p>\n",
       "</div>"
      ],
      "text/plain": [
       "   Bankrupt?   ROA(C) before interest and depreciation before interest  \\\n",
       "0          1                                           0.370594          \n",
       "1          1                                           0.464291          \n",
       "2          1                                           0.426071          \n",
       "3          1                                           0.399844          \n",
       "4          1                                           0.465022          \n",
       "\n",
       "    ROA(A) before interest and % after tax  \\\n",
       "0                                 0.424389   \n",
       "1                                 0.538214   \n",
       "2                                 0.499019   \n",
       "3                                 0.451265   \n",
       "4                                 0.538432   \n",
       "\n",
       "    ROA(B) before interest and depreciation after tax  \\\n",
       "0                                           0.405750    \n",
       "1                                           0.516730    \n",
       "2                                           0.472295    \n",
       "3                                           0.457733    \n",
       "4                                           0.522298    \n",
       "\n",
       "    Operating Gross Margin   Realized Sales Gross Margin  \\\n",
       "0                 0.601457                      0.601457   \n",
       "1                 0.610235                      0.610235   \n",
       "2                 0.601450                      0.601364   \n",
       "3                 0.583541                      0.583541   \n",
       "4                 0.598783                      0.598783   \n",
       "\n",
       "    Operating Profit Rate   Pre-tax net Interest Rate  \\\n",
       "0                0.998969                    0.796887   \n",
       "1                0.998946                    0.797380   \n",
       "2                0.998857                    0.796403   \n",
       "3                0.998700                    0.796967   \n",
       "4                0.998973                    0.797366   \n",
       "\n",
       "    After-tax net Interest Rate   Non-industry income and expenditure/revenue  \\\n",
       "0                      0.808809                                      0.302646   \n",
       "1                      0.809301                                      0.303556   \n",
       "2                      0.808388                                      0.302035   \n",
       "3                      0.808966                                      0.303350   \n",
       "4                      0.809304                                      0.303475   \n",
       "\n",
       "   ...   Net Income to Total Assets   Total assets to GNP price  \\\n",
       "0  ...                     0.716845                    0.009219   \n",
       "1  ...                     0.795297                    0.008323   \n",
       "2  ...                     0.774670                    0.040003   \n",
       "3  ...                     0.739555                    0.003252   \n",
       "4  ...                     0.795016                    0.003878   \n",
       "\n",
       "    No-credit Interval   Gross Profit to Sales  \\\n",
       "0             0.622879                0.601453   \n",
       "1             0.623652                0.610237   \n",
       "2             0.623841                0.601449   \n",
       "3             0.622929                0.583538   \n",
       "4             0.623521                0.598782   \n",
       "\n",
       "    Net Income to Stockholder's Equity   Liability to Equity  \\\n",
       "0                             0.827890              0.290202   \n",
       "1                             0.839969              0.283846   \n",
       "2                             0.836774              0.290189   \n",
       "3                             0.834697              0.281721   \n",
       "4                             0.839973              0.278514   \n",
       "\n",
       "    Degree of Financial Leverage (DFL)  \\\n",
       "0                             0.026601   \n",
       "1                             0.264577   \n",
       "2                             0.026555   \n",
       "3                             0.026697   \n",
       "4                             0.024752   \n",
       "\n",
       "    Interest Coverage Ratio (Interest expense to EBIT)   Net Income Flag  \\\n",
       "0                                           0.564050                   1   \n",
       "1                                           0.570175                   1   \n",
       "2                                           0.563706                   1   \n",
       "3                                           0.564663                   1   \n",
       "4                                           0.575617                   1   \n",
       "\n",
       "    Equity to Liability  \n",
       "0              0.016469  \n",
       "1              0.020794  \n",
       "2              0.016474  \n",
       "3              0.023982  \n",
       "4              0.035490  \n",
       "\n",
       "[5 rows x 96 columns]"
      ]
     },
     "execution_count": 4,
     "metadata": {},
     "output_type": "execute_result"
    }
   ],
   "source": [
    "df.head()"
   ]
  },
  {
   "cell_type": "code",
   "execution_count": 5,
   "metadata": {},
   "outputs": [
    {
     "data": {
      "text/plain": [
       "['Bankrupt?',\n",
       " ' ROA(C) before interest and depreciation before interest',\n",
       " ' ROA(A) before interest and % after tax',\n",
       " ' ROA(B) before interest and depreciation after tax',\n",
       " ' Operating Gross Margin',\n",
       " ' Realized Sales Gross Margin',\n",
       " ' Operating Profit Rate',\n",
       " ' Pre-tax net Interest Rate',\n",
       " ' After-tax net Interest Rate',\n",
       " ' Non-industry income and expenditure/revenue',\n",
       " ' Continuous interest rate (after tax)',\n",
       " ' Operating Expense Rate',\n",
       " ' Research and development expense rate',\n",
       " ' Cash flow rate',\n",
       " ' Interest-bearing debt interest rate',\n",
       " ' Tax rate (A)',\n",
       " ' Net Value Per Share (B)',\n",
       " ' Net Value Per Share (A)',\n",
       " ' Net Value Per Share (C)',\n",
       " ' Persistent EPS in the Last Four Seasons',\n",
       " ' Cash Flow Per Share',\n",
       " ' Revenue Per Share (Yuan ¥)',\n",
       " ' Operating Profit Per Share (Yuan ¥)',\n",
       " ' Per Share Net profit before tax (Yuan ¥)',\n",
       " ' Realized Sales Gross Profit Growth Rate',\n",
       " ' Operating Profit Growth Rate',\n",
       " ' After-tax Net Profit Growth Rate',\n",
       " ' Regular Net Profit Growth Rate',\n",
       " ' Continuous Net Profit Growth Rate',\n",
       " ' Total Asset Growth Rate',\n",
       " ' Net Value Growth Rate',\n",
       " ' Total Asset Return Growth Rate Ratio',\n",
       " ' Cash Reinvestment %',\n",
       " ' Current Ratio',\n",
       " ' Quick Ratio',\n",
       " ' Interest Expense Ratio',\n",
       " ' Total debt/Total net worth',\n",
       " ' Debt ratio %',\n",
       " ' Net worth/Assets',\n",
       " ' Long-term fund suitability ratio (A)',\n",
       " ' Borrowing dependency',\n",
       " ' Contingent liabilities/Net worth',\n",
       " ' Operating profit/Paid-in capital',\n",
       " ' Net profit before tax/Paid-in capital',\n",
       " ' Inventory and accounts receivable/Net value',\n",
       " ' Total Asset Turnover',\n",
       " ' Accounts Receivable Turnover',\n",
       " ' Average Collection Days',\n",
       " ' Inventory Turnover Rate (times)',\n",
       " ' Fixed Assets Turnover Frequency',\n",
       " ' Net Worth Turnover Rate (times)',\n",
       " ' Revenue per person',\n",
       " ' Operating profit per person',\n",
       " ' Allocation rate per person',\n",
       " ' Working Capital to Total Assets',\n",
       " ' Quick Assets/Total Assets',\n",
       " ' Current Assets/Total Assets',\n",
       " ' Cash/Total Assets',\n",
       " ' Quick Assets/Current Liability',\n",
       " ' Cash/Current Liability',\n",
       " ' Current Liability to Assets',\n",
       " ' Operating Funds to Liability',\n",
       " ' Inventory/Working Capital',\n",
       " ' Inventory/Current Liability',\n",
       " ' Current Liabilities/Liability',\n",
       " ' Working Capital/Equity',\n",
       " ' Current Liabilities/Equity',\n",
       " ' Long-term Liability to Current Assets',\n",
       " ' Retained Earnings to Total Assets',\n",
       " ' Total income/Total expense',\n",
       " ' Total expense/Assets',\n",
       " ' Current Asset Turnover Rate',\n",
       " ' Quick Asset Turnover Rate',\n",
       " ' Working capitcal Turnover Rate',\n",
       " ' Cash Turnover Rate',\n",
       " ' Cash Flow to Sales',\n",
       " ' Fixed Assets to Assets',\n",
       " ' Current Liability to Liability',\n",
       " ' Current Liability to Equity',\n",
       " ' Equity to Long-term Liability',\n",
       " ' Cash Flow to Total Assets',\n",
       " ' Cash Flow to Liability',\n",
       " ' CFO to Assets',\n",
       " ' Cash Flow to Equity',\n",
       " ' Current Liability to Current Assets',\n",
       " ' Liability-Assets Flag',\n",
       " ' Net Income to Total Assets',\n",
       " ' Total assets to GNP price',\n",
       " ' No-credit Interval',\n",
       " ' Gross Profit to Sales',\n",
       " \" Net Income to Stockholder's Equity\",\n",
       " ' Liability to Equity',\n",
       " ' Degree of Financial Leverage (DFL)',\n",
       " ' Interest Coverage Ratio (Interest expense to EBIT)',\n",
       " ' Net Income Flag',\n",
       " ' Equity to Liability']"
      ]
     },
     "execution_count": 5,
     "metadata": {},
     "output_type": "execute_result"
    }
   ],
   "source": [
    "# good economic features, but key information is missing: \n",
    "# - unique identifier (are companies multiple times in the data?)\n",
    "# - date (or is it an average of 11 years per company)\n",
    "# - industry, market interest rates (e.g. inter bank swap rates) \n",
    "# - Interest-bearing debt interest rates without the market interest rate is not very useful\n",
    "df.columns.to_list()"
   ]
  },
  {
   "cell_type": "markdown",
   "metadata": {},
   "source": [
    "Screening the web for more information on the data set was not successful:\n",
    "- The page: https://archive.ics.uci.edu/dataset/572/taiwanese+bankruptcy+prediction the data is copied from only mentions: 'The data were collected from the Taiwan Economic Journal for the years 1999 to 2009. Company bankruptcy was defined based on the business regulations of the Taiwan Stock Exchange.'\n",
    "- The kaggle page: https://www.kaggle.com/datasets/fedesoriano/company-bankruptcy-prediction/data includes no further information neither\n",
    "- The page of 'Taiwan Economic Journal' seems to be offline"
   ]
  },
  {
   "cell_type": "markdown",
   "metadata": {},
   "source": [
    "Conclusion: nice data frame, economic value unfortunately questionable as key information is not available. description of features is also not available such that a sound economic model will not be feasible, but we try to make the best out of it. Some features are very likely having very high dependencies by definition(?) (ROA A-C)"
   ]
  },
  {
   "cell_type": "markdown",
   "metadata": {},
   "source": [
    "##### 1.1 - Checking columns and data types"
   ]
  },
  {
   "cell_type": "code",
   "execution_count": 6,
   "metadata": {},
   "outputs": [
    {
     "data": {
      "text/plain": [
       "(96, (6819, 96))"
      ]
     },
     "execution_count": 6,
     "metadata": {},
     "output_type": "execute_result"
    }
   ],
   "source": [
    "# only numbers\n",
    "len(df.select_dtypes(include='number').columns), df.shape"
   ]
  },
  {
   "cell_type": "code",
   "execution_count": 7,
   "metadata": {},
   "outputs": [
    {
     "data": {
      "text/plain": [
       "0"
      ]
     },
     "execution_count": 7,
     "metadata": {},
     "output_type": "execute_result"
    }
   ],
   "source": [
    "# no NAs\n",
    "df.isnull().sum().sum()"
   ]
  },
  {
   "cell_type": "markdown",
   "metadata": {},
   "source": [
    "only integers / floats with no NAs -> super clean data set!"
   ]
  },
  {
   "cell_type": "markdown",
   "metadata": {},
   "source": [
    "## Step 2\n",
    "\n",
    "**Step 2: Data Visualisation & Exploration**\n",
    "- employ various visualisation skills that you acquired inside and outside the classroom\n",
    "- with the visualisation tools, understand what is happening in the dataset\n"
   ]
  },
  {
   "cell_type": "code",
   "execution_count": 8,
   "metadata": {},
   "outputs": [
    {
     "data": {
      "text/plain": [
       "Index(['Bankrupt?', ' Liability-Assets Flag', ' Net Income Flag'], dtype='object')"
      ]
     },
     "execution_count": 8,
     "metadata": {},
     "output_type": "execute_result"
    }
   ],
   "source": [
    "feat_int=df.select_dtypes(include='int').columns\n",
    "feat_int"
   ]
  },
  {
   "cell_type": "code",
   "execution_count": 9,
   "metadata": {},
   "outputs": [
    {
     "data": {
      "text/plain": [
       "93"
      ]
     },
     "execution_count": 9,
     "metadata": {},
     "output_type": "execute_result"
    }
   ],
   "source": [
    "feat_float=df.select_dtypes(include='float').columns\n",
    "len(feat_float)"
   ]
  },
  {
   "cell_type": "markdown",
   "metadata": {},
   "source": [
    "### integer features"
   ]
  },
  {
   "cell_type": "code",
   "execution_count": 10,
   "metadata": {},
   "outputs": [
    {
     "data": {
      "image/png": "[encoded data removed]",
      "text/plain": [
       "<Figure size 1800x500 with 1 Axes>"
      ]
     },
     "metadata": {},
     "output_type": "display_data"
    },
    {
     "data": {
      "image/png": "[encoded data removed]",
      "text/plain": [
       "<Figure size 1800x500 with 1 Axes>"
      ]
     },
     "metadata": {},
     "output_type": "display_data"
    },
    {
     "data": {
      "image/png": "[encoded data removed]",
      "text/plain": [
       "<Figure size 1800x500 with 1 Axes>"
      ]
     },
     "metadata": {},
     "output_type": "display_data"
    }
   ],
   "source": [
    "for col in feat_int:\n",
    "    plt.figure(figsize=(18,5))\n",
    "    # plt.subplot(1,2,1)\n",
    "    # sns.distplot(df[col])\n",
    "    sns.histplot(df[col])\n",
    "    # plt.subplot(1,2,2)\n",
    "    # sns.boxplot(x=col, data=df)\n",
    "    plt.show()"
   ]
  },
  {
   "cell_type": "code",
   "execution_count": 11,
   "metadata": {},
   "outputs": [
    {
     "data": {
      "text/plain": [
       "count    6819.0\n",
       "mean        1.0\n",
       "std         0.0\n",
       "min         1.0\n",
       "25%         1.0\n",
       "50%         1.0\n",
       "75%         1.0\n",
       "max         1.0\n",
       "Name:  Net Income Flag, dtype: float64"
      ]
     },
     "execution_count": 11,
     "metadata": {},
     "output_type": "execute_result"
    }
   ],
   "source": [
    "df[' Net Income Flag'].describe()"
   ]
  },
  {
   "cell_type": "markdown",
   "metadata": {},
   "source": [
    "only binary features; Net Income Flag is always 1 -> will be removed"
   ]
  },
  {
   "cell_type": "markdown",
   "metadata": {},
   "source": [
    "### float features\n",
    "there are too many to plot all of them. we first produce some statistics and focus on the most interesting ones"
   ]
  },
  {
   "cell_type": "code",
   "execution_count": 12,
   "metadata": {},
   "outputs": [
    {
     "data": {
      "text/html": [
       "<div>\n",
       "<style scoped>\n",
       "    .dataframe tbody tr th:only-of-type {\n",
       "        vertical-align: middle;\n",
       "    }\n",
       "\n",
       "    .dataframe tbody tr th {\n",
       "        vertical-align: top;\n",
       "    }\n",
       "\n",
       "    .dataframe thead th {\n",
       "        text-align: right;\n",
       "    }\n",
       "</style>\n",
       "<table border=\"1\" class=\"dataframe\">\n",
       "  <thead>\n",
       "    <tr style=\"text-align: right;\">\n",
       "      <th></th>\n",
       "      <th>min</th>\n",
       "    </tr>\n",
       "  </thead>\n",
       "  <tbody>\n",
       "    <tr>\n",
       "      <th>count</th>\n",
       "      <td>93.0</td>\n",
       "    </tr>\n",
       "    <tr>\n",
       "      <th>mean</th>\n",
       "      <td>0.0</td>\n",
       "    </tr>\n",
       "    <tr>\n",
       "      <th>std</th>\n",
       "      <td>0.0</td>\n",
       "    </tr>\n",
       "    <tr>\n",
       "      <th>min</th>\n",
       "      <td>0.0</td>\n",
       "    </tr>\n",
       "    <tr>\n",
       "      <th>25%</th>\n",
       "      <td>0.0</td>\n",
       "    </tr>\n",
       "    <tr>\n",
       "      <th>50%</th>\n",
       "      <td>0.0</td>\n",
       "    </tr>\n",
       "    <tr>\n",
       "      <th>75%</th>\n",
       "      <td>0.0</td>\n",
       "    </tr>\n",
       "    <tr>\n",
       "      <th>max</th>\n",
       "      <td>0.0</td>\n",
       "    </tr>\n",
       "  </tbody>\n",
       "</table>\n",
       "</div>"
      ],
      "text/plain": [
       "        min\n",
       "count  93.0\n",
       "mean    0.0\n",
       "std     0.0\n",
       "min     0.0\n",
       "25%     0.0\n",
       "50%     0.0\n",
       "75%     0.0\n",
       "max     0.0"
      ]
     },
     "execution_count": 12,
     "metadata": {},
     "output_type": "execute_result"
    }
   ],
   "source": [
    "df_min = df[feat_float].describe().loc[['min']]\n",
    "\n",
    "# min is always 0\n",
    "df_min.transpose().describe()"
   ]
  },
  {
   "cell_type": "code",
   "execution_count": 13,
   "metadata": {},
   "outputs": [
    {
     "data": {
      "text/html": [
       "<div>\n",
       "<style scoped>\n",
       "    .dataframe tbody tr th:only-of-type {\n",
       "        vertical-align: middle;\n",
       "    }\n",
       "\n",
       "    .dataframe tbody tr th {\n",
       "        vertical-align: top;\n",
       "    }\n",
       "\n",
       "    .dataframe thead th {\n",
       "        text-align: right;\n",
       "    }\n",
       "</style>\n",
       "<table border=\"1\" class=\"dataframe\">\n",
       "  <thead>\n",
       "    <tr style=\"text-align: right;\">\n",
       "      <th></th>\n",
       "      <th>max</th>\n",
       "    </tr>\n",
       "  </thead>\n",
       "  <tbody>\n",
       "    <tr>\n",
       "      <th>count</th>\n",
       "      <td>9.300000e+01</td>\n",
       "    </tr>\n",
       "    <tr>\n",
       "      <th>mean</th>\n",
       "      <td>2.248495e+09</td>\n",
       "    </tr>\n",
       "    <tr>\n",
       "      <th>std</th>\n",
       "      <td>4.040363e+09</td>\n",
       "    </tr>\n",
       "    <tr>\n",
       "      <th>min</th>\n",
       "      <td>1.000000e+00</td>\n",
       "    </tr>\n",
       "    <tr>\n",
       "      <th>25%</th>\n",
       "      <td>1.000000e+00</td>\n",
       "    </tr>\n",
       "    <tr>\n",
       "      <th>50%</th>\n",
       "      <td>1.000000e+00</td>\n",
       "    </tr>\n",
       "    <tr>\n",
       "      <th>75%</th>\n",
       "      <td>9.900000e+08</td>\n",
       "    </tr>\n",
       "    <tr>\n",
       "      <th>max</th>\n",
       "      <td>1.000000e+10</td>\n",
       "    </tr>\n",
       "  </tbody>\n",
       "</table>\n",
       "</div>"
      ],
      "text/plain": [
       "                max\n",
       "count  9.300000e+01\n",
       "mean   2.248495e+09\n",
       "std    4.040363e+09\n",
       "min    1.000000e+00\n",
       "25%    1.000000e+00\n",
       "50%    1.000000e+00\n",
       "75%    9.900000e+08\n",
       "max    1.000000e+10"
      ]
     },
     "execution_count": 13,
     "metadata": {},
     "output_type": "execute_result"
    }
   ],
   "source": [
    "# all of them have max at least 1 -> no constant columns, but very different scales\n",
    "df_max=df[feat_float].describe().loc[['max']]\n",
    "df_max.transpose().describe()"
   ]
  },
  {
   "cell_type": "code",
   "execution_count": 14,
   "metadata": {},
   "outputs": [],
   "source": [
    "df_float=df[feat_float].copy(deep=True)"
   ]
  },
  {
   "cell_type": "markdown",
   "metadata": {},
   "source": [
    "#### outlier detection"
   ]
  },
  {
   "cell_type": "code",
   "execution_count": 15,
   "metadata": {},
   "outputs": [
    {
     "name": "stdout",
     "output_type": "stream",
     "text": [
      "7.646313365443754\n",
      "4.243458748240554\n",
      "50.0\n"
     ]
    }
   ],
   "source": [
    "# to get an impression what is 'possible' with very fat tailed distributions\n",
    "print(stats.t(2).ppf(0.999)/stats.t(2).ppf(0.95))\n",
    "print(stats.lognorm(1).ppf(0.999)/stats.lognorm(1).ppf(0.95))\n",
    "print(stats.pareto(1).ppf(0.999)/stats.pareto(1).ppf(0.95))"
   ]
  },
  {
   "cell_type": "code",
   "execution_count": 16,
   "metadata": {},
   "outputs": [
    {
     "data": {
      "text/plain": [
       " Accounts Receivable Turnover             1.210293e+12\n",
       " Interest-bearing debt interest rate      7.773298e+11\n",
       " Inventory/Current Liability              3.454543e+11\n",
       " Total assets to GNP price                2.763521e+11\n",
       " Long-term Liability to Current Assets    2.506124e+11\n",
       " Average Collection Days                  2.504877e+11\n",
       " Cash/Current Liability                   1.539342e+11\n",
       " Allocation rate per person               1.269640e+11\n",
       " Quick Ratio                              1.180047e+11\n",
       " Total debt/Total net worth               2.691809e+10\n",
       " Net Value Growth Rate                    2.814730e+01\n",
       " Long-term fund suitability ratio (A)     2.800439e+01\n",
       "dtype: float64"
      ]
     },
     "execution_count": 16,
     "metadata": {},
     "output_type": "execute_result"
    }
   ],
   "source": [
    "# there are obviously some features with very unrealistic values (ratios with e+10) -> we will cap them\n",
    "ratio=df_float.quantile(0.999)/df_float.quantile(0.95)\n",
    "ratio[ratio>10].sort_values(ascending=False)"
   ]
  },
  {
   "cell_type": "code",
   "execution_count": 17,
   "metadata": {},
   "outputs": [
    {
     "data": {
      "text/plain": [
       " Interest-bearing debt interest rate      100.000000\n",
       " Quick Ratio                              100.000000\n",
       " Total debt/Total net worth               100.000000\n",
       " Accounts Receivable Turnover             100.000000\n",
       " Average Collection Days                  100.000000\n",
       " Allocation rate per person               100.000000\n",
       " Cash/Current Liability                   100.000000\n",
       " Inventory/Current Liability              100.000000\n",
       " Long-term Liability to Current Assets    100.000000\n",
       " Total assets to GNP price                100.000000\n",
       " Net Value Growth Rate                     28.147300\n",
       " Long-term fund suitability ratio (A)      28.004392\n",
       "dtype: float64"
      ]
     },
     "execution_count": 17,
     "metadata": {},
     "output_type": "execute_result"
    }
   ],
   "source": [
    "# clipping outliers with a ratio of 100 of the 95% quantile\n",
    "feat_float_outliers=ratio[ratio>10].index\n",
    "caps=df_float[feat_float_outliers].quantile(0.95)*100\n",
    "df_float[feat_float_outliers]=df_float[feat_float_outliers].clip(upper=caps, axis=1)\n",
    "# check again\n",
    "ratio=df_float.quantile(0.999)/df_float.quantile(0.95)\n",
    "ratio[ratio>10].sort_values(ascending=False)"
   ]
  },
  {
   "cell_type": "markdown",
   "metadata": {},
   "source": [
    "#### further inspection"
   ]
  },
  {
   "cell_type": "code",
   "execution_count": 18,
   "metadata": {},
   "outputs": [
    {
     "data": {
      "text/plain": [
       "<Axes: >"
      ]
     },
     "execution_count": 18,
     "metadata": {},
     "output_type": "execute_result"
    },
    {
     "data": {
      "image/png": "[encoded data removed]",
      "text/plain": [
       "<Figure size 640x480 with 1 Axes>"
      ]
     },
     "metadata": {},
     "output_type": "display_data"
    }
   ],
   "source": [
    "# to see if the outlier removal will change the picture fundamentally -> no\n",
    "scaler_standard = StandardScaler()\n",
    "scaler_standard.fit(df[feat_float])\n",
    "\n",
    "df_float_scaled_standard_beforeoutlier = scaler_standard.transform(df[feat_float])\n",
    "sns.boxplot(data=df_float_scaled_standard_beforeoutlier)"
   ]
  },
  {
   "cell_type": "code",
   "execution_count": 19,
   "metadata": {},
   "outputs": [
    {
     "data": {
      "text/plain": [
       "<Axes: >"
      ]
     },
     "execution_count": 19,
     "metadata": {},
     "output_type": "execute_result"
    },
    {
     "data": {
      "image/png": "[encoded data removed]",
      "text/plain": [
       "<Figure size 640x480 with 1 Axes>"
      ]
     },
     "metadata": {},
     "output_type": "display_data"
    }
   ],
   "source": [
    "scaler_standard.fit(df_float)\n",
    "\n",
    "df_float_scaled_standard_afteroutlier = scaler_standard.transform(df_float)\n",
    "sns.boxplot(data=df_float_scaled_standard_afteroutlier)"
   ]
  },
  {
   "cell_type": "code",
   "execution_count": 20,
   "metadata": {},
   "outputs": [
    {
     "data": {
      "text/plain": [
       "<Axes: >"
      ]
     },
     "execution_count": 20,
     "metadata": {},
     "output_type": "execute_result"
    },
    {
     "data": {
      "image/png": "[encoded data removed]",
      "text/plain": [
       "<Figure size 640x480 with 1 Axes>"
      ]
     },
     "metadata": {},
     "output_type": "display_data"
    }
   ],
   "source": [
    "# to see if the outlier removal will change the picture fundamentally -> no\n",
    "scaler_minmax = MinMaxScaler()\n",
    "scaler_minmax.fit(df[feat_float])\n",
    "\n",
    "df_float_scaled_minmax_beforeoutlier = scaler_minmax.transform(df[feat_float])\n",
    "sns.boxplot(data=df_float_scaled_minmax_beforeoutlier,showfliers=False)"
   ]
  },
  {
   "cell_type": "code",
   "execution_count": 21,
   "metadata": {},
   "outputs": [
    {
     "data": {
      "text/plain": [
       "<Axes: >"
      ]
     },
     "execution_count": 21,
     "metadata": {},
     "output_type": "execute_result"
    },
    {
     "data": {
      "image/png": "[encoded data removed]",
      "text/plain": [
       "<Figure size 640x480 with 1 Axes>"
      ]
     },
     "metadata": {},
     "output_type": "display_data"
    }
   ],
   "source": [
    "scaler_minmax = MinMaxScaler()\n",
    "scaler_minmax.fit(df_float)\n",
    "\n",
    "df_float_scaled_minmax_afteroutlier = scaler_minmax.transform(df_float)\n",
    "sns.boxplot(data=df_float_scaled_minmax_afteroutlier,showfliers=False)"
   ]
  },
  {
   "cell_type": "code",
   "execution_count": 22,
   "metadata": {},
   "outputs": [
    {
     "data": {
      "text/html": [
       "<div>\n",
       "<style scoped>\n",
       "    .dataframe tbody tr th:only-of-type {\n",
       "        vertical-align: middle;\n",
       "    }\n",
       "\n",
       "    .dataframe tbody tr th {\n",
       "        vertical-align: top;\n",
       "    }\n",
       "\n",
       "    .dataframe thead th {\n",
       "        text-align: right;\n",
       "    }\n",
       "</style>\n",
       "<table border=\"1\" class=\"dataframe\">\n",
       "  <thead>\n",
       "    <tr style=\"text-align: right;\">\n",
       "      <th></th>\n",
       "      <th>ROA(C) before interest and depreciation before interest</th>\n",
       "      <th>ROA(A) before interest and % after tax</th>\n",
       "      <th>ROA(B) before interest and depreciation after tax</th>\n",
       "      <th>Operating Gross Margin</th>\n",
       "      <th>Realized Sales Gross Margin</th>\n",
       "      <th>Operating Profit Rate</th>\n",
       "      <th>Pre-tax net Interest Rate</th>\n",
       "      <th>After-tax net Interest Rate</th>\n",
       "      <th>Non-industry income and expenditure/revenue</th>\n",
       "      <th>Continuous interest rate (after tax)</th>\n",
       "      <th>...</th>\n",
       "      <th>Current Liability to Current Assets</th>\n",
       "      <th>Net Income to Total Assets</th>\n",
       "      <th>Total assets to GNP price</th>\n",
       "      <th>No-credit Interval</th>\n",
       "      <th>Gross Profit to Sales</th>\n",
       "      <th>Net Income to Stockholder's Equity</th>\n",
       "      <th>Liability to Equity</th>\n",
       "      <th>Degree of Financial Leverage (DFL)</th>\n",
       "      <th>Interest Coverage Ratio (Interest expense to EBIT)</th>\n",
       "      <th>Equity to Liability</th>\n",
       "    </tr>\n",
       "  </thead>\n",
       "  <tbody>\n",
       "    <tr>\n",
       "      <th>count</th>\n",
       "      <td>6819.000000</td>\n",
       "      <td>6819.000000</td>\n",
       "      <td>6819.000000</td>\n",
       "      <td>6819.000000</td>\n",
       "      <td>6819.000000</td>\n",
       "      <td>6819.000000</td>\n",
       "      <td>6819.000000</td>\n",
       "      <td>6819.000000</td>\n",
       "      <td>6819.000000</td>\n",
       "      <td>6819.000000</td>\n",
       "      <td>...</td>\n",
       "      <td>6819.000000</td>\n",
       "      <td>6819.000000</td>\n",
       "      <td>6819.000000</td>\n",
       "      <td>6819.000000</td>\n",
       "      <td>6819.000000</td>\n",
       "      <td>6819.000000</td>\n",
       "      <td>6819.000000</td>\n",
       "      <td>6819.000000</td>\n",
       "      <td>6819.000000</td>\n",
       "      <td>6819.000000</td>\n",
       "    </tr>\n",
       "    <tr>\n",
       "      <th>mean</th>\n",
       "      <td>0.505180</td>\n",
       "      <td>0.558625</td>\n",
       "      <td>0.553589</td>\n",
       "      <td>0.607948</td>\n",
       "      <td>0.607929</td>\n",
       "      <td>0.998755</td>\n",
       "      <td>0.797190</td>\n",
       "      <td>0.809084</td>\n",
       "      <td>0.303623</td>\n",
       "      <td>0.781381</td>\n",
       "      <td>...</td>\n",
       "      <td>0.031506</td>\n",
       "      <td>0.807760</td>\n",
       "      <td>0.005825</td>\n",
       "      <td>0.623915</td>\n",
       "      <td>0.607946</td>\n",
       "      <td>0.840402</td>\n",
       "      <td>0.280365</td>\n",
       "      <td>0.027541</td>\n",
       "      <td>0.565358</td>\n",
       "      <td>0.047578</td>\n",
       "    </tr>\n",
       "    <tr>\n",
       "      <th>std</th>\n",
       "      <td>0.060686</td>\n",
       "      <td>0.065620</td>\n",
       "      <td>0.061595</td>\n",
       "      <td>0.016934</td>\n",
       "      <td>0.016916</td>\n",
       "      <td>0.013010</td>\n",
       "      <td>0.012869</td>\n",
       "      <td>0.013601</td>\n",
       "      <td>0.011163</td>\n",
       "      <td>0.012679</td>\n",
       "      <td>...</td>\n",
       "      <td>0.030845</td>\n",
       "      <td>0.040332</td>\n",
       "      <td>0.055107</td>\n",
       "      <td>0.012290</td>\n",
       "      <td>0.016934</td>\n",
       "      <td>0.014523</td>\n",
       "      <td>0.014463</td>\n",
       "      <td>0.015668</td>\n",
       "      <td>0.013214</td>\n",
       "      <td>0.050014</td>\n",
       "    </tr>\n",
       "    <tr>\n",
       "      <th>min</th>\n",
       "      <td>0.000000</td>\n",
       "      <td>0.000000</td>\n",
       "      <td>0.000000</td>\n",
       "      <td>0.000000</td>\n",
       "      <td>0.000000</td>\n",
       "      <td>0.000000</td>\n",
       "      <td>0.000000</td>\n",
       "      <td>0.000000</td>\n",
       "      <td>0.000000</td>\n",
       "      <td>0.000000</td>\n",
       "      <td>...</td>\n",
       "      <td>0.000000</td>\n",
       "      <td>0.000000</td>\n",
       "      <td>0.000000</td>\n",
       "      <td>0.000000</td>\n",
       "      <td>0.000000</td>\n",
       "      <td>0.000000</td>\n",
       "      <td>0.000000</td>\n",
       "      <td>0.000000</td>\n",
       "      <td>0.000000</td>\n",
       "      <td>0.000000</td>\n",
       "    </tr>\n",
       "    <tr>\n",
       "      <th>25%</th>\n",
       "      <td>0.476527</td>\n",
       "      <td>0.535543</td>\n",
       "      <td>0.527277</td>\n",
       "      <td>0.600445</td>\n",
       "      <td>0.600434</td>\n",
       "      <td>0.998969</td>\n",
       "      <td>0.797386</td>\n",
       "      <td>0.809312</td>\n",
       "      <td>0.303466</td>\n",
       "      <td>0.781567</td>\n",
       "      <td>...</td>\n",
       "      <td>0.018034</td>\n",
       "      <td>0.796750</td>\n",
       "      <td>0.000302</td>\n",
       "      <td>0.623636</td>\n",
       "      <td>0.600443</td>\n",
       "      <td>0.840115</td>\n",
       "      <td>0.276944</td>\n",
       "      <td>0.026791</td>\n",
       "      <td>0.565158</td>\n",
       "      <td>0.024477</td>\n",
       "    </tr>\n",
       "    <tr>\n",
       "      <th>50%</th>\n",
       "      <td>0.502706</td>\n",
       "      <td>0.559802</td>\n",
       "      <td>0.552278</td>\n",
       "      <td>0.605997</td>\n",
       "      <td>0.605976</td>\n",
       "      <td>0.999022</td>\n",
       "      <td>0.797464</td>\n",
       "      <td>0.809375</td>\n",
       "      <td>0.303525</td>\n",
       "      <td>0.781635</td>\n",
       "      <td>...</td>\n",
       "      <td>0.027597</td>\n",
       "      <td>0.810619</td>\n",
       "      <td>0.000698</td>\n",
       "      <td>0.623879</td>\n",
       "      <td>0.605998</td>\n",
       "      <td>0.841179</td>\n",
       "      <td>0.278778</td>\n",
       "      <td>0.026808</td>\n",
       "      <td>0.565252</td>\n",
       "      <td>0.033798</td>\n",
       "    </tr>\n",
       "    <tr>\n",
       "      <th>75%</th>\n",
       "      <td>0.535563</td>\n",
       "      <td>0.589157</td>\n",
       "      <td>0.584105</td>\n",
       "      <td>0.613914</td>\n",
       "      <td>0.613842</td>\n",
       "      <td>0.999095</td>\n",
       "      <td>0.797579</td>\n",
       "      <td>0.809469</td>\n",
       "      <td>0.303585</td>\n",
       "      <td>0.781735</td>\n",
       "      <td>...</td>\n",
       "      <td>0.038375</td>\n",
       "      <td>0.826455</td>\n",
       "      <td>0.001764</td>\n",
       "      <td>0.624168</td>\n",
       "      <td>0.613913</td>\n",
       "      <td>0.842357</td>\n",
       "      <td>0.281449</td>\n",
       "      <td>0.026913</td>\n",
       "      <td>0.565725</td>\n",
       "      <td>0.052838</td>\n",
       "    </tr>\n",
       "    <tr>\n",
       "      <th>max</th>\n",
       "      <td>1.000000</td>\n",
       "      <td>1.000000</td>\n",
       "      <td>1.000000</td>\n",
       "      <td>1.000000</td>\n",
       "      <td>1.000000</td>\n",
       "      <td>1.000000</td>\n",
       "      <td>1.000000</td>\n",
       "      <td>1.000000</td>\n",
       "      <td>1.000000</td>\n",
       "      <td>1.000000</td>\n",
       "      <td>...</td>\n",
       "      <td>1.000000</td>\n",
       "      <td>1.000000</td>\n",
       "      <td>1.000000</td>\n",
       "      <td>1.000000</td>\n",
       "      <td>1.000000</td>\n",
       "      <td>1.000000</td>\n",
       "      <td>1.000000</td>\n",
       "      <td>1.000000</td>\n",
       "      <td>1.000000</td>\n",
       "      <td>1.000000</td>\n",
       "    </tr>\n",
       "  </tbody>\n",
       "</table>\n",
       "<p>8 rows × 93 columns</p>\n",
       "</div>"
      ],
      "text/plain": [
       "        ROA(C) before interest and depreciation before interest  \\\n",
       "count                                        6819.000000          \n",
       "mean                                            0.505180          \n",
       "std                                             0.060686          \n",
       "min                                             0.000000          \n",
       "25%                                             0.476527          \n",
       "50%                                             0.502706          \n",
       "75%                                             0.535563          \n",
       "max                                             1.000000          \n",
       "\n",
       "        ROA(A) before interest and % after tax  \\\n",
       "count                              6819.000000   \n",
       "mean                                  0.558625   \n",
       "std                                   0.065620   \n",
       "min                                   0.000000   \n",
       "25%                                   0.535543   \n",
       "50%                                   0.559802   \n",
       "75%                                   0.589157   \n",
       "max                                   1.000000   \n",
       "\n",
       "        ROA(B) before interest and depreciation after tax  \\\n",
       "count                                        6819.000000    \n",
       "mean                                            0.553589    \n",
       "std                                             0.061595    \n",
       "min                                             0.000000    \n",
       "25%                                             0.527277    \n",
       "50%                                             0.552278    \n",
       "75%                                             0.584105    \n",
       "max                                             1.000000    \n",
       "\n",
       "        Operating Gross Margin   Realized Sales Gross Margin  \\\n",
       "count              6819.000000                   6819.000000   \n",
       "mean                  0.607948                      0.607929   \n",
       "std                   0.016934                      0.016916   \n",
       "min                   0.000000                      0.000000   \n",
       "25%                   0.600445                      0.600434   \n",
       "50%                   0.605997                      0.605976   \n",
       "75%                   0.613914                      0.613842   \n",
       "max                   1.000000                      1.000000   \n",
       "\n",
       "        Operating Profit Rate   Pre-tax net Interest Rate  \\\n",
       "count             6819.000000                 6819.000000   \n",
       "mean                 0.998755                    0.797190   \n",
       "std                  0.013010                    0.012869   \n",
       "min                  0.000000                    0.000000   \n",
       "25%                  0.998969                    0.797386   \n",
       "50%                  0.999022                    0.797464   \n",
       "75%                  0.999095                    0.797579   \n",
       "max                  1.000000                    1.000000   \n",
       "\n",
       "        After-tax net Interest Rate  \\\n",
       "count                   6819.000000   \n",
       "mean                       0.809084   \n",
       "std                        0.013601   \n",
       "min                        0.000000   \n",
       "25%                        0.809312   \n",
       "50%                        0.809375   \n",
       "75%                        0.809469   \n",
       "max                        1.000000   \n",
       "\n",
       "        Non-industry income and expenditure/revenue  \\\n",
       "count                                   6819.000000   \n",
       "mean                                       0.303623   \n",
       "std                                        0.011163   \n",
       "min                                        0.000000   \n",
       "25%                                        0.303466   \n",
       "50%                                        0.303525   \n",
       "75%                                        0.303585   \n",
       "max                                        1.000000   \n",
       "\n",
       "        Continuous interest rate (after tax)  ...  \\\n",
       "count                            6819.000000  ...   \n",
       "mean                                0.781381  ...   \n",
       "std                                 0.012679  ...   \n",
       "min                                 0.000000  ...   \n",
       "25%                                 0.781567  ...   \n",
       "50%                                 0.781635  ...   \n",
       "75%                                 0.781735  ...   \n",
       "max                                 1.000000  ...   \n",
       "\n",
       "        Current Liability to Current Assets   Net Income to Total Assets  \\\n",
       "count                           6819.000000                  6819.000000   \n",
       "mean                               0.031506                     0.807760   \n",
       "std                                0.030845                     0.040332   \n",
       "min                                0.000000                     0.000000   \n",
       "25%                                0.018034                     0.796750   \n",
       "50%                                0.027597                     0.810619   \n",
       "75%                                0.038375                     0.826455   \n",
       "max                                1.000000                     1.000000   \n",
       "\n",
       "        Total assets to GNP price   No-credit Interval  \\\n",
       "count                 6819.000000          6819.000000   \n",
       "mean                     0.005825             0.623915   \n",
       "std                      0.055107             0.012290   \n",
       "min                      0.000000             0.000000   \n",
       "25%                      0.000302             0.623636   \n",
       "50%                      0.000698             0.623879   \n",
       "75%                      0.001764             0.624168   \n",
       "max                      1.000000             1.000000   \n",
       "\n",
       "        Gross Profit to Sales   Net Income to Stockholder's Equity  \\\n",
       "count             6819.000000                          6819.000000   \n",
       "mean                 0.607946                             0.840402   \n",
       "std                  0.016934                             0.014523   \n",
       "min                  0.000000                             0.000000   \n",
       "25%                  0.600443                             0.840115   \n",
       "50%                  0.605998                             0.841179   \n",
       "75%                  0.613913                             0.842357   \n",
       "max                  1.000000                             1.000000   \n",
       "\n",
       "        Liability to Equity   Degree of Financial Leverage (DFL)  \\\n",
       "count           6819.000000                          6819.000000   \n",
       "mean               0.280365                             0.027541   \n",
       "std                0.014463                             0.015668   \n",
       "min                0.000000                             0.000000   \n",
       "25%                0.276944                             0.026791   \n",
       "50%                0.278778                             0.026808   \n",
       "75%                0.281449                             0.026913   \n",
       "max                1.000000                             1.000000   \n",
       "\n",
       "        Interest Coverage Ratio (Interest expense to EBIT)  \\\n",
       "count                                        6819.000000     \n",
       "mean                                            0.565358     \n",
       "std                                             0.013214     \n",
       "min                                             0.000000     \n",
       "25%                                             0.565158     \n",
       "50%                                             0.565252     \n",
       "75%                                             0.565725     \n",
       "max                                             1.000000     \n",
       "\n",
       "        Equity to Liability  \n",
       "count           6819.000000  \n",
       "mean               0.047578  \n",
       "std                0.050014  \n",
       "min                0.000000  \n",
       "25%                0.024477  \n",
       "50%                0.033798  \n",
       "75%                0.052838  \n",
       "max                1.000000  \n",
       "\n",
       "[8 rows x 93 columns]"
      ]
     },
     "execution_count": 22,
     "metadata": {},
     "output_type": "execute_result"
    }
   ],
   "source": [
    "# to be honest, some columns have very strange distributions, e.g. 'Gross Profit to Sales' which has a huge mass around (but not equal to!) 60%. we ignore these findings, we cannot repair data gathering.\n",
    "df_float_scaled_minmax_afteroutlier=pd.DataFrame(df_float_scaled_minmax_afteroutlier, columns=feat_float)\n",
    "df_float_scaled_minmax_afteroutlier.describe()"
   ]
  },
  {
   "cell_type": "markdown",
   "metadata": {},
   "source": [
    "### finally used data after univariate analysis"
   ]
  },
  {
   "cell_type": "code",
   "execution_count": 23,
   "metadata": {},
   "outputs": [],
   "source": [
    "data=pd.concat([df[['Bankrupt?', ' Liability-Assets Flag']],df_float_scaled_minmax_afteroutlier],axis=1)"
   ]
  },
  {
   "cell_type": "code",
   "execution_count": 24,
   "metadata": {},
   "outputs": [
    {
     "data": {
      "text/plain": [
       "((6819, 95), (6819, 96))"
      ]
     },
     "execution_count": 24,
     "metadata": {},
     "output_type": "execute_result"
    }
   ],
   "source": [
    "data.shape, df.shape"
   ]
  },
  {
   "cell_type": "markdown",
   "metadata": {},
   "source": [
    "### binary analysis"
   ]
  },
  {
   "cell_type": "code",
   "execution_count": 25,
   "metadata": {},
   "outputs": [],
   "source": [
    "data_corr=data.corr()"
   ]
  },
  {
   "cell_type": "code",
   "execution_count": 26,
   "metadata": {},
   "outputs": [
    {
     "data": {
      "text/html": [
       "<div>\n",
       "<style scoped>\n",
       "    .dataframe tbody tr th:only-of-type {\n",
       "        vertical-align: middle;\n",
       "    }\n",
       "\n",
       "    .dataframe tbody tr th {\n",
       "        vertical-align: top;\n",
       "    }\n",
       "\n",
       "    .dataframe thead th {\n",
       "        text-align: right;\n",
       "    }\n",
       "</style>\n",
       "<table border=\"1\" class=\"dataframe\">\n",
       "  <thead>\n",
       "    <tr style=\"text-align: right;\">\n",
       "      <th></th>\n",
       "      <th>Bankrupt?</th>\n",
       "      <th>Liability-Assets Flag</th>\n",
       "      <th>ROA(C) before interest and depreciation before interest</th>\n",
       "      <th>ROA(A) before interest and % after tax</th>\n",
       "      <th>ROA(B) before interest and depreciation after tax</th>\n",
       "      <th>Operating Gross Margin</th>\n",
       "      <th>Realized Sales Gross Margin</th>\n",
       "      <th>Operating Profit Rate</th>\n",
       "      <th>Pre-tax net Interest Rate</th>\n",
       "      <th>After-tax net Interest Rate</th>\n",
       "      <th>...</th>\n",
       "      <th>Current Liability to Current Assets</th>\n",
       "      <th>Net Income to Total Assets</th>\n",
       "      <th>Total assets to GNP price</th>\n",
       "      <th>No-credit Interval</th>\n",
       "      <th>Gross Profit to Sales</th>\n",
       "      <th>Net Income to Stockholder's Equity</th>\n",
       "      <th>Liability to Equity</th>\n",
       "      <th>Degree of Financial Leverage (DFL)</th>\n",
       "      <th>Interest Coverage Ratio (Interest expense to EBIT)</th>\n",
       "      <th>Equity to Liability</th>\n",
       "    </tr>\n",
       "  </thead>\n",
       "  <tbody>\n",
       "    <tr>\n",
       "      <th>Bankrupt?</th>\n",
       "      <td>1.000000</td>\n",
       "      <td>0.139212</td>\n",
       "      <td>-0.260807</td>\n",
       "      <td>-0.282941</td>\n",
       "      <td>-0.273051</td>\n",
       "      <td>-0.100043</td>\n",
       "      <td>-0.099445</td>\n",
       "      <td>-0.000230</td>\n",
       "      <td>-0.008517</td>\n",
       "      <td>-0.008857</td>\n",
       "      <td>...</td>\n",
       "      <td>0.171306</td>\n",
       "      <td>-0.315457</td>\n",
       "      <td>0.038541</td>\n",
       "      <td>-0.005547</td>\n",
       "      <td>-0.100044</td>\n",
       "      <td>-0.180987</td>\n",
       "      <td>0.166812</td>\n",
       "      <td>0.010508</td>\n",
       "      <td>-0.005509</td>\n",
       "      <td>-0.083048</td>\n",
       "    </tr>\n",
       "    <tr>\n",
       "      <th>Liability-Assets Flag</th>\n",
       "      <td>0.139212</td>\n",
       "      <td>1.000000</td>\n",
       "      <td>-0.109272</td>\n",
       "      <td>-0.156890</td>\n",
       "      <td>-0.120680</td>\n",
       "      <td>-0.032930</td>\n",
       "      <td>-0.032920</td>\n",
       "      <td>-0.000295</td>\n",
       "      <td>-0.003163</td>\n",
       "      <td>-0.002746</td>\n",
       "      <td>...</td>\n",
       "      <td>0.247158</td>\n",
       "      <td>-0.169104</td>\n",
       "      <td>0.075404</td>\n",
       "      <td>-0.023927</td>\n",
       "      <td>-0.032932</td>\n",
       "      <td>0.192688</td>\n",
       "      <td>-0.229559</td>\n",
       "      <td>-0.001717</td>\n",
       "      <td>-0.000974</td>\n",
       "      <td>-0.027573</td>\n",
       "    </tr>\n",
       "    <tr>\n",
       "      <th>ROA(C) before interest and depreciation before interest</th>\n",
       "      <td>-0.260807</td>\n",
       "      <td>-0.109272</td>\n",
       "      <td>1.000000</td>\n",
       "      <td>0.940124</td>\n",
       "      <td>0.986849</td>\n",
       "      <td>0.334719</td>\n",
       "      <td>0.332755</td>\n",
       "      <td>0.035725</td>\n",
       "      <td>0.053419</td>\n",
       "      <td>0.049222</td>\n",
       "      <td>...</td>\n",
       "      <td>-0.160725</td>\n",
       "      <td>0.887670</td>\n",
       "      <td>-0.098782</td>\n",
       "      <td>0.008135</td>\n",
       "      <td>0.334721</td>\n",
       "      <td>0.274287</td>\n",
       "      <td>-0.143629</td>\n",
       "      <td>-0.016575</td>\n",
       "      <td>0.010573</td>\n",
       "      <td>0.052416</td>\n",
       "    </tr>\n",
       "    <tr>\n",
       "      <th>ROA(A) before interest and % after tax</th>\n",
       "      <td>-0.282941</td>\n",
       "      <td>-0.156890</td>\n",
       "      <td>0.940124</td>\n",
       "      <td>1.000000</td>\n",
       "      <td>0.955741</td>\n",
       "      <td>0.326969</td>\n",
       "      <td>0.324956</td>\n",
       "      <td>0.032053</td>\n",
       "      <td>0.053518</td>\n",
       "      <td>0.049474</td>\n",
       "      <td>...</td>\n",
       "      <td>-0.195673</td>\n",
       "      <td>0.961552</td>\n",
       "      <td>-0.129992</td>\n",
       "      <td>0.011463</td>\n",
       "      <td>0.326971</td>\n",
       "      <td>0.291744</td>\n",
       "      <td>-0.141039</td>\n",
       "      <td>-0.011515</td>\n",
       "      <td>0.013372</td>\n",
       "      <td>0.057887</td>\n",
       "    </tr>\n",
       "    <tr>\n",
       "      <th>ROA(B) before interest and depreciation after tax</th>\n",
       "      <td>-0.273051</td>\n",
       "      <td>-0.120680</td>\n",
       "      <td>0.986849</td>\n",
       "      <td>0.955741</td>\n",
       "      <td>1.000000</td>\n",
       "      <td>0.333749</td>\n",
       "      <td>0.331755</td>\n",
       "      <td>0.035212</td>\n",
       "      <td>0.053726</td>\n",
       "      <td>0.049952</td>\n",
       "      <td>...</td>\n",
       "      <td>-0.162572</td>\n",
       "      <td>0.912040</td>\n",
       "      <td>-0.116068</td>\n",
       "      <td>0.007523</td>\n",
       "      <td>0.333750</td>\n",
       "      <td>0.280617</td>\n",
       "      <td>-0.142838</td>\n",
       "      <td>-0.014663</td>\n",
       "      <td>0.011473</td>\n",
       "      <td>0.056430</td>\n",
       "    </tr>\n",
       "  </tbody>\n",
       "</table>\n",
       "<p>5 rows × 95 columns</p>\n",
       "</div>"
      ],
      "text/plain": [
       "                                                    Bankrupt?  \\\n",
       "Bankrupt?                                            1.000000   \n",
       " Liability-Assets Flag                               0.139212   \n",
       " ROA(C) before interest and depreciation before...  -0.260807   \n",
       " ROA(A) before interest and % after tax             -0.282941   \n",
       " ROA(B) before interest and depreciation after tax  -0.273051   \n",
       "\n",
       "                                                     Liability-Assets Flag  \\\n",
       "Bankrupt?                                                         0.139212   \n",
       " Liability-Assets Flag                                            1.000000   \n",
       " ROA(C) before interest and depreciation before...               -0.109272   \n",
       " ROA(A) before interest and % after tax                          -0.156890   \n",
       " ROA(B) before interest and depreciation after tax               -0.120680   \n",
       "\n",
       "                                                     ROA(C) before interest and depreciation before interest  \\\n",
       "Bankrupt?                                                                                   -0.260807          \n",
       " Liability-Assets Flag                                                                      -0.109272          \n",
       " ROA(C) before interest and depreciation before...                                           1.000000          \n",
       " ROA(A) before interest and % after tax                                                      0.940124          \n",
       " ROA(B) before interest and depreciation after tax                                           0.986849          \n",
       "\n",
       "                                                     ROA(A) before interest and % after tax  \\\n",
       "Bankrupt?                                                                         -0.282941   \n",
       " Liability-Assets Flag                                                            -0.156890   \n",
       " ROA(C) before interest and depreciation before...                                 0.940124   \n",
       " ROA(A) before interest and % after tax                                            1.000000   \n",
       " ROA(B) before interest and depreciation after tax                                 0.955741   \n",
       "\n",
       "                                                     ROA(B) before interest and depreciation after tax  \\\n",
       "Bankrupt?                                                                                   -0.273051    \n",
       " Liability-Assets Flag                                                                      -0.120680    \n",
       " ROA(C) before interest and depreciation before...                                           0.986849    \n",
       " ROA(A) before interest and % after tax                                                      0.955741    \n",
       " ROA(B) before interest and depreciation after tax                                           1.000000    \n",
       "\n",
       "                                                     Operating Gross Margin  \\\n",
       "Bankrupt?                                                         -0.100043   \n",
       " Liability-Assets Flag                                            -0.032930   \n",
       " ROA(C) before interest and depreciation before...                 0.334719   \n",
       " ROA(A) before interest and % after tax                            0.326969   \n",
       " ROA(B) before interest and depreciation after tax                 0.333749   \n",
       "\n",
       "                                                     Realized Sales Gross Margin  \\\n",
       "Bankrupt?                                                              -0.099445   \n",
       " Liability-Assets Flag                                                 -0.032920   \n",
       " ROA(C) before interest and depreciation before...                      0.332755   \n",
       " ROA(A) before interest and % after tax                                 0.324956   \n",
       " ROA(B) before interest and depreciation after tax                      0.331755   \n",
       "\n",
       "                                                     Operating Profit Rate  \\\n",
       "Bankrupt?                                                        -0.000230   \n",
       " Liability-Assets Flag                                           -0.000295   \n",
       " ROA(C) before interest and depreciation before...                0.035725   \n",
       " ROA(A) before interest and % after tax                           0.032053   \n",
       " ROA(B) before interest and depreciation after tax                0.035212   \n",
       "\n",
       "                                                     Pre-tax net Interest Rate  \\\n",
       "Bankrupt?                                                            -0.008517   \n",
       " Liability-Assets Flag                                               -0.003163   \n",
       " ROA(C) before interest and depreciation before...                    0.053419   \n",
       " ROA(A) before interest and % after tax                               0.053518   \n",
       " ROA(B) before interest and depreciation after tax                    0.053726   \n",
       "\n",
       "                                                     After-tax net Interest Rate  \\\n",
       "Bankrupt?                                                              -0.008857   \n",
       " Liability-Assets Flag                                                 -0.002746   \n",
       " ROA(C) before interest and depreciation before...                      0.049222   \n",
       " ROA(A) before interest and % after tax                                 0.049474   \n",
       " ROA(B) before interest and depreciation after tax                      0.049952   \n",
       "\n",
       "                                                    ...  \\\n",
       "Bankrupt?                                           ...   \n",
       " Liability-Assets Flag                              ...   \n",
       " ROA(C) before interest and depreciation before...  ...   \n",
       " ROA(A) before interest and % after tax             ...   \n",
       " ROA(B) before interest and depreciation after tax  ...   \n",
       "\n",
       "                                                     Current Liability to Current Assets  \\\n",
       "Bankrupt?                                                                       0.171306   \n",
       " Liability-Assets Flag                                                          0.247158   \n",
       " ROA(C) before interest and depreciation before...                             -0.160725   \n",
       " ROA(A) before interest and % after tax                                        -0.195673   \n",
       " ROA(B) before interest and depreciation after tax                             -0.162572   \n",
       "\n",
       "                                                     Net Income to Total Assets  \\\n",
       "Bankrupt?                                                             -0.315457   \n",
       " Liability-Assets Flag                                                -0.169104   \n",
       " ROA(C) before interest and depreciation before...                     0.887670   \n",
       " ROA(A) before interest and % after tax                                0.961552   \n",
       " ROA(B) before interest and depreciation after tax                     0.912040   \n",
       "\n",
       "                                                     Total assets to GNP price  \\\n",
       "Bankrupt?                                                             0.038541   \n",
       " Liability-Assets Flag                                                0.075404   \n",
       " ROA(C) before interest and depreciation before...                   -0.098782   \n",
       " ROA(A) before interest and % after tax                              -0.129992   \n",
       " ROA(B) before interest and depreciation after tax                   -0.116068   \n",
       "\n",
       "                                                     No-credit Interval  \\\n",
       "Bankrupt?                                                     -0.005547   \n",
       " Liability-Assets Flag                                        -0.023927   \n",
       " ROA(C) before interest and depreciation before...             0.008135   \n",
       " ROA(A) before interest and % after tax                        0.011463   \n",
       " ROA(B) before interest and depreciation after tax             0.007523   \n",
       "\n",
       "                                                     Gross Profit to Sales  \\\n",
       "Bankrupt?                                                        -0.100044   \n",
       " Liability-Assets Flag                                           -0.032932   \n",
       " ROA(C) before interest and depreciation before...                0.334721   \n",
       " ROA(A) before interest and % after tax                           0.326971   \n",
       " ROA(B) before interest and depreciation after tax                0.333750   \n",
       "\n",
       "                                                     Net Income to Stockholder's Equity  \\\n",
       "Bankrupt?                                                                     -0.180987   \n",
       " Liability-Assets Flag                                                         0.192688   \n",
       " ROA(C) before interest and depreciation before...                             0.274287   \n",
       " ROA(A) before interest and % after tax                                        0.291744   \n",
       " ROA(B) before interest and depreciation after tax                             0.280617   \n",
       "\n",
       "                                                     Liability to Equity  \\\n",
       "Bankrupt?                                                       0.166812   \n",
       " Liability-Assets Flag                                         -0.229559   \n",
       " ROA(C) before interest and depreciation before...             -0.143629   \n",
       " ROA(A) before interest and % after tax                        -0.141039   \n",
       " ROA(B) before interest and depreciation after tax             -0.142838   \n",
       "\n",
       "                                                     Degree of Financial Leverage (DFL)  \\\n",
       "Bankrupt?                                                                      0.010508   \n",
       " Liability-Assets Flag                                                        -0.001717   \n",
       " ROA(C) before interest and depreciation before...                            -0.016575   \n",
       " ROA(A) before interest and % after tax                                       -0.011515   \n",
       " ROA(B) before interest and depreciation after tax                            -0.014663   \n",
       "\n",
       "                                                     Interest Coverage Ratio (Interest expense to EBIT)  \\\n",
       "Bankrupt?                                                                                   -0.005509     \n",
       " Liability-Assets Flag                                                                      -0.000974     \n",
       " ROA(C) before interest and depreciation before...                                           0.010573     \n",
       " ROA(A) before interest and % after tax                                                      0.013372     \n",
       " ROA(B) before interest and depreciation after tax                                           0.011473     \n",
       "\n",
       "                                                     Equity to Liability  \n",
       "Bankrupt?                                                      -0.083048  \n",
       " Liability-Assets Flag                                         -0.027573  \n",
       " ROA(C) before interest and depreciation before...              0.052416  \n",
       " ROA(A) before interest and % after tax                         0.057887  \n",
       " ROA(B) before interest and depreciation after tax              0.056430  \n",
       "\n",
       "[5 rows x 95 columns]"
      ]
     },
     "execution_count": 26,
     "metadata": {},
     "output_type": "execute_result"
    }
   ],
   "source": [
    "data_corr.head()"
   ]
  },
  {
   "cell_type": "markdown",
   "metadata": {},
   "source": [
    "there are too many features to display it with a heatmap, thus we search for the highest correlations and drop the corresponding features"
   ]
  },
  {
   "cell_type": "code",
   "execution_count": null,
   "metadata": {},
   "outputs": [],
   "source": []
  },
  {
   "cell_type": "code",
   "execution_count": 27,
   "metadata": {},
   "outputs": [],
   "source": [
    "def correlation(dataset, threshold):\n",
    "    # Create dictionary for correlated columns\n",
    "    correlated_dict = {}\n",
    "    # Compute correlation \n",
    "    corr_matrix = dataset.corr()\n",
    "    for c in range(len(corr_matrix.columns)):\n",
    "        for j in range(c):\n",
    "            # Take absolute correlation coefficient value \n",
    "            # If abs values are above threshold ...\n",
    "            if abs(corr_matrix.iloc[c, j]) > threshold: \n",
    "                # ... Get name of column\n",
    "                colname_c = corr_matrix.columns[c]\n",
    "                colname_j = corr_matrix.columns[j]\n",
    "                # Add to dictionary\n",
    "                if colname_c not in correlated_dict:\n",
    "                    correlated_dict[colname_c] = [colname_j]\n",
    "                else:\n",
    "                    correlated_dict[colname_c].append(colname_j)\n",
    "    return correlated_dict"
   ]
  },
  {
   "cell_type": "code",
   "execution_count": 28,
   "metadata": {},
   "outputs": [
    {
     "data": {
      "text/plain": [
       "{' ROA(B) before interest and depreciation after tax': [' ROA(C) before interest and depreciation before interest',\n",
       "  ' ROA(A) before interest and % after tax'],\n",
       " ' Realized Sales Gross Margin': [' Operating Gross Margin'],\n",
       " ' After-tax net Interest Rate': [' Pre-tax net Interest Rate'],\n",
       " ' Continuous interest rate (after tax)': [' Pre-tax net Interest Rate',\n",
       "  ' After-tax net Interest Rate'],\n",
       " ' Net Value Per Share (A)': [' Net Value Per Share (B)'],\n",
       " ' Net Value Per Share (C)': [' Net Value Per Share (B)',\n",
       "  ' Net Value Per Share (A)'],\n",
       " ' Per Share Net profit before tax (Yuan ¥)': [' Persistent EPS in the Last Four Seasons'],\n",
       " ' Regular Net Profit Growth Rate': [' After-tax Net Profit Growth Rate'],\n",
       " ' Net worth/Assets': [' Debt ratio %'],\n",
       " ' Operating profit/Paid-in capital': [' Operating Profit Per Share (Yuan ¥)'],\n",
       " ' Net profit before tax/Paid-in capital': [' Persistent EPS in the Last Four Seasons',\n",
       "  ' Per Share Net profit before tax (Yuan ¥)'],\n",
       " ' Current Liability to Liability': [' Current Liabilities/Liability'],\n",
       " ' Current Liability to Equity': [' Current Liabilities/Equity'],\n",
       " ' Net Income to Total Assets': [' ROA(A) before interest and % after tax'],\n",
       " ' Gross Profit to Sales': [' Operating Gross Margin',\n",
       "  ' Realized Sales Gross Margin'],\n",
       " ' Liability to Equity': [' Borrowing dependency',\n",
       "  ' Current Liabilities/Equity',\n",
       "  ' Current Liability to Equity']}"
      ]
     },
     "execution_count": 28,
     "metadata": {},
     "output_type": "execute_result"
    }
   ],
   "source": [
    "highly_correlated_features = correlation(dataset=data,threshold=0.95)\n",
    "highly_correlated_features"
   ]
  },
  {
   "cell_type": "code",
   "execution_count": 29,
   "metadata": {},
   "outputs": [
    {
     "data": {
      "text/plain": [
       "[' ROA(C) before interest and depreciation before interest',\n",
       " ' ROA(A) before interest and % after tax',\n",
       " ' Operating Gross Margin',\n",
       " ' Pre-tax net Interest Rate',\n",
       " ' Pre-tax net Interest Rate',\n",
       " ' After-tax net Interest Rate',\n",
       " ' Net Value Per Share (B)',\n",
       " ' Net Value Per Share (B)',\n",
       " ' Net Value Per Share (A)',\n",
       " ' Persistent EPS in the Last Four Seasons',\n",
       " ' After-tax Net Profit Growth Rate',\n",
       " ' Debt ratio %',\n",
       " ' Operating Profit Per Share (Yuan ¥)',\n",
       " ' Persistent EPS in the Last Four Seasons',\n",
       " ' Per Share Net profit before tax (Yuan ¥)',\n",
       " ' Current Liabilities/Liability',\n",
       " ' Current Liabilities/Equity',\n",
       " ' ROA(A) before interest and % after tax',\n",
       " ' Operating Gross Margin',\n",
       " ' Realized Sales Gross Margin',\n",
       " ' Borrowing dependency',\n",
       " ' Current Liabilities/Equity',\n",
       " ' Current Liability to Equity']"
      ]
     },
     "execution_count": 29,
     "metadata": {},
     "output_type": "execute_result"
    }
   ],
   "source": [
    "# now we are getting rid of all features that are values in the dictionary\n",
    "# Merge all values of the dictionary into a list\n",
    "columns_to_drop = [item for sublist in highly_correlated_features.values() for item in sublist]\n",
    "columns_to_drop\n"
   ]
  },
  {
   "cell_type": "markdown",
   "metadata": {},
   "source": [
    "### finally used data set"
   ]
  },
  {
   "cell_type": "code",
   "execution_count": 30,
   "metadata": {},
   "outputs": [],
   "source": [
    "# Now drop these columns which are too highly correlated\n",
    "data_cleaned = data.drop(columns=columns_to_drop)"
   ]
  },
  {
   "cell_type": "code",
   "execution_count": 31,
   "metadata": {},
   "outputs": [
    {
     "data": {
      "text/plain": [
       "(6819, 78)"
      ]
     },
     "execution_count": 31,
     "metadata": {},
     "output_type": "execute_result"
    }
   ],
   "source": [
    "data_cleaned.shape"
   ]
  },
  {
   "cell_type": "markdown",
   "metadata": {},
   "source": [
    "## Step 3\n",
    "\n",
    "**Step 3: Data modelling**\n",
    "- separate variables & labels\n",
    "- split dataset into training & testing dataset\n",
    "- pick one data modelling approach respectively the Python modelling package that you would like to use\n",
    "- fit the training dataset to the model and train the model\n",
    "- output the model \n",
    "- make prediction on testing dataset\n"
   ]
  },
  {
   "cell_type": "code",
   "execution_count": 111,
   "metadata": {},
   "outputs": [],
   "source": [
    "y=data_cleaned['Bankrupt?']\n",
    "X=data_cleaned.drop(columns=['Bankrupt?'])\n",
    "y=y.rename('label')"
   ]
  },
  {
   "cell_type": "code",
   "execution_count": 33,
   "metadata": {},
   "outputs": [
    {
     "data": {
      "text/plain": [
       "0    1\n",
       "1    1\n",
       "2    1\n",
       "3    1\n",
       "4    1\n",
       "Name: label, dtype: int64"
      ]
     },
     "execution_count": 33,
     "metadata": {},
     "output_type": "execute_result"
    }
   ],
   "source": [
    "y.head()"
   ]
  },
  {
   "cell_type": "markdown",
   "metadata": {},
   "source": [
    "### train / test split"
   ]
  },
  {
   "cell_type": "code",
   "execution_count": 112,
   "metadata": {},
   "outputs": [],
   "source": [
    "y_train, y_test, X_train, X_test = train_test_split(y, X, test_size=0.2, random_state=42)"
   ]
  },
  {
   "cell_type": "markdown",
   "metadata": {},
   "source": [
    "### RandomForestClassifier"
   ]
  },
  {
   "cell_type": "code",
   "execution_count": 35,
   "metadata": {},
   "outputs": [],
   "source": [
    "# # Random Forest Classifier - Randomized Search for Hyperparameter Tuning\n",
    "# rfc=RandomForestClassifier()\n",
    "# # Define hyperparameter search space\n",
    "# param_dist = {\n",
    "#     'n_estimators': np.arange(50, 201, 10),  # Number of trees in the forest\n",
    "#     'max_depth': np.arange(2, 16, 2),    # Maximum depth of each tree\n",
    "#     'min_samples_split': np.arange(16, 256),  # Minimum number of samples required to split an internal node\n",
    "#     'min_samples_leaf':  np.arange(2, 16)     # Minimum number of samples required to be at a leaf node\n",
    "# }\n",
    "\n",
    "# # Perform randomized search for hyperparameter tuning\n",
    "# random_search = RandomizedSearchCV(\n",
    "#     rfc,\n",
    "#     scoring='recall',\n",
    "#     param_distributions=param_dist,\n",
    "#     n_iter=2000,  # Number of random combinations to try\n",
    "#     cv=3,        # Cross-validation folds\n",
    "#     verbose=2,\n",
    "#     random_state=684,\n",
    "#     n_jobs=-1\n",
    "# )\n",
    "\n",
    "# # Fit the model to the data\n",
    "# random_search.fit(X_train, y_train)\n",
    "\n",
    "# # Cross-validated score (more robust than holdout set most likely)\n",
    "# print(random_search.best_score_)\n",
    "# print(random_search.best_params_)\n"
   ]
  },
  {
   "cell_type": "code",
   "execution_count": 113,
   "metadata": {},
   "outputs": [],
   "source": [
    "# params=random_search.best_params_\n",
    "# resulting hyper parameters hard coded:\n",
    "params={'n_estimators': 180, 'min_samples_split': 17, 'min_samples_leaf': 3, 'max_depth': 14}\n",
    "rfc=RandomForestClassifier(**params)\n",
    "rfc.fit(X_train, y_train)\n",
    "y_train_pr=rfc.predict(X_train)\n",
    "y_test_pr=rfc.predict(X_test)"
   ]
  },
  {
   "cell_type": "code",
   "execution_count": 114,
   "metadata": {},
   "outputs": [
    {
     "data": {
      "text/plain": [
       "<Axes: ylabel='Count'>"
      ]
     },
     "execution_count": 114,
     "metadata": {},
     "output_type": "execute_result"
    },
    {
     "data": {
      "image/png": "[encoded data removed]",
      "text/plain": [
       "<Figure size 800x550 with 1 Axes>"
      ]
     },
     "metadata": {},
     "output_type": "display_data"
    }
   ],
   "source": [
    "sns.histplot(rfc.predict_proba(X_test)[:,1])"
   ]
  },
  {
   "cell_type": "code",
   "execution_count": 115,
   "metadata": {},
   "outputs": [
    {
     "name": "stdout",
     "output_type": "stream",
     "text": [
      "Recall train: 0.39644970414201186\n",
      "Recall test: 0.13725490196078433\n",
      "Precision train: 1.0\n",
      "Precision test: 0.875\n"
     ]
    }
   ],
   "source": [
    "print('Recall train: ' + str(recall_score(y_train, y_train_pr)))\n",
    "print('Recall test: ' + str(recall_score(y_test, y_test_pr)))\n",
    "print('Precision train: ' + str(precision_score(y_train, y_train_pr)))\n",
    "print('Precision test: ' + str(precision_score(y_test, y_test_pr)))"
   ]
  },
  {
   "cell_type": "code",
   "execution_count": 116,
   "metadata": {},
   "outputs": [
    {
     "data": {
      "text/plain": [
       "array([[5286,    0],\n",
       "       [ 102,   67]], dtype=int64)"
      ]
     },
     "execution_count": 116,
     "metadata": {},
     "output_type": "execute_result"
    }
   ],
   "source": [
    "confusion_matrix(y_train, y_train_pr)"
   ]
  },
  {
   "cell_type": "code",
   "execution_count": 117,
   "metadata": {},
   "outputs": [
    {
     "data": {
      "text/plain": [
       "array([[1312,    1],\n",
       "       [  44,    7]], dtype=int64)"
      ]
     },
     "execution_count": 117,
     "metadata": {},
     "output_type": "execute_result"
    }
   ],
   "source": [
    "confusion_matrix(y_test, y_test_pr)"
   ]
  },
  {
   "cell_type": "code",
   "execution_count": 118,
   "metadata": {},
   "outputs": [],
   "source": [
    "feat_importances=rfc.feature_importances_\n",
    "feat_importances=pd.Series(feat_importances, index=X.columns)"
   ]
  },
  {
   "cell_type": "code",
   "execution_count": 119,
   "metadata": {},
   "outputs": [
    {
     "data": {
      "text/plain": [
       " Net Value Growth Rate                                0.052894\n",
       " Net Income to Stockholder's Equity                   0.048033\n",
       " Net profit before tax/Paid-in capital                0.039557\n",
       " Net Value Per Share (C)                              0.037135\n",
       " Net worth/Assets                                     0.033260\n",
       " Net Income to Total Assets                           0.031709\n",
       " Equity to Liability                                  0.030275\n",
       " Working Capital/Equity                               0.029644\n",
       " Interest Expense Ratio                               0.026789\n",
       " ROA(B) before interest and depreciation after tax    0.025718\n",
       "dtype: float64"
      ]
     },
     "execution_count": 119,
     "metadata": {},
     "output_type": "execute_result"
    }
   ],
   "source": [
    "# whatever  Net Value Growth Rate is, it is the most important feature according to feature importance, the next 2/3 features are more reasonable\n",
    "feat_importances.sort_values(ascending=False).head(10)"
   ]
  },
  {
   "cell_type": "code",
   "execution_count": 120,
   "metadata": {},
   "outputs": [],
   "source": [
    "from sklearn.inspection import permutation_importance\n",
    "\n",
    "result = permutation_importance(\n",
    "    rfc, X_test, y_test, n_repeats=10, random_state=42, n_jobs=2\n",
    ")\n",
    "\n",
    "forest_importances = pd.Series(result.importances_mean, index=X.columns)"
   ]
  },
  {
   "cell_type": "code",
   "execution_count": 123,
   "metadata": {},
   "outputs": [
    {
     "data": {
      "text/plain": [
       " Retained Earnings to Total Assets              0.002126\n",
       " Non-industry income and expenditure/revenue    0.002053\n",
       " Continuous interest rate (after tax)           0.002053\n",
       " Net worth/Assets                               0.001906\n",
       " Net Income to Total Assets                     0.001906\n",
       " Working Capital to Total Assets                0.001906\n",
       " Net Value Per Share (C)                        0.001613\n",
       " Total Asset Return Growth Rate Ratio           0.001466\n",
       " Net Value Growth Rate                          0.001466\n",
       " Interest-bearing debt interest rate            0.001466\n",
       "dtype: float64"
      ]
     },
     "execution_count": 123,
     "metadata": {},
     "output_type": "execute_result"
    }
   ],
   "source": [
    "# the most important features according to permutation importance seem to be reasonable\n",
    "forest_importances.sort_values(ascending=False).head(10)\n"
   ]
  },
  {
   "cell_type": "markdown",
   "metadata": {},
   "source": [
    "## Step 2 + 3 as a pipeline"
   ]
  },
  {
   "cell_type": "code",
   "execution_count": 41,
   "metadata": {},
   "outputs": [],
   "source": [
    "y=df['Bankrupt?']\n",
    "X=df.drop(columns=['Bankrupt?',' Net Income Flag']) # dropping in a pipeline is possible but the feature names receive 'remainder__' by default\n",
    "y=y.rename('label')"
   ]
  },
  {
   "cell_type": "markdown",
   "metadata": {},
   "source": [
    "### train-test split"
   ]
  },
  {
   "cell_type": "code",
   "execution_count": 42,
   "metadata": {},
   "outputs": [],
   "source": [
    "y_train, y_test, X_train, X_test = train_test_split(y, X, test_size=0.2, random_state=42)"
   ]
  },
  {
   "cell_type": "markdown",
   "metadata": {},
   "source": [
    "### feature engineering"
   ]
  },
  {
   "cell_type": "code",
   "execution_count": 43,
   "metadata": {},
   "outputs": [],
   "source": [
    "from sklearn.compose import ColumnTransformer\n",
    "from sklearn.pipeline import Pipeline\n",
    "from sklearn.base import BaseEstimator, TransformerMixin"
   ]
  },
  {
   "cell_type": "code",
   "execution_count": 44,
   "metadata": {},
   "outputs": [],
   "source": [
    "class OutlierClipper(BaseEstimator, TransformerMixin):\n",
    "    def __init__(self, quantile_ratio=100, upper_quantile=0.95):\n",
    "        self.quantile_ratio = quantile_ratio\n",
    "        self.upper_quantile = upper_quantile\n",
    "\n",
    "    def fit(self, X, y=None):\n",
    "        # Calculate the ratio of the 99.9% quantile to the 95% quantile\n",
    "        ratio = X.quantile(0.999) / X.quantile(self.upper_quantile)\n",
    "        # Identify columns where the ratio is greater than the threshold\n",
    "        self.columns_to_clip = ratio[ratio > self.quantile_ratio].index\n",
    "        # Calculate the upper cap for each column\n",
    "        self.caps = X[self.columns_to_clip].quantile(self.upper_quantile) * 100\n",
    "        return self\n",
    "\n",
    "    def transform(self, X):\n",
    "        # Clip outliers\n",
    "        X[self.columns_to_clip] = X[self.columns_to_clip].clip(upper=self.caps, axis=1)\n",
    "        return X"
   ]
  },
  {
   "cell_type": "code",
   "execution_count": 45,
   "metadata": {},
   "outputs": [],
   "source": [
    "class CorrelationFilter(BaseEstimator, TransformerMixin):\n",
    "    def __init__(self, threshold=0.95):\n",
    "        self.threshold = threshold\n",
    "\n",
    "    def fit(self, X, y=None):\n",
    "        # Compute correlation matrix\n",
    "        corr_matrix = X.corr().abs()\n",
    "        # Select upper triangle of correlation matrix\n",
    "        upper = corr_matrix.where(np.triu(np.ones(corr_matrix.shape), k=1).astype(np.bool_))\n",
    "        # Find index of feature columns with correlation greater than threshold\n",
    "        self.to_drop = [column for column in upper.columns if any(upper[column] > self.threshold)]\n",
    "        return self\n",
    "\n",
    "    def transform(self, X):\n",
    "        # Drop highly correlated columns\n",
    "        X = X.drop(self.to_drop, axis=1)\n",
    "        return X"
   ]
  },
  {
   "cell_type": "code",
   "execution_count": 46,
   "metadata": {},
   "outputs": [],
   "source": [
    "# Define the pipeline for feature engineering\n",
    "feature_engineering = Pipeline(steps=[\n",
    "    ('outlier_clipper', OutlierClipper()),\n",
    "    ('correlation_filter', CorrelationFilter())\n",
    "])\n",
    "\n",
    "# Define the column transformer\n",
    "feature_engineering_outlier_clipper = ColumnTransformer(\n",
    "    transformers=[\n",
    "        ('outlier_clipper', OutlierClipper(), X_train.columns),\n",
    "        # ('correlation_filter', CorrelationFilter(), list(X_train.columns))\n",
    "    ],\n",
    "    remainder='passthrough'\n",
    ")\n",
    "\n",
    "# Define the column transformer\n",
    "feature_engineering_correlation_filter = ColumnTransformer(\n",
    "    transformers=[\n",
    "        # ('outlier_clipper', OutlierClipper(), X_train.columns),\n",
    "        ('correlation_filter', CorrelationFilter(), list(X_train.columns))\n",
    "    ],\n",
    "    remainder='passthrough'\n",
    ")\n",
    "\n"
   ]
  },
  {
   "cell_type": "code",
   "execution_count": 47,
   "metadata": {},
   "outputs": [
    {
     "data": {
      "text/plain": [
       " Interest-bearing debt interest rate      100.000000\n",
       " Total debt/Total net worth               100.000000\n",
       " Accounts Receivable Turnover             100.000000\n",
       " Average Collection Days                  100.000000\n",
       " Allocation rate per person               100.000000\n",
       " Cash/Current Liability                   100.000000\n",
       " Inventory/Current Liability              100.000000\n",
       " Long-term Liability to Current Assets    100.000000\n",
       " Total assets to GNP price                100.000000\n",
       " Quick Ratio                               21.534265\n",
       " Long-term fund suitability ratio (A)      21.190131\n",
       " Net Value Growth Rate                     15.377943\n",
       "dtype: float64"
      ]
     },
     "execution_count": 47,
     "metadata": {},
     "output_type": "execute_result"
    }
   ],
   "source": [
    "# check if clipping pipeline does what it should\n",
    "X_train_transformed=feature_engineering_outlier_clipper.fit_transform(X_train)\n",
    "X_train_transformed=pd.DataFrame(X_train_transformed, columns=X_train.columns)\n",
    "ratio=X_train_transformed.quantile(0.999)/X_train_transformed.quantile(0.95)\n",
    "ratio[ratio>10].sort_values(ascending=False)\n"
   ]
  },
  {
   "cell_type": "code",
   "execution_count": 48,
   "metadata": {},
   "outputs": [
    {
     "name": "stdout",
     "output_type": "stream",
     "text": [
      "unclear why they are not identical: False\n",
      "numerically they are the same: 0.0\n",
      "columnnames are identical: True\n"
     ]
    }
   ],
   "source": [
    "# check if the correlation filter does what it should\n",
    "# Define and fit the correlation filter\n",
    "correlation_filter = CorrelationFilter()\n",
    "correlation_filter.fit(X_train)\n",
    "# Get the names of the dropped columns\n",
    "dropped_columns = correlation_filter.to_drop\n",
    "# Fit and transform the data\n",
    "X_train_transformed = feature_engineering_correlation_filter.fit_transform(X_train)\n",
    "# Get the names of all original columns\n",
    "original_columns = list(X_train.columns)\n",
    "# Get the names of the remaining columns\n",
    "remaining_columns = [col for col in original_columns if col not in dropped_columns]\n",
    "X_train_transformed=pd.DataFrame(X_train_transformed, columns=remaining_columns)\n",
    "print('unclear why they are not identical: ' + str(X_train_transformed.equals(X_train[remaining_columns].reset_index(drop=True))))\n",
    "print('numerically they are the same: ' + str(X_train_transformed.sub(X_train[remaining_columns].reset_index(drop=True)).abs().max().max()))\n",
    "print('columnnames are identical: ' + str(list(X_train_transformed.columns) == list(X_train[remaining_columns].columns)))\n"
   ]
  },
  {
   "cell_type": "code",
   "execution_count": 49,
   "metadata": {},
   "outputs": [],
   "source": [
    "correlation_filter = CorrelationFilter()\n",
    "correlation_filter.fit(X_train)\n",
    "# Get the names of the dropped columns\n",
    "dropped_columns = correlation_filter.to_drop\n",
    "# Fit and transform the data\n",
    "X_train_transformed = feature_engineering_correlation_filter.fit_transform(X_train)\n",
    "# Get the names of all original columns\n",
    "original_columns = list(X_train.columns)\n",
    "# Get the names of the remaining columns\n",
    "remaining_columns = [col for col in original_columns if col not in dropped_columns]\n",
    "\n",
    "\n",
    "X_train_transformed=feature_engineering.fit_transform(X_train)\n",
    "X_train_transformed=pd.DataFrame(X_train_transformed, columns=remaining_columns)"
   ]
  },
  {
   "cell_type": "code",
   "execution_count": 50,
   "metadata": {},
   "outputs": [
    {
     "data": {
      "text/plain": [
       "((5455, 77), (5455, 94))"
      ]
     },
     "execution_count": 50,
     "metadata": {},
     "output_type": "execute_result"
    }
   ],
   "source": [
    "X_train_transformed.shape,X_train.shape"
   ]
  },
  {
   "cell_type": "markdown",
   "metadata": {},
   "source": [
    "### all"
   ]
  },
  {
   "cell_type": "code",
   "execution_count": 51,
   "metadata": {},
   "outputs": [
    {
     "data": {
      "text/html": [
       "<style>#sk-container-id-1 {\n",
       "  /* Definition of color scheme common for light and dark mode */\n",
       "  --sklearn-color-text: black;\n",
       "  --sklearn-color-line: gray;\n",
       "  /* Definition of color scheme for unfitted estimators */\n",
       "  --sklearn-color-unfitted-level-0: #fff5e6;\n",
       "  --sklearn-color-unfitted-level-1: #f6e4d2;\n",
       "  --sklearn-color-unfitted-level-2: #ffe0b3;\n",
       "  --sklearn-color-unfitted-level-3: chocolate;\n",
       "  /* Definition of color scheme for fitted estimators */\n",
       "  --sklearn-color-fitted-level-0: #f0f8ff;\n",
       "  --sklearn-color-fitted-level-1: #d4ebff;\n",
       "  --sklearn-color-fitted-level-2: #b3dbfd;\n",
       "  --sklearn-color-fitted-level-3: cornflowerblue;\n",
       "\n",
       "  /* Specific color for light theme */\n",
       "  --sklearn-color-text-on-default-background: var(--sg-text-color, var(--theme-code-foreground, var(--jp-content-font-color1, black)));\n",
       "  --sklearn-color-background: var(--sg-background-color, var(--theme-background, var(--jp-layout-color0, white)));\n",
       "  --sklearn-color-border-box: var(--sg-text-color, var(--theme-code-foreground, var(--jp-content-font-color1, black)));\n",
       "  --sklearn-color-icon: #696969;\n",
       "\n",
       "  @media (prefers-color-scheme: dark) {\n",
       "    /* Redefinition of color scheme for dark theme */\n",
       "    --sklearn-color-text-on-default-background: var(--sg-text-color, var(--theme-code-foreground, var(--jp-content-font-color1, white)));\n",
       "    --sklearn-color-background: var(--sg-background-color, var(--theme-background, var(--jp-layout-color0, #111)));\n",
       "    --sklearn-color-border-box: var(--sg-text-color, var(--theme-code-foreground, var(--jp-content-font-color1, white)));\n",
       "    --sklearn-color-icon: #878787;\n",
       "  }\n",
       "}\n",
       "\n",
       "#sk-container-id-1 {\n",
       "  color: var(--sklearn-color-text);\n",
       "}\n",
       "\n",
       "#sk-container-id-1 pre {\n",
       "  padding: 0;\n",
       "}\n",
       "\n",
       "#sk-container-id-1 input.sk-hidden--visually {\n",
       "  border: 0;\n",
       "  clip: rect(1px 1px 1px 1px);\n",
       "  clip: rect(1px, 1px, 1px, 1px);\n",
       "  height: 1px;\n",
       "  margin: -1px;\n",
       "  overflow: hidden;\n",
       "  padding: 0;\n",
       "  position: absolute;\n",
       "  width: 1px;\n",
       "}\n",
       "\n",
       "#sk-container-id-1 div.sk-dashed-wrapped {\n",
       "  border: 1px dashed var(--sklearn-color-line);\n",
       "  margin: 0 0.4em 0.5em 0.4em;\n",
       "  box-sizing: border-box;\n",
       "  padding-bottom: 0.4em;\n",
       "  background-color: var(--sklearn-color-background);\n",
       "}\n",
       "\n",
       "#sk-container-id-1 div.sk-container {\n",
       "  /* jupyter's `normalize.less` sets `[hidden] { display: none; }`\n",
       "     but bootstrap.min.css set `[hidden] { display: none !important; }`\n",
       "     so we also need the `!important` here to be able to override the\n",
       "     default hidden behavior on the sphinx rendered scikit-learn.org.\n",
       "     See: https://github.com/scikit-learn/scikit-learn/issues/21755 */\n",
       "  display: inline-block !important;\n",
       "  position: relative;\n",
       "}\n",
       "\n",
       "#sk-container-id-1 div.sk-text-repr-fallback {\n",
       "  display: none;\n",
       "}\n",
       "\n",
       "div.sk-parallel-item,\n",
       "div.sk-serial,\n",
       "div.sk-item {\n",
       "  /* draw centered vertical line to link estimators */\n",
       "  background-image: linear-gradient(var(--sklearn-color-text-on-default-background), var(--sklearn-color-text-on-default-background));\n",
       "  background-size: 2px 100%;\n",
       "  background-repeat: no-repeat;\n",
       "  background-position: center center;\n",
       "}\n",
       "\n",
       "/* Parallel-specific style estimator block */\n",
       "\n",
       "#sk-container-id-1 div.sk-parallel-item::after {\n",
       "  content: \"\";\n",
       "  width: 100%;\n",
       "  border-bottom: 2px solid var(--sklearn-color-text-on-default-background);\n",
       "  flex-grow: 1;\n",
       "}\n",
       "\n",
       "#sk-container-id-1 div.sk-parallel {\n",
       "  display: flex;\n",
       "  align-items: stretch;\n",
       "  justify-content: center;\n",
       "  background-color: var(--sklearn-color-background);\n",
       "  position: relative;\n",
       "}\n",
       "\n",
       "#sk-container-id-1 div.sk-parallel-item {\n",
       "  display: flex;\n",
       "  flex-direction: column;\n",
       "}\n",
       "\n",
       "#sk-container-id-1 div.sk-parallel-item:first-child::after {\n",
       "  align-self: flex-end;\n",
       "  width: 50%;\n",
       "}\n",
       "\n",
       "#sk-container-id-1 div.sk-parallel-item:last-child::after {\n",
       "  align-self: flex-start;\n",
       "  width: 50%;\n",
       "}\n",
       "\n",
       "#sk-container-id-1 div.sk-parallel-item:only-child::after {\n",
       "  width: 0;\n",
       "}\n",
       "\n",
       "/* Serial-specific style estimator block */\n",
       "\n",
       "#sk-container-id-1 div.sk-serial {\n",
       "  display: flex;\n",
       "  flex-direction: column;\n",
       "  align-items: center;\n",
       "  background-color: var(--sklearn-color-background);\n",
       "  padding-right: 1em;\n",
       "  padding-left: 1em;\n",
       "}\n",
       "\n",
       "\n",
       "/* Toggleable style: style used for estimator/Pipeline/ColumnTransformer box that is\n",
       "clickable and can be expanded/collapsed.\n",
       "- Pipeline and ColumnTransformer use this feature and define the default style\n",
       "- Estimators will overwrite some part of the style using the `sk-estimator` class\n",
       "*/\n",
       "\n",
       "/* Pipeline and ColumnTransformer style (default) */\n",
       "\n",
       "#sk-container-id-1 div.sk-toggleable {\n",
       "  /* Default theme specific background. It is overwritten whether we have a\n",
       "  specific estimator or a Pipeline/ColumnTransformer */\n",
       "  background-color: var(--sklearn-color-background);\n",
       "}\n",
       "\n",
       "/* Toggleable label */\n",
       "#sk-container-id-1 label.sk-toggleable__label {\n",
       "  cursor: pointer;\n",
       "  display: block;\n",
       "  width: 100%;\n",
       "  margin-bottom: 0;\n",
       "  padding: 0.5em;\n",
       "  box-sizing: border-box;\n",
       "  text-align: center;\n",
       "}\n",
       "\n",
       "#sk-container-id-1 label.sk-toggleable__label-arrow:before {\n",
       "  /* Arrow on the left of the label */\n",
       "  content: \"▸\";\n",
       "  float: left;\n",
       "  margin-right: 0.25em;\n",
       "  color: var(--sklearn-color-icon);\n",
       "}\n",
       "\n",
       "#sk-container-id-1 label.sk-toggleable__label-arrow:hover:before {\n",
       "  color: var(--sklearn-color-text);\n",
       "}\n",
       "\n",
       "/* Toggleable content - dropdown */\n",
       "\n",
       "#sk-container-id-1 div.sk-toggleable__content {\n",
       "  max-height: 0;\n",
       "  max-width: 0;\n",
       "  overflow: hidden;\n",
       "  text-align: left;\n",
       "  /* unfitted */\n",
       "  background-color: var(--sklearn-color-unfitted-level-0);\n",
       "}\n",
       "\n",
       "#sk-container-id-1 div.sk-toggleable__content.fitted {\n",
       "  /* fitted */\n",
       "  background-color: var(--sklearn-color-fitted-level-0);\n",
       "}\n",
       "\n",
       "#sk-container-id-1 div.sk-toggleable__content pre {\n",
       "  margin: 0.2em;\n",
       "  border-radius: 0.25em;\n",
       "  color: var(--sklearn-color-text);\n",
       "  /* unfitted */\n",
       "  background-color: var(--sklearn-color-unfitted-level-0);\n",
       "}\n",
       "\n",
       "#sk-container-id-1 div.sk-toggleable__content.fitted pre {\n",
       "  /* unfitted */\n",
       "  background-color: var(--sklearn-color-fitted-level-0);\n",
       "}\n",
       "\n",
       "#sk-container-id-1 input.sk-toggleable__control:checked~div.sk-toggleable__content {\n",
       "  /* Expand drop-down */\n",
       "  max-height: 200px;\n",
       "  max-width: 100%;\n",
       "  overflow: auto;\n",
       "}\n",
       "\n",
       "#sk-container-id-1 input.sk-toggleable__control:checked~label.sk-toggleable__label-arrow:before {\n",
       "  content: \"▾\";\n",
       "}\n",
       "\n",
       "/* Pipeline/ColumnTransformer-specific style */\n",
       "\n",
       "#sk-container-id-1 div.sk-label input.sk-toggleable__control:checked~label.sk-toggleable__label {\n",
       "  color: var(--sklearn-color-text);\n",
       "  background-color: var(--sklearn-color-unfitted-level-2);\n",
       "}\n",
       "\n",
       "#sk-container-id-1 div.sk-label.fitted input.sk-toggleable__control:checked~label.sk-toggleable__label {\n",
       "  background-color: var(--sklearn-color-fitted-level-2);\n",
       "}\n",
       "\n",
       "/* Estimator-specific style */\n",
       "\n",
       "/* Colorize estimator box */\n",
       "#sk-container-id-1 div.sk-estimator input.sk-toggleable__control:checked~label.sk-toggleable__label {\n",
       "  /* unfitted */\n",
       "  background-color: var(--sklearn-color-unfitted-level-2);\n",
       "}\n",
       "\n",
       "#sk-container-id-1 div.sk-estimator.fitted input.sk-toggleable__control:checked~label.sk-toggleable__label {\n",
       "  /* fitted */\n",
       "  background-color: var(--sklearn-color-fitted-level-2);\n",
       "}\n",
       "\n",
       "#sk-container-id-1 div.sk-label label.sk-toggleable__label,\n",
       "#sk-container-id-1 div.sk-label label {\n",
       "  /* The background is the default theme color */\n",
       "  color: var(--sklearn-color-text-on-default-background);\n",
       "}\n",
       "\n",
       "/* On hover, darken the color of the background */\n",
       "#sk-container-id-1 div.sk-label:hover label.sk-toggleable__label {\n",
       "  color: var(--sklearn-color-text);\n",
       "  background-color: var(--sklearn-color-unfitted-level-2);\n",
       "}\n",
       "\n",
       "/* Label box, darken color on hover, fitted */\n",
       "#sk-container-id-1 div.sk-label.fitted:hover label.sk-toggleable__label.fitted {\n",
       "  color: var(--sklearn-color-text);\n",
       "  background-color: var(--sklearn-color-fitted-level-2);\n",
       "}\n",
       "\n",
       "/* Estimator label */\n",
       "\n",
       "#sk-container-id-1 div.sk-label label {\n",
       "  font-family: monospace;\n",
       "  font-weight: bold;\n",
       "  display: inline-block;\n",
       "  line-height: 1.2em;\n",
       "}\n",
       "\n",
       "#sk-container-id-1 div.sk-label-container {\n",
       "  text-align: center;\n",
       "}\n",
       "\n",
       "/* Estimator-specific */\n",
       "#sk-container-id-1 div.sk-estimator {\n",
       "  font-family: monospace;\n",
       "  border: 1px dotted var(--sklearn-color-border-box);\n",
       "  border-radius: 0.25em;\n",
       "  box-sizing: border-box;\n",
       "  margin-bottom: 0.5em;\n",
       "  /* unfitted */\n",
       "  background-color: var(--sklearn-color-unfitted-level-0);\n",
       "}\n",
       "\n",
       "#sk-container-id-1 div.sk-estimator.fitted {\n",
       "  /* fitted */\n",
       "  background-color: var(--sklearn-color-fitted-level-0);\n",
       "}\n",
       "\n",
       "/* on hover */\n",
       "#sk-container-id-1 div.sk-estimator:hover {\n",
       "  /* unfitted */\n",
       "  background-color: var(--sklearn-color-unfitted-level-2);\n",
       "}\n",
       "\n",
       "#sk-container-id-1 div.sk-estimator.fitted:hover {\n",
       "  /* fitted */\n",
       "  background-color: var(--sklearn-color-fitted-level-2);\n",
       "}\n",
       "\n",
       "/* Specification for estimator info (e.g. \"i\" and \"?\") */\n",
       "\n",
       "/* Common style for \"i\" and \"?\" */\n",
       "\n",
       ".sk-estimator-doc-link,\n",
       "a:link.sk-estimator-doc-link,\n",
       "a:visited.sk-estimator-doc-link {\n",
       "  float: right;\n",
       "  font-size: smaller;\n",
       "  line-height: 1em;\n",
       "  font-family: monospace;\n",
       "  background-color: var(--sklearn-color-background);\n",
       "  border-radius: 1em;\n",
       "  height: 1em;\n",
       "  width: 1em;\n",
       "  text-decoration: none !important;\n",
       "  margin-left: 1ex;\n",
       "  /* unfitted */\n",
       "  border: var(--sklearn-color-unfitted-level-1) 1pt solid;\n",
       "  color: var(--sklearn-color-unfitted-level-1);\n",
       "}\n",
       "\n",
       ".sk-estimator-doc-link.fitted,\n",
       "a:link.sk-estimator-doc-link.fitted,\n",
       "a:visited.sk-estimator-doc-link.fitted {\n",
       "  /* fitted */\n",
       "  border: var(--sklearn-color-fitted-level-1) 1pt solid;\n",
       "  color: var(--sklearn-color-fitted-level-1);\n",
       "}\n",
       "\n",
       "/* On hover */\n",
       "div.sk-estimator:hover .sk-estimator-doc-link:hover,\n",
       ".sk-estimator-doc-link:hover,\n",
       "div.sk-label-container:hover .sk-estimator-doc-link:hover,\n",
       ".sk-estimator-doc-link:hover {\n",
       "  /* unfitted */\n",
       "  background-color: var(--sklearn-color-unfitted-level-3);\n",
       "  color: var(--sklearn-color-background);\n",
       "  text-decoration: none;\n",
       "}\n",
       "\n",
       "div.sk-estimator.fitted:hover .sk-estimator-doc-link.fitted:hover,\n",
       ".sk-estimator-doc-link.fitted:hover,\n",
       "div.sk-label-container:hover .sk-estimator-doc-link.fitted:hover,\n",
       ".sk-estimator-doc-link.fitted:hover {\n",
       "  /* fitted */\n",
       "  background-color: var(--sklearn-color-fitted-level-3);\n",
       "  color: var(--sklearn-color-background);\n",
       "  text-decoration: none;\n",
       "}\n",
       "\n",
       "/* Span, style for the box shown on hovering the info icon */\n",
       ".sk-estimator-doc-link span {\n",
       "  display: none;\n",
       "  z-index: 9999;\n",
       "  position: relative;\n",
       "  font-weight: normal;\n",
       "  right: .2ex;\n",
       "  padding: .5ex;\n",
       "  margin: .5ex;\n",
       "  width: min-content;\n",
       "  min-width: 20ex;\n",
       "  max-width: 50ex;\n",
       "  color: var(--sklearn-color-text);\n",
       "  box-shadow: 2pt 2pt 4pt #999;\n",
       "  /* unfitted */\n",
       "  background: var(--sklearn-color-unfitted-level-0);\n",
       "  border: .5pt solid var(--sklearn-color-unfitted-level-3);\n",
       "}\n",
       "\n",
       ".sk-estimator-doc-link.fitted span {\n",
       "  /* fitted */\n",
       "  background: var(--sklearn-color-fitted-level-0);\n",
       "  border: var(--sklearn-color-fitted-level-3);\n",
       "}\n",
       "\n",
       ".sk-estimator-doc-link:hover span {\n",
       "  display: block;\n",
       "}\n",
       "\n",
       "/* \"?\"-specific style due to the `<a>` HTML tag */\n",
       "\n",
       "#sk-container-id-1 a.estimator_doc_link {\n",
       "  float: right;\n",
       "  font-size: 1rem;\n",
       "  line-height: 1em;\n",
       "  font-family: monospace;\n",
       "  background-color: var(--sklearn-color-background);\n",
       "  border-radius: 1rem;\n",
       "  height: 1rem;\n",
       "  width: 1rem;\n",
       "  text-decoration: none;\n",
       "  /* unfitted */\n",
       "  color: var(--sklearn-color-unfitted-level-1);\n",
       "  border: var(--sklearn-color-unfitted-level-1) 1pt solid;\n",
       "}\n",
       "\n",
       "#sk-container-id-1 a.estimator_doc_link.fitted {\n",
       "  /* fitted */\n",
       "  border: var(--sklearn-color-fitted-level-1) 1pt solid;\n",
       "  color: var(--sklearn-color-fitted-level-1);\n",
       "}\n",
       "\n",
       "/* On hover */\n",
       "#sk-container-id-1 a.estimator_doc_link:hover {\n",
       "  /* unfitted */\n",
       "  background-color: var(--sklearn-color-unfitted-level-3);\n",
       "  color: var(--sklearn-color-background);\n",
       "  text-decoration: none;\n",
       "}\n",
       "\n",
       "#sk-container-id-1 a.estimator_doc_link.fitted:hover {\n",
       "  /* fitted */\n",
       "  background-color: var(--sklearn-color-fitted-level-3);\n",
       "}\n",
       "</style><div id=\"sk-container-id-1\" class=\"sk-top-container\"><div class=\"sk-text-repr-fallback\"><pre>Pipeline(steps=[(&#x27;feature_engineering&#x27;,\n",
       "                 ColumnTransformer(remainder=&#x27;passthrough&#x27;,\n",
       "                                   transformers=[(&#x27;outlier_clipper&#x27;,\n",
       "                                                  OutlierClipper(),\n",
       "                                                  Index([&#x27; ROA(C) before interest and depreciation before interest&#x27;,\n",
       "       &#x27; ROA(A) before interest and % after tax&#x27;,\n",
       "       &#x27; ROA(B) before interest and depreciation after tax&#x27;,\n",
       "       &#x27; Operating Gross Margin&#x27;, &#x27; Realized Sales Gross Margin&#x27;,\n",
       "       &#x27; Operating Profit Rate&#x27;, &#x27; Pre-ta...\n",
       "       &#x27; Net Income to Total Assets&#x27;, &#x27; Total assets to GNP price&#x27;,\n",
       "       &#x27; No-credit Interval&#x27;, &#x27; Gross Profit to Sales&#x27;,\n",
       "       &#x27; Net Income to Stockholder&#x27;s Equity&#x27;, &#x27; Liability to Equity&#x27;,\n",
       "       &#x27; Degree of Financial Leverage (DFL)&#x27;,\n",
       "       &#x27; Interest Coverage Ratio (Interest expense to EBIT)&#x27;,\n",
       "       &#x27; Equity to Liability&#x27;],\n",
       "      dtype=&#x27;object&#x27;))])),\n",
       "                (&#x27;classifier&#x27;,\n",
       "                 RandomForestClassifier(max_depth=14, min_samples_leaf=3,\n",
       "                                        min_samples_split=17,\n",
       "                                        n_estimators=180))])</pre><b>In a Jupyter environment, please rerun this cell to show the HTML representation or trust the notebook. <br />On GitHub, the HTML representation is unable to render, please try loading this page with nbviewer.org.</b></div><div class=\"sk-container\" hidden><div class=\"sk-item sk-dashed-wrapped\"><div class=\"sk-label-container\"><div class=\"sk-label fitted sk-toggleable\"><input class=\"sk-toggleable__control sk-hidden--visually\" id=\"sk-estimator-id-1\" type=\"checkbox\" ><label for=\"sk-estimator-id-1\" class=\"sk-toggleable__label fitted sk-toggleable__label-arrow fitted\">&nbsp;&nbsp;Pipeline<a class=\"sk-estimator-doc-link fitted\" rel=\"noreferrer\" target=\"_blank\" href=\"https://scikit-learn.org/1.4/modules/generated/sklearn.pipeline.Pipeline.html\">?<span>Documentation for Pipeline</span></a><span class=\"sk-estimator-doc-link fitted\">i<span>Fitted</span></span></label><div class=\"sk-toggleable__content fitted\"><pre>Pipeline(steps=[(&#x27;feature_engineering&#x27;,\n",
       "                 ColumnTransformer(remainder=&#x27;passthrough&#x27;,\n",
       "                                   transformers=[(&#x27;outlier_clipper&#x27;,\n",
       "                                                  OutlierClipper(),\n",
       "                                                  Index([&#x27; ROA(C) before interest and depreciation before interest&#x27;,\n",
       "       &#x27; ROA(A) before interest and % after tax&#x27;,\n",
       "       &#x27; ROA(B) before interest and depreciation after tax&#x27;,\n",
       "       &#x27; Operating Gross Margin&#x27;, &#x27; Realized Sales Gross Margin&#x27;,\n",
       "       &#x27; Operating Profit Rate&#x27;, &#x27; Pre-ta...\n",
       "       &#x27; Net Income to Total Assets&#x27;, &#x27; Total assets to GNP price&#x27;,\n",
       "       &#x27; No-credit Interval&#x27;, &#x27; Gross Profit to Sales&#x27;,\n",
       "       &#x27; Net Income to Stockholder&#x27;s Equity&#x27;, &#x27; Liability to Equity&#x27;,\n",
       "       &#x27; Degree of Financial Leverage (DFL)&#x27;,\n",
       "       &#x27; Interest Coverage Ratio (Interest expense to EBIT)&#x27;,\n",
       "       &#x27; Equity to Liability&#x27;],\n",
       "      dtype=&#x27;object&#x27;))])),\n",
       "                (&#x27;classifier&#x27;,\n",
       "                 RandomForestClassifier(max_depth=14, min_samples_leaf=3,\n",
       "                                        min_samples_split=17,\n",
       "                                        n_estimators=180))])</pre></div> </div></div><div class=\"sk-serial\"><div class=\"sk-item sk-dashed-wrapped\"><div class=\"sk-label-container\"><div class=\"sk-label fitted sk-toggleable\"><input class=\"sk-toggleable__control sk-hidden--visually\" id=\"sk-estimator-id-2\" type=\"checkbox\" ><label for=\"sk-estimator-id-2\" class=\"sk-toggleable__label fitted sk-toggleable__label-arrow fitted\">&nbsp;feature_engineering: ColumnTransformer<a class=\"sk-estimator-doc-link fitted\" rel=\"noreferrer\" target=\"_blank\" href=\"https://scikit-learn.org/1.4/modules/generated/sklearn.compose.ColumnTransformer.html\">?<span>Documentation for feature_engineering: ColumnTransformer</span></a></label><div class=\"sk-toggleable__content fitted\"><pre>ColumnTransformer(remainder=&#x27;passthrough&#x27;,\n",
       "                  transformers=[(&#x27;outlier_clipper&#x27;, OutlierClipper(),\n",
       "                                 Index([&#x27; ROA(C) before interest and depreciation before interest&#x27;,\n",
       "       &#x27; ROA(A) before interest and % after tax&#x27;,\n",
       "       &#x27; ROA(B) before interest and depreciation after tax&#x27;,\n",
       "       &#x27; Operating Gross Margin&#x27;, &#x27; Realized Sales Gross Margin&#x27;,\n",
       "       &#x27; Operating Profit Rate&#x27;, &#x27; Pre-tax net Interest Rate&#x27;,\n",
       "       &#x27; After-tax net Interest...\n",
       "       &#x27; Cash Flow to Liability&#x27;, &#x27; CFO to Assets&#x27;, &#x27; Cash Flow to Equity&#x27;,\n",
       "       &#x27; Current Liability to Current Assets&#x27;, &#x27; Liability-Assets Flag&#x27;,\n",
       "       &#x27; Net Income to Total Assets&#x27;, &#x27; Total assets to GNP price&#x27;,\n",
       "       &#x27; No-credit Interval&#x27;, &#x27; Gross Profit to Sales&#x27;,\n",
       "       &#x27; Net Income to Stockholder&#x27;s Equity&#x27;, &#x27; Liability to Equity&#x27;,\n",
       "       &#x27; Degree of Financial Leverage (DFL)&#x27;,\n",
       "       &#x27; Interest Coverage Ratio (Interest expense to EBIT)&#x27;,\n",
       "       &#x27; Equity to Liability&#x27;],\n",
       "      dtype=&#x27;object&#x27;))])</pre></div> </div></div><div class=\"sk-parallel\"><div class=\"sk-parallel-item\"><div class=\"sk-item\"><div class=\"sk-label-container\"><div class=\"sk-label fitted sk-toggleable\"><input class=\"sk-toggleable__control sk-hidden--visually\" id=\"sk-estimator-id-3\" type=\"checkbox\" ><label for=\"sk-estimator-id-3\" class=\"sk-toggleable__label fitted sk-toggleable__label-arrow fitted\">outlier_clipper</label><div class=\"sk-toggleable__content fitted\"><pre>Index([&#x27; ROA(C) before interest and depreciation before interest&#x27;,\n",
       "       &#x27; ROA(A) before interest and % after tax&#x27;,\n",
       "       &#x27; ROA(B) before interest and depreciation after tax&#x27;,\n",
       "       &#x27; Operating Gross Margin&#x27;, &#x27; Realized Sales Gross Margin&#x27;,\n",
       "       &#x27; Operating Profit Rate&#x27;, &#x27; Pre-tax net Interest Rate&#x27;,\n",
       "       &#x27; After-tax net Interest Rate&#x27;,\n",
       "       &#x27; Non-industry income and expenditure/revenue&#x27;,\n",
       "       &#x27; Continuous interest rate (after tax)&#x27;, &#x27; Operating Expense Rate&#x27;,\n",
       "       &#x27; Research and development expense rate&#x27;, &#x27; Cash flow rate&#x27;,\n",
       "       &#x27; Interest-bearing debt interest rate&#x27;, &#x27; Tax rate (A)&#x27;,\n",
       "       &#x27; Net Value Per Share (B)&#x27;, &#x27; Net Value Per Share (A)&#x27;,\n",
       "       &#x27; Net Value Per Share (C)&#x27;, &#x27; Persistent EPS in the Last Four Seasons&#x27;,\n",
       "       &#x27; Cash Flow Per Share&#x27;, &#x27; Revenue Per Share (Yuan ¥)&#x27;,\n",
       "       &#x27; Operating Profit Per Share (Yuan ¥)&#x27;,\n",
       "       &#x27; Per Share Net profit before tax (Yuan ¥)&#x27;,\n",
       "       &#x27; Realized Sales Gross Profit Growth Rate&#x27;,\n",
       "       &#x27; Operating Profit Growth Rate&#x27;, &#x27; After-tax Net Profit Growth Rate&#x27;,\n",
       "       &#x27; Regular Net Profit Growth Rate&#x27;, &#x27; Continuous Net Profit Growth Rate&#x27;,\n",
       "       &#x27; Total Asset Growth Rate&#x27;, &#x27; Net Value Growth Rate&#x27;,\n",
       "       &#x27; Total Asset Return Growth Rate Ratio&#x27;, &#x27; Cash Reinvestment %&#x27;,\n",
       "       &#x27; Current Ratio&#x27;, &#x27; Quick Ratio&#x27;, &#x27; Interest Expense Ratio&#x27;,\n",
       "       &#x27; Total debt/Total net worth&#x27;, &#x27; Debt ratio %&#x27;, &#x27; Net worth/Assets&#x27;,\n",
       "       &#x27; Long-term fund suitability ratio (A)&#x27;, &#x27; Borrowing dependency&#x27;,\n",
       "       &#x27; Contingent liabilities/Net worth&#x27;,\n",
       "       &#x27; Operating profit/Paid-in capital&#x27;,\n",
       "       &#x27; Net profit before tax/Paid-in capital&#x27;,\n",
       "       &#x27; Inventory and accounts receivable/Net value&#x27;, &#x27; Total Asset Turnover&#x27;,\n",
       "       &#x27; Accounts Receivable Turnover&#x27;, &#x27; Average Collection Days&#x27;,\n",
       "       &#x27; Inventory Turnover Rate (times)&#x27;, &#x27; Fixed Assets Turnover Frequency&#x27;,\n",
       "       &#x27; Net Worth Turnover Rate (times)&#x27;, &#x27; Revenue per person&#x27;,\n",
       "       &#x27; Operating profit per person&#x27;, &#x27; Allocation rate per person&#x27;,\n",
       "       &#x27; Working Capital to Total Assets&#x27;, &#x27; Quick Assets/Total Assets&#x27;,\n",
       "       &#x27; Current Assets/Total Assets&#x27;, &#x27; Cash/Total Assets&#x27;,\n",
       "       &#x27; Quick Assets/Current Liability&#x27;, &#x27; Cash/Current Liability&#x27;,\n",
       "       &#x27; Current Liability to Assets&#x27;, &#x27; Operating Funds to Liability&#x27;,\n",
       "       &#x27; Inventory/Working Capital&#x27;, &#x27; Inventory/Current Liability&#x27;,\n",
       "       &#x27; Current Liabilities/Liability&#x27;, &#x27; Working Capital/Equity&#x27;,\n",
       "       &#x27; Current Liabilities/Equity&#x27;, &#x27; Long-term Liability to Current Assets&#x27;,\n",
       "       &#x27; Retained Earnings to Total Assets&#x27;, &#x27; Total income/Total expense&#x27;,\n",
       "       &#x27; Total expense/Assets&#x27;, &#x27; Current Asset Turnover Rate&#x27;,\n",
       "       &#x27; Quick Asset Turnover Rate&#x27;, &#x27; Working capitcal Turnover Rate&#x27;,\n",
       "       &#x27; Cash Turnover Rate&#x27;, &#x27; Cash Flow to Sales&#x27;, &#x27; Fixed Assets to Assets&#x27;,\n",
       "       &#x27; Current Liability to Liability&#x27;, &#x27; Current Liability to Equity&#x27;,\n",
       "       &#x27; Equity to Long-term Liability&#x27;, &#x27; Cash Flow to Total Assets&#x27;,\n",
       "       &#x27; Cash Flow to Liability&#x27;, &#x27; CFO to Assets&#x27;, &#x27; Cash Flow to Equity&#x27;,\n",
       "       &#x27; Current Liability to Current Assets&#x27;, &#x27; Liability-Assets Flag&#x27;,\n",
       "       &#x27; Net Income to Total Assets&#x27;, &#x27; Total assets to GNP price&#x27;,\n",
       "       &#x27; No-credit Interval&#x27;, &#x27; Gross Profit to Sales&#x27;,\n",
       "       &#x27; Net Income to Stockholder&#x27;s Equity&#x27;, &#x27; Liability to Equity&#x27;,\n",
       "       &#x27; Degree of Financial Leverage (DFL)&#x27;,\n",
       "       &#x27; Interest Coverage Ratio (Interest expense to EBIT)&#x27;,\n",
       "       &#x27; Equity to Liability&#x27;],\n",
       "      dtype=&#x27;object&#x27;)</pre></div> </div></div><div class=\"sk-serial\"><div class=\"sk-item\"><div class=\"sk-estimator fitted sk-toggleable\"><input class=\"sk-toggleable__control sk-hidden--visually\" id=\"sk-estimator-id-4\" type=\"checkbox\" ><label for=\"sk-estimator-id-4\" class=\"sk-toggleable__label fitted sk-toggleable__label-arrow fitted\">OutlierClipper</label><div class=\"sk-toggleable__content fitted\"><pre>OutlierClipper()</pre></div> </div></div></div></div></div><div class=\"sk-parallel-item\"><div class=\"sk-item\"><div class=\"sk-label-container\"><div class=\"sk-label fitted sk-toggleable\"><input class=\"sk-toggleable__control sk-hidden--visually\" id=\"sk-estimator-id-5\" type=\"checkbox\" ><label for=\"sk-estimator-id-5\" class=\"sk-toggleable__label fitted sk-toggleable__label-arrow fitted\">remainder</label><div class=\"sk-toggleable__content fitted\"><pre>[]</pre></div> </div></div><div class=\"sk-serial\"><div class=\"sk-item\"><div class=\"sk-estimator fitted sk-toggleable\"><input class=\"sk-toggleable__control sk-hidden--visually\" id=\"sk-estimator-id-6\" type=\"checkbox\" ><label for=\"sk-estimator-id-6\" class=\"sk-toggleable__label fitted sk-toggleable__label-arrow fitted\">passthrough</label><div class=\"sk-toggleable__content fitted\"><pre>passthrough</pre></div> </div></div></div></div></div></div></div><div class=\"sk-item\"><div class=\"sk-estimator fitted sk-toggleable\"><input class=\"sk-toggleable__control sk-hidden--visually\" id=\"sk-estimator-id-7\" type=\"checkbox\" ><label for=\"sk-estimator-id-7\" class=\"sk-toggleable__label fitted sk-toggleable__label-arrow fitted\">&nbsp;RandomForestClassifier<a class=\"sk-estimator-doc-link fitted\" rel=\"noreferrer\" target=\"_blank\" href=\"https://scikit-learn.org/1.4/modules/generated/sklearn.ensemble.RandomForestClassifier.html\">?<span>Documentation for RandomForestClassifier</span></a></label><div class=\"sk-toggleable__content fitted\"><pre>RandomForestClassifier(max_depth=14, min_samples_leaf=3, min_samples_split=17,\n",
       "                       n_estimators=180)</pre></div> </div></div></div></div></div></div>"
      ],
      "text/plain": [
       "Pipeline(steps=[('feature_engineering',\n",
       "                 ColumnTransformer(remainder='passthrough',\n",
       "                                   transformers=[('outlier_clipper',\n",
       "                                                  OutlierClipper(),\n",
       "                                                  Index([' ROA(C) before interest and depreciation before interest',\n",
       "       ' ROA(A) before interest and % after tax',\n",
       "       ' ROA(B) before interest and depreciation after tax',\n",
       "       ' Operating Gross Margin', ' Realized Sales Gross Margin',\n",
       "       ' Operating Profit Rate', ' Pre-ta...\n",
       "       ' Net Income to Total Assets', ' Total assets to GNP price',\n",
       "       ' No-credit Interval', ' Gross Profit to Sales',\n",
       "       ' Net Income to Stockholder's Equity', ' Liability to Equity',\n",
       "       ' Degree of Financial Leverage (DFL)',\n",
       "       ' Interest Coverage Ratio (Interest expense to EBIT)',\n",
       "       ' Equity to Liability'],\n",
       "      dtype='object'))])),\n",
       "                ('classifier',\n",
       "                 RandomForestClassifier(max_depth=14, min_samples_leaf=3,\n",
       "                                        min_samples_split=17,\n",
       "                                        n_estimators=180))])"
      ]
     },
     "execution_count": 51,
     "metadata": {},
     "output_type": "execute_result"
    }
   ],
   "source": [
    "params={'n_estimators': 180, 'min_samples_split': 17, 'min_samples_leaf': 3, 'max_depth': 14}\n",
    "pipe_fe_clf = Pipeline(steps=[('feature_engineering', feature_engineering_outlier_clipper), ('classifier', RandomForestClassifier(**params))])\n",
    "\n",
    "pipe_fe_clf.fit(X = X_train, y = y_train)"
   ]
  },
  {
   "cell_type": "code",
   "execution_count": 52,
   "metadata": {},
   "outputs": [],
   "source": [
    "y_train_pr=pipe_fe_clf.predict(X_train)\n",
    "y_test_pr=pipe_fe_clf.predict(X_test)"
   ]
  },
  {
   "cell_type": "code",
   "execution_count": 76,
   "metadata": {},
   "outputs": [
    {
     "name": "stdout",
     "output_type": "stream",
     "text": [
      "Recall train: 0.3905325443786982\n",
      "Recall test: 0.1568627450980392\n",
      "Precision train: 1.0\n",
      "Precision test: 0.8888888888888888\n",
      "F1 train: 0.5617021276595745\n",
      "F1 test: 0.26666666666666666\n"
     ]
    }
   ],
   "source": [
    "print('Recall train: ' + str(recall_score(y_train, y_train_pr)))\n",
    "print('Recall test: ' + str(recall_score(y_test, y_test_pr)))\n",
    "print('Precision train: ' + str(precision_score(y_train, y_train_pr)))\n",
    "print('Precision test: ' + str(precision_score(y_test, y_test_pr)))\n",
    "print('F1 train: ' + str(f1_score(y_train, y_train_pr)))\n",
    "print('F1 test: ' + str(f1_score(y_test, y_test_pr)))"
   ]
  },
  {
   "cell_type": "code",
   "execution_count": 54,
   "metadata": {},
   "outputs": [
    {
     "data": {
      "text/plain": [
       "array([[1312,    1],\n",
       "       [  43,    8]], dtype=int64)"
      ]
     },
     "execution_count": 54,
     "metadata": {},
     "output_type": "execute_result"
    }
   ],
   "source": [
    "confusion_matrix(y_test, y_test_pr)"
   ]
  },
  {
   "cell_type": "markdown",
   "metadata": {},
   "source": [
    "## Step 4\n",
    "**OPTIONAL: Step 4: Fine tune the model or use more advanced modelling approaches**\n",
    "- map the prediction of the testing dataset against real numbers from your dataset and compare the result\n",
    "- make adjustments on your model for a better result (but make sure don't overfit the model)\n",
    "\n"
   ]
  },
  {
   "cell_type": "code",
   "execution_count": 61,
   "metadata": {},
   "outputs": [],
   "source": [
    "# using pycaret\n",
    "from pycaret.classification import *\n",
    "\n"
   ]
  },
  {
   "cell_type": "code",
   "execution_count": 62,
   "metadata": {},
   "outputs": [],
   "source": [
    "df_train, df_test = train_test_split(df, test_size=0.2, random_state=42)"
   ]
  },
  {
   "cell_type": "code",
   "execution_count": 80,
   "metadata": {},
   "outputs": [
    {
     "data": {
      "text/html": [
       "<style type=\"text/css\">\n",
       "#T_11599_row8_col1 {\n",
       "  background-color: lightgreen;\n",
       "}\n",
       "</style>\n",
       "<table id=\"T_11599\">\n",
       "  <thead>\n",
       "    <tr>\n",
       "      <th class=\"blank level0\" >&nbsp;</th>\n",
       "      <th id=\"T_11599_level0_col0\" class=\"col_heading level0 col0\" >Description</th>\n",
       "      <th id=\"T_11599_level0_col1\" class=\"col_heading level0 col1\" >Value</th>\n",
       "    </tr>\n",
       "  </thead>\n",
       "  <tbody>\n",
       "    <tr>\n",
       "      <th id=\"T_11599_level0_row0\" class=\"row_heading level0 row0\" >0</th>\n",
       "      <td id=\"T_11599_row0_col0\" class=\"data row0 col0\" >Session id</td>\n",
       "      <td id=\"T_11599_row0_col1\" class=\"data row0 col1\" >4183</td>\n",
       "    </tr>\n",
       "    <tr>\n",
       "      <th id=\"T_11599_level0_row1\" class=\"row_heading level0 row1\" >1</th>\n",
       "      <td id=\"T_11599_row1_col0\" class=\"data row1 col0\" >Target</td>\n",
       "      <td id=\"T_11599_row1_col1\" class=\"data row1 col1\" >Bankrupt?</td>\n",
       "    </tr>\n",
       "    <tr>\n",
       "      <th id=\"T_11599_level0_row2\" class=\"row_heading level0 row2\" >2</th>\n",
       "      <td id=\"T_11599_row2_col0\" class=\"data row2 col0\" >Target type</td>\n",
       "      <td id=\"T_11599_row2_col1\" class=\"data row2 col1\" >Binary</td>\n",
       "    </tr>\n",
       "    <tr>\n",
       "      <th id=\"T_11599_level0_row3\" class=\"row_heading level0 row3\" >3</th>\n",
       "      <td id=\"T_11599_row3_col0\" class=\"data row3 col0\" >Original data shape</td>\n",
       "      <td id=\"T_11599_row3_col1\" class=\"data row3 col1\" >(5455, 96)</td>\n",
       "    </tr>\n",
       "    <tr>\n",
       "      <th id=\"T_11599_level0_row4\" class=\"row_heading level0 row4\" >4</th>\n",
       "      <td id=\"T_11599_row4_col0\" class=\"data row4 col0\" >Transformed data shape</td>\n",
       "      <td id=\"T_11599_row4_col1\" class=\"data row4 col1\" >(5455, 96)</td>\n",
       "    </tr>\n",
       "    <tr>\n",
       "      <th id=\"T_11599_level0_row5\" class=\"row_heading level0 row5\" >5</th>\n",
       "      <td id=\"T_11599_row5_col0\" class=\"data row5 col0\" >Transformed train set shape</td>\n",
       "      <td id=\"T_11599_row5_col1\" class=\"data row5 col1\" >(3818, 96)</td>\n",
       "    </tr>\n",
       "    <tr>\n",
       "      <th id=\"T_11599_level0_row6\" class=\"row_heading level0 row6\" >6</th>\n",
       "      <td id=\"T_11599_row6_col0\" class=\"data row6 col0\" >Transformed test set shape</td>\n",
       "      <td id=\"T_11599_row6_col1\" class=\"data row6 col1\" >(1637, 96)</td>\n",
       "    </tr>\n",
       "    <tr>\n",
       "      <th id=\"T_11599_level0_row7\" class=\"row_heading level0 row7\" >7</th>\n",
       "      <td id=\"T_11599_row7_col0\" class=\"data row7 col0\" >Numeric features</td>\n",
       "      <td id=\"T_11599_row7_col1\" class=\"data row7 col1\" >95</td>\n",
       "    </tr>\n",
       "    <tr>\n",
       "      <th id=\"T_11599_level0_row8\" class=\"row_heading level0 row8\" >8</th>\n",
       "      <td id=\"T_11599_row8_col0\" class=\"data row8 col0\" >Preprocess</td>\n",
       "      <td id=\"T_11599_row8_col1\" class=\"data row8 col1\" >True</td>\n",
       "    </tr>\n",
       "    <tr>\n",
       "      <th id=\"T_11599_level0_row9\" class=\"row_heading level0 row9\" >9</th>\n",
       "      <td id=\"T_11599_row9_col0\" class=\"data row9 col0\" >Imputation type</td>\n",
       "      <td id=\"T_11599_row9_col1\" class=\"data row9 col1\" >simple</td>\n",
       "    </tr>\n",
       "    <tr>\n",
       "      <th id=\"T_11599_level0_row10\" class=\"row_heading level0 row10\" >10</th>\n",
       "      <td id=\"T_11599_row10_col0\" class=\"data row10 col0\" >Numeric imputation</td>\n",
       "      <td id=\"T_11599_row10_col1\" class=\"data row10 col1\" >mean</td>\n",
       "    </tr>\n",
       "    <tr>\n",
       "      <th id=\"T_11599_level0_row11\" class=\"row_heading level0 row11\" >11</th>\n",
       "      <td id=\"T_11599_row11_col0\" class=\"data row11 col0\" >Categorical imputation</td>\n",
       "      <td id=\"T_11599_row11_col1\" class=\"data row11 col1\" >mode</td>\n",
       "    </tr>\n",
       "    <tr>\n",
       "      <th id=\"T_11599_level0_row12\" class=\"row_heading level0 row12\" >12</th>\n",
       "      <td id=\"T_11599_row12_col0\" class=\"data row12 col0\" >Fold Generator</td>\n",
       "      <td id=\"T_11599_row12_col1\" class=\"data row12 col1\" >StratifiedKFold</td>\n",
       "    </tr>\n",
       "    <tr>\n",
       "      <th id=\"T_11599_level0_row13\" class=\"row_heading level0 row13\" >13</th>\n",
       "      <td id=\"T_11599_row13_col0\" class=\"data row13 col0\" >Fold Number</td>\n",
       "      <td id=\"T_11599_row13_col1\" class=\"data row13 col1\" >10</td>\n",
       "    </tr>\n",
       "    <tr>\n",
       "      <th id=\"T_11599_level0_row14\" class=\"row_heading level0 row14\" >14</th>\n",
       "      <td id=\"T_11599_row14_col0\" class=\"data row14 col0\" >CPU Jobs</td>\n",
       "      <td id=\"T_11599_row14_col1\" class=\"data row14 col1\" >-1</td>\n",
       "    </tr>\n",
       "    <tr>\n",
       "      <th id=\"T_11599_level0_row15\" class=\"row_heading level0 row15\" >15</th>\n",
       "      <td id=\"T_11599_row15_col0\" class=\"data row15 col0\" >Use GPU</td>\n",
       "      <td id=\"T_11599_row15_col1\" class=\"data row15 col1\" >False</td>\n",
       "    </tr>\n",
       "    <tr>\n",
       "      <th id=\"T_11599_level0_row16\" class=\"row_heading level0 row16\" >16</th>\n",
       "      <td id=\"T_11599_row16_col0\" class=\"data row16 col0\" >Log Experiment</td>\n",
       "      <td id=\"T_11599_row16_col1\" class=\"data row16 col1\" >False</td>\n",
       "    </tr>\n",
       "    <tr>\n",
       "      <th id=\"T_11599_level0_row17\" class=\"row_heading level0 row17\" >17</th>\n",
       "      <td id=\"T_11599_row17_col0\" class=\"data row17 col0\" >Experiment Name</td>\n",
       "      <td id=\"T_11599_row17_col1\" class=\"data row17 col1\" >clf-default-name</td>\n",
       "    </tr>\n",
       "    <tr>\n",
       "      <th id=\"T_11599_level0_row18\" class=\"row_heading level0 row18\" >18</th>\n",
       "      <td id=\"T_11599_row18_col0\" class=\"data row18 col0\" >USI</td>\n",
       "      <td id=\"T_11599_row18_col1\" class=\"data row18 col1\" >a6f3</td>\n",
       "    </tr>\n",
       "  </tbody>\n",
       "</table>\n"
      ],
      "text/plain": [
       "<pandas.io.formats.style.Styler at 0x25272268910>"
      ]
     },
     "metadata": {},
     "output_type": "display_data"
    }
   ],
   "source": [
    "s = setup(df_train, target = 'Bankrupt?')"
   ]
  },
  {
   "cell_type": "code",
   "execution_count": 64,
   "metadata": {},
   "outputs": [
    {
     "data": {
      "text/html": [],
      "text/plain": [
       "<IPython.core.display.HTML object>"
      ]
     },
     "metadata": {},
     "output_type": "display_data"
    },
    {
     "data": {
      "text/html": [
       "<style type=\"text/css\">\n",
       "#T_e9350 th {\n",
       "  text-align: left;\n",
       "}\n",
       "#T_e9350_row0_col0, #T_e9350_row0_col2, #T_e9350_row0_col3, #T_e9350_row0_col5, #T_e9350_row0_col6, #T_e9350_row0_col7, #T_e9350_row1_col0, #T_e9350_row1_col2, #T_e9350_row1_col3, #T_e9350_row1_col4, #T_e9350_row1_col5, #T_e9350_row1_col6, #T_e9350_row2_col0, #T_e9350_row2_col1, #T_e9350_row2_col2, #T_e9350_row2_col3, #T_e9350_row2_col4, #T_e9350_row2_col5, #T_e9350_row2_col6, #T_e9350_row2_col7, #T_e9350_row3_col0, #T_e9350_row3_col1, #T_e9350_row3_col3, #T_e9350_row3_col4, #T_e9350_row3_col5, #T_e9350_row3_col6, #T_e9350_row3_col7, #T_e9350_row4_col0, #T_e9350_row4_col1, #T_e9350_row4_col2, #T_e9350_row4_col3, #T_e9350_row4_col4, #T_e9350_row4_col5, #T_e9350_row4_col6, #T_e9350_row4_col7, #T_e9350_row5_col0, #T_e9350_row5_col1, #T_e9350_row5_col2, #T_e9350_row5_col3, #T_e9350_row5_col4, #T_e9350_row5_col5, #T_e9350_row5_col6, #T_e9350_row5_col7, #T_e9350_row6_col0, #T_e9350_row6_col1, #T_e9350_row6_col2, #T_e9350_row6_col3, #T_e9350_row6_col4, #T_e9350_row6_col5, #T_e9350_row6_col6, #T_e9350_row6_col7, #T_e9350_row7_col0, #T_e9350_row7_col1, #T_e9350_row7_col2, #T_e9350_row7_col3, #T_e9350_row7_col4, #T_e9350_row7_col5, #T_e9350_row7_col6, #T_e9350_row7_col7, #T_e9350_row8_col0, #T_e9350_row8_col1, #T_e9350_row8_col2, #T_e9350_row8_col3, #T_e9350_row8_col4, #T_e9350_row8_col5, #T_e9350_row8_col6, #T_e9350_row8_col7, #T_e9350_row9_col0, #T_e9350_row9_col1, #T_e9350_row9_col2, #T_e9350_row9_col3, #T_e9350_row9_col4, #T_e9350_row9_col5, #T_e9350_row9_col6, #T_e9350_row9_col7, #T_e9350_row10_col0, #T_e9350_row10_col1, #T_e9350_row10_col2, #T_e9350_row10_col3, #T_e9350_row10_col4, #T_e9350_row10_col7, #T_e9350_row11_col0, #T_e9350_row11_col1, #T_e9350_row11_col2, #T_e9350_row11_col3, #T_e9350_row11_col4, #T_e9350_row11_col5, #T_e9350_row11_col6, #T_e9350_row11_col7, #T_e9350_row12_col0, #T_e9350_row12_col1, #T_e9350_row12_col2, #T_e9350_row12_col3, #T_e9350_row12_col4, #T_e9350_row12_col5, #T_e9350_row12_col6, #T_e9350_row12_col7, #T_e9350_row13_col0, #T_e9350_row13_col1, #T_e9350_row13_col2, #T_e9350_row13_col3, #T_e9350_row13_col4, #T_e9350_row13_col5, #T_e9350_row13_col6, #T_e9350_row13_col7, #T_e9350_row14_col0, #T_e9350_row14_col1, #T_e9350_row14_col2, #T_e9350_row14_col4, #T_e9350_row14_col5, #T_e9350_row14_col6, #T_e9350_row14_col7 {\n",
       "  text-align: left;\n",
       "}\n",
       "#T_e9350_row0_col1, #T_e9350_row0_col4, #T_e9350_row1_col1, #T_e9350_row1_col7, #T_e9350_row3_col2, #T_e9350_row10_col5, #T_e9350_row10_col6, #T_e9350_row14_col3 {\n",
       "  text-align: left;\n",
       "  background-color: yellow;\n",
       "}\n",
       "#T_e9350_row0_col8, #T_e9350_row1_col8, #T_e9350_row2_col8, #T_e9350_row3_col8, #T_e9350_row4_col8, #T_e9350_row5_col8, #T_e9350_row6_col8, #T_e9350_row7_col8, #T_e9350_row8_col8, #T_e9350_row9_col8, #T_e9350_row10_col8, #T_e9350_row11_col8, #T_e9350_row12_col8, #T_e9350_row13_col8 {\n",
       "  text-align: left;\n",
       "  background-color: lightgrey;\n",
       "}\n",
       "#T_e9350_row14_col8 {\n",
       "  text-align: left;\n",
       "  background-color: yellow;\n",
       "  background-color: lightgrey;\n",
       "}\n",
       "</style>\n",
       "<table id=\"T_e9350\">\n",
       "  <thead>\n",
       "    <tr>\n",
       "      <th class=\"blank level0\" >&nbsp;</th>\n",
       "      <th id=\"T_e9350_level0_col0\" class=\"col_heading level0 col0\" >Model</th>\n",
       "      <th id=\"T_e9350_level0_col1\" class=\"col_heading level0 col1\" >Accuracy</th>\n",
       "      <th id=\"T_e9350_level0_col2\" class=\"col_heading level0 col2\" >AUC</th>\n",
       "      <th id=\"T_e9350_level0_col3\" class=\"col_heading level0 col3\" >Recall</th>\n",
       "      <th id=\"T_e9350_level0_col4\" class=\"col_heading level0 col4\" >Prec.</th>\n",
       "      <th id=\"T_e9350_level0_col5\" class=\"col_heading level0 col5\" >F1</th>\n",
       "      <th id=\"T_e9350_level0_col6\" class=\"col_heading level0 col6\" >Kappa</th>\n",
       "      <th id=\"T_e9350_level0_col7\" class=\"col_heading level0 col7\" >MCC</th>\n",
       "      <th id=\"T_e9350_level0_col8\" class=\"col_heading level0 col8\" >TT (Sec)</th>\n",
       "    </tr>\n",
       "  </thead>\n",
       "  <tbody>\n",
       "    <tr>\n",
       "      <th id=\"T_e9350_level0_row0\" class=\"row_heading level0 row0\" >rf</th>\n",
       "      <td id=\"T_e9350_row0_col0\" class=\"data row0 col0\" >Random Forest Classifier</td>\n",
       "      <td id=\"T_e9350_row0_col1\" class=\"data row0 col1\" >0.9715</td>\n",
       "      <td id=\"T_e9350_row0_col2\" class=\"data row0 col2\" >0.9290</td>\n",
       "      <td id=\"T_e9350_row0_col3\" class=\"data row0 col3\" >0.1424</td>\n",
       "      <td id=\"T_e9350_row0_col4\" class=\"data row0 col4\" >0.7250</td>\n",
       "      <td id=\"T_e9350_row0_col5\" class=\"data row0 col5\" >0.2291</td>\n",
       "      <td id=\"T_e9350_row0_col6\" class=\"data row0 col6\" >0.2215</td>\n",
       "      <td id=\"T_e9350_row0_col7\" class=\"data row0 col7\" >0.3032</td>\n",
       "      <td id=\"T_e9350_row0_col8\" class=\"data row0 col8\" >0.6800</td>\n",
       "    </tr>\n",
       "    <tr>\n",
       "      <th id=\"T_e9350_level0_row1\" class=\"row_heading level0 row1\" >lightgbm</th>\n",
       "      <td id=\"T_e9350_row1_col0\" class=\"data row1 col0\" >Light Gradient Boosting Machine</td>\n",
       "      <td id=\"T_e9350_row1_col1\" class=\"data row1 col1\" >0.9715</td>\n",
       "      <td id=\"T_e9350_row1_col2\" class=\"data row1 col2\" >0.9250</td>\n",
       "      <td id=\"T_e9350_row1_col3\" class=\"data row1 col3\" >0.2212</td>\n",
       "      <td id=\"T_e9350_row1_col4\" class=\"data row1 col4\" >0.6522</td>\n",
       "      <td id=\"T_e9350_row1_col5\" class=\"data row1 col5\" >0.3188</td>\n",
       "      <td id=\"T_e9350_row1_col6\" class=\"data row1 col6\" >0.3083</td>\n",
       "      <td id=\"T_e9350_row1_col7\" class=\"data row1 col7\" >0.3606</td>\n",
       "      <td id=\"T_e9350_row1_col8\" class=\"data row1 col8\" >0.4130</td>\n",
       "    </tr>\n",
       "    <tr>\n",
       "      <th id=\"T_e9350_level0_row2\" class=\"row_heading level0 row2\" >et</th>\n",
       "      <td id=\"T_e9350_row2_col0\" class=\"data row2 col0\" >Extra Trees Classifier</td>\n",
       "      <td id=\"T_e9350_row2_col1\" class=\"data row2 col1\" >0.9699</td>\n",
       "      <td id=\"T_e9350_row2_col2\" class=\"data row2 col2\" >0.9246</td>\n",
       "      <td id=\"T_e9350_row2_col3\" class=\"data row2 col3\" >0.1015</td>\n",
       "      <td id=\"T_e9350_row2_col4\" class=\"data row2 col4\" >0.6333</td>\n",
       "      <td id=\"T_e9350_row2_col5\" class=\"data row2 col5\" >0.1646</td>\n",
       "      <td id=\"T_e9350_row2_col6\" class=\"data row2 col6\" >0.1577</td>\n",
       "      <td id=\"T_e9350_row2_col7\" class=\"data row2 col7\" >0.2323</td>\n",
       "      <td id=\"T_e9350_row2_col8\" class=\"data row2 col8\" >0.1740</td>\n",
       "    </tr>\n",
       "    <tr>\n",
       "      <th id=\"T_e9350_level0_row3\" class=\"row_heading level0 row3\" >xgboost</th>\n",
       "      <td id=\"T_e9350_row3_col0\" class=\"data row3 col0\" >Extreme Gradient Boosting</td>\n",
       "      <td id=\"T_e9350_row3_col1\" class=\"data row3 col1\" >0.9694</td>\n",
       "      <td id=\"T_e9350_row3_col2\" class=\"data row3 col2\" >0.9320</td>\n",
       "      <td id=\"T_e9350_row3_col3\" class=\"data row3 col3\" >0.1864</td>\n",
       "      <td id=\"T_e9350_row3_col4\" class=\"data row3 col4\" >0.5131</td>\n",
       "      <td id=\"T_e9350_row3_col5\" class=\"data row3 col5\" >0.2629</td>\n",
       "      <td id=\"T_e9350_row3_col6\" class=\"data row3 col6\" >0.2517</td>\n",
       "      <td id=\"T_e9350_row3_col7\" class=\"data row3 col7\" >0.2896</td>\n",
       "      <td id=\"T_e9350_row3_col8\" class=\"data row3 col8\" >0.3540</td>\n",
       "    </tr>\n",
       "    <tr>\n",
       "      <th id=\"T_e9350_level0_row4\" class=\"row_heading level0 row4\" >dummy</th>\n",
       "      <td id=\"T_e9350_row4_col0\" class=\"data row4 col0\" >Dummy Classifier</td>\n",
       "      <td id=\"T_e9350_row4_col1\" class=\"data row4 col1\" >0.9691</td>\n",
       "      <td id=\"T_e9350_row4_col2\" class=\"data row4 col2\" >0.5000</td>\n",
       "      <td id=\"T_e9350_row4_col3\" class=\"data row4 col3\" >0.0000</td>\n",
       "      <td id=\"T_e9350_row4_col4\" class=\"data row4 col4\" >0.0000</td>\n",
       "      <td id=\"T_e9350_row4_col5\" class=\"data row4 col5\" >0.0000</td>\n",
       "      <td id=\"T_e9350_row4_col6\" class=\"data row4 col6\" >0.0000</td>\n",
       "      <td id=\"T_e9350_row4_col7\" class=\"data row4 col7\" >0.0000</td>\n",
       "      <td id=\"T_e9350_row4_col8\" class=\"data row4 col8\" >0.0260</td>\n",
       "    </tr>\n",
       "    <tr>\n",
       "      <th id=\"T_e9350_level0_row5\" class=\"row_heading level0 row5\" >ridge</th>\n",
       "      <td id=\"T_e9350_row5_col0\" class=\"data row5 col0\" >Ridge Classifier</td>\n",
       "      <td id=\"T_e9350_row5_col1\" class=\"data row5 col1\" >0.9683</td>\n",
       "      <td id=\"T_e9350_row5_col2\" class=\"data row5 col2\" >0.8738</td>\n",
       "      <td id=\"T_e9350_row5_col3\" class=\"data row5 col3\" >0.0250</td>\n",
       "      <td id=\"T_e9350_row5_col4\" class=\"data row5 col4\" >0.1833</td>\n",
       "      <td id=\"T_e9350_row5_col5\" class=\"data row5 col5\" >0.0430</td>\n",
       "      <td id=\"T_e9350_row5_col6\" class=\"data row5 col6\" >0.0393</td>\n",
       "      <td id=\"T_e9350_row5_col7\" class=\"data row5 col7\" >0.0612</td>\n",
       "      <td id=\"T_e9350_row5_col8\" class=\"data row5 col8\" >0.0380</td>\n",
       "    </tr>\n",
       "    <tr>\n",
       "      <th id=\"T_e9350_level0_row6\" class=\"row_heading level0 row6\" >knn</th>\n",
       "      <td id=\"T_e9350_row6_col0\" class=\"data row6 col0\" >K Neighbors Classifier</td>\n",
       "      <td id=\"T_e9350_row6_col1\" class=\"data row6 col1\" >0.9680</td>\n",
       "      <td id=\"T_e9350_row6_col2\" class=\"data row6 col2\" >0.5489</td>\n",
       "      <td id=\"T_e9350_row6_col3\" class=\"data row6 col3\" >0.0083</td>\n",
       "      <td id=\"T_e9350_row6_col4\" class=\"data row6 col4\" >0.0500</td>\n",
       "      <td id=\"T_e9350_row6_col5\" class=\"data row6 col5\" >0.0143</td>\n",
       "      <td id=\"T_e9350_row6_col6\" class=\"data row6 col6\" >0.0116</td>\n",
       "      <td id=\"T_e9350_row6_col7\" class=\"data row6 col7\" >0.0164</td>\n",
       "      <td id=\"T_e9350_row6_col8\" class=\"data row6 col8\" >0.0610</td>\n",
       "    </tr>\n",
       "    <tr>\n",
       "      <th id=\"T_e9350_level0_row7\" class=\"row_heading level0 row7\" >lr</th>\n",
       "      <td id=\"T_e9350_row7_col0\" class=\"data row7 col0\" >Logistic Regression</td>\n",
       "      <td id=\"T_e9350_row7_col1\" class=\"data row7 col1\" >0.9673</td>\n",
       "      <td id=\"T_e9350_row7_col2\" class=\"data row7 col2\" >0.5725</td>\n",
       "      <td id=\"T_e9350_row7_col3\" class=\"data row7 col3\" >0.0083</td>\n",
       "      <td id=\"T_e9350_row7_col4\" class=\"data row7 col4\" >0.1000</td>\n",
       "      <td id=\"T_e9350_row7_col5\" class=\"data row7 col5\" >0.0154</td>\n",
       "      <td id=\"T_e9350_row7_col6\" class=\"data row7 col6\" >0.0113</td>\n",
       "      <td id=\"T_e9350_row7_col7\" class=\"data row7 col7\" >0.0228</td>\n",
       "      <td id=\"T_e9350_row7_col8\" class=\"data row7 col8\" >0.1330</td>\n",
       "    </tr>\n",
       "    <tr>\n",
       "      <th id=\"T_e9350_level0_row8\" class=\"row_heading level0 row8\" >gbc</th>\n",
       "      <td id=\"T_e9350_row8_col0\" class=\"data row8 col0\" >Gradient Boosting Classifier</td>\n",
       "      <td id=\"T_e9350_row8_col1\" class=\"data row8 col1\" >0.9660</td>\n",
       "      <td id=\"T_e9350_row8_col2\" class=\"data row8 col2\" >0.9253</td>\n",
       "      <td id=\"T_e9350_row8_col3\" class=\"data row8 col3\" >0.2364</td>\n",
       "      <td id=\"T_e9350_row8_col4\" class=\"data row8 col4\" >0.4624</td>\n",
       "      <td id=\"T_e9350_row8_col5\" class=\"data row8 col5\" >0.2918</td>\n",
       "      <td id=\"T_e9350_row8_col6\" class=\"data row8 col6\" >0.2768</td>\n",
       "      <td id=\"T_e9350_row8_col7\" class=\"data row8 col7\" >0.3030</td>\n",
       "      <td id=\"T_e9350_row8_col8\" class=\"data row8 col8\" >3.5330</td>\n",
       "    </tr>\n",
       "    <tr>\n",
       "      <th id=\"T_e9350_level0_row9\" class=\"row_heading level0 row9\" >ada</th>\n",
       "      <td id=\"T_e9350_row9_col0\" class=\"data row9 col0\" >Ada Boost Classifier</td>\n",
       "      <td id=\"T_e9350_row9_col1\" class=\"data row9 col1\" >0.9657</td>\n",
       "      <td id=\"T_e9350_row9_col2\" class=\"data row9 col2\" >0.8811</td>\n",
       "      <td id=\"T_e9350_row9_col3\" class=\"data row9 col3\" >0.2614</td>\n",
       "      <td id=\"T_e9350_row9_col4\" class=\"data row9 col4\" >0.4569</td>\n",
       "      <td id=\"T_e9350_row9_col5\" class=\"data row9 col5\" >0.3154</td>\n",
       "      <td id=\"T_e9350_row9_col6\" class=\"data row9 col6\" >0.2995</td>\n",
       "      <td id=\"T_e9350_row9_col7\" class=\"data row9 col7\" >0.3196</td>\n",
       "      <td id=\"T_e9350_row9_col8\" class=\"data row9 col8\" >0.8480</td>\n",
       "    </tr>\n",
       "    <tr>\n",
       "      <th id=\"T_e9350_level0_row10\" class=\"row_heading level0 row10\" >lda</th>\n",
       "      <td id=\"T_e9350_row10_col0\" class=\"data row10 col0\" >Linear Discriminant Analysis</td>\n",
       "      <td id=\"T_e9350_row10_col1\" class=\"data row10 col1\" >0.9604</td>\n",
       "      <td id=\"T_e9350_row10_col2\" class=\"data row10 col2\" >0.9030</td>\n",
       "      <td id=\"T_e9350_row10_col3\" class=\"data row10 col3\" >0.3386</td>\n",
       "      <td id=\"T_e9350_row10_col4\" class=\"data row10 col4\" >0.3509</td>\n",
       "      <td id=\"T_e9350_row10_col5\" class=\"data row10 col5\" >0.3378</td>\n",
       "      <td id=\"T_e9350_row10_col6\" class=\"data row10 col6\" >0.3180</td>\n",
       "      <td id=\"T_e9350_row10_col7\" class=\"data row10 col7\" >0.3213</td>\n",
       "      <td id=\"T_e9350_row10_col8\" class=\"data row10 col8\" >0.0330</td>\n",
       "    </tr>\n",
       "    <tr>\n",
       "      <th id=\"T_e9350_level0_row11\" class=\"row_heading level0 row11\" >svm</th>\n",
       "      <td id=\"T_e9350_row11_col0\" class=\"data row11 col0\" >SVM - Linear Kernel</td>\n",
       "      <td id=\"T_e9350_row11_col1\" class=\"data row11 col1\" >0.9502</td>\n",
       "      <td id=\"T_e9350_row11_col2\" class=\"data row11 col2\" >0.5436</td>\n",
       "      <td id=\"T_e9350_row11_col3\" class=\"data row11 col3\" >0.0167</td>\n",
       "      <td id=\"T_e9350_row11_col4\" class=\"data row11 col4\" >0.1040</td>\n",
       "      <td id=\"T_e9350_row11_col5\" class=\"data row11 col5\" >0.0208</td>\n",
       "      <td id=\"T_e9350_row11_col6\" class=\"data row11 col6\" >0.0048</td>\n",
       "      <td id=\"T_e9350_row11_col7\" class=\"data row11 col7\" >0.0162</td>\n",
       "      <td id=\"T_e9350_row11_col8\" class=\"data row11 col8\" >0.0620</td>\n",
       "    </tr>\n",
       "    <tr>\n",
       "      <th id=\"T_e9350_level0_row12\" class=\"row_heading level0 row12\" >dt</th>\n",
       "      <td id=\"T_e9350_row12_col0\" class=\"data row12 col0\" >Decision Tree Classifier</td>\n",
       "      <td id=\"T_e9350_row12_col1\" class=\"data row12 col1\" >0.9495</td>\n",
       "      <td id=\"T_e9350_row12_col2\" class=\"data row12 col2\" >0.6204</td>\n",
       "      <td id=\"T_e9350_row12_col3\" class=\"data row12 col3\" >0.2697</td>\n",
       "      <td id=\"T_e9350_row12_col4\" class=\"data row12 col4\" >0.2347</td>\n",
       "      <td id=\"T_e9350_row12_col5\" class=\"data row12 col5\" >0.2481</td>\n",
       "      <td id=\"T_e9350_row12_col6\" class=\"data row12 col6\" >0.2225</td>\n",
       "      <td id=\"T_e9350_row12_col7\" class=\"data row12 col7\" >0.2244</td>\n",
       "      <td id=\"T_e9350_row12_col8\" class=\"data row12 col8\" >0.1380</td>\n",
       "    </tr>\n",
       "    <tr>\n",
       "      <th id=\"T_e9350_level0_row13\" class=\"row_heading level0 row13\" >qda</th>\n",
       "      <td id=\"T_e9350_row13_col0\" class=\"data row13 col0\" >Quadratic Discriminant Analysis</td>\n",
       "      <td id=\"T_e9350_row13_col1\" class=\"data row13 col1\" >0.7069</td>\n",
       "      <td id=\"T_e9350_row13_col2\" class=\"data row13 col2\" >0.6026</td>\n",
       "      <td id=\"T_e9350_row13_col3\" class=\"data row13 col3\" >0.4750</td>\n",
       "      <td id=\"T_e9350_row13_col4\" class=\"data row13 col4\" >0.0508</td>\n",
       "      <td id=\"T_e9350_row13_col5\" class=\"data row13 col5\" >0.0913</td>\n",
       "      <td id=\"T_e9350_row13_col6\" class=\"data row13 col6\" >0.0377</td>\n",
       "      <td id=\"T_e9350_row13_col7\" class=\"data row13 col7\" >0.0726</td>\n",
       "      <td id=\"T_e9350_row13_col8\" class=\"data row13 col8\" >0.0540</td>\n",
       "    </tr>\n",
       "    <tr>\n",
       "      <th id=\"T_e9350_level0_row14\" class=\"row_heading level0 row14\" >nb</th>\n",
       "      <td id=\"T_e9350_row14_col0\" class=\"data row14 col0\" >Naive Bayes</td>\n",
       "      <td id=\"T_e9350_row14_col1\" class=\"data row14 col1\" >0.0592</td>\n",
       "      <td id=\"T_e9350_row14_col2\" class=\"data row14 col2\" >0.4954</td>\n",
       "      <td id=\"T_e9350_row14_col3\" class=\"data row14 col3\" >0.9576</td>\n",
       "      <td id=\"T_e9350_row14_col4\" class=\"data row14 col4\" >0.0305</td>\n",
       "      <td id=\"T_e9350_row14_col5\" class=\"data row14 col5\" >0.0592</td>\n",
       "      <td id=\"T_e9350_row14_col6\" class=\"data row14 col6\" >-0.0008</td>\n",
       "      <td id=\"T_e9350_row14_col7\" class=\"data row14 col7\" >-0.0102</td>\n",
       "      <td id=\"T_e9350_row14_col8\" class=\"data row14 col8\" >0.0250</td>\n",
       "    </tr>\n",
       "  </tbody>\n",
       "</table>\n"
      ],
      "text/plain": [
       "<pandas.io.formats.style.Styler at 0x252704f8580>"
      ]
     },
     "metadata": {},
     "output_type": "display_data"
    },
    {
     "data": {
      "text/html": [],
      "text/plain": [
       "<IPython.core.display.HTML object>"
      ]
     },
     "metadata": {},
     "output_type": "display_data"
    }
   ],
   "source": [
    "best = compare_models()"
   ]
  },
  {
   "cell_type": "code",
   "execution_count": 68,
   "metadata": {},
   "outputs": [
    {
     "data": {
      "application/vnd.jupyter.widget-view+json": {
       "model_id": "047428bab7e64c87af2771ec9ee202d2",
       "version_major": 2,
       "version_minor": 0
      },
      "text/plain": [
       "interactive(children=(ToggleButtons(description='Plot Type:', icons=('',), options=(('Pipeline Plot', 'pipelin…"
      ]
     },
     "metadata": {},
     "output_type": "display_data"
    }
   ],
   "source": [
    "\n",
    "evaluate_model(best)"
   ]
  },
  {
   "cell_type": "code",
   "execution_count": 69,
   "metadata": {},
   "outputs": [
    {
     "data": {
      "text/html": [],
      "text/plain": [
       "<IPython.core.display.HTML object>"
      ]
     },
     "metadata": {},
     "output_type": "display_data"
    },
    {
     "data": {
      "text/html": [
       "<style type=\"text/css\">\n",
       "#T_d827c th {\n",
       "  text-align: left;\n",
       "}\n",
       "#T_d827c_row0_col0 {\n",
       "  text-align: left;\n",
       "}\n",
       "#T_d827c_row0_col1, #T_d827c_row0_col2, #T_d827c_row0_col3, #T_d827c_row0_col4, #T_d827c_row0_col5, #T_d827c_row0_col6, #T_d827c_row0_col7 {\n",
       "  text-align: left;\n",
       "  background-color: yellow;\n",
       "}\n",
       "#T_d827c_row0_col8 {\n",
       "  text-align: left;\n",
       "  background-color: yellow;\n",
       "  background-color: lightgrey;\n",
       "}\n",
       "</style>\n",
       "<table id=\"T_d827c\">\n",
       "  <thead>\n",
       "    <tr>\n",
       "      <th class=\"blank level0\" >&nbsp;</th>\n",
       "      <th id=\"T_d827c_level0_col0\" class=\"col_heading level0 col0\" >Model</th>\n",
       "      <th id=\"T_d827c_level0_col1\" class=\"col_heading level0 col1\" >Accuracy</th>\n",
       "      <th id=\"T_d827c_level0_col2\" class=\"col_heading level0 col2\" >AUC</th>\n",
       "      <th id=\"T_d827c_level0_col3\" class=\"col_heading level0 col3\" >Recall</th>\n",
       "      <th id=\"T_d827c_level0_col4\" class=\"col_heading level0 col4\" >Prec.</th>\n",
       "      <th id=\"T_d827c_level0_col5\" class=\"col_heading level0 col5\" >F1</th>\n",
       "      <th id=\"T_d827c_level0_col6\" class=\"col_heading level0 col6\" >Kappa</th>\n",
       "      <th id=\"T_d827c_level0_col7\" class=\"col_heading level0 col7\" >MCC</th>\n",
       "      <th id=\"T_d827c_level0_col8\" class=\"col_heading level0 col8\" >TT (Sec)</th>\n",
       "    </tr>\n",
       "  </thead>\n",
       "  <tbody>\n",
       "    <tr>\n",
       "      <th id=\"T_d827c_level0_row0\" class=\"row_heading level0 row0\" >lightgbm</th>\n",
       "      <td id=\"T_d827c_row0_col0\" class=\"data row0 col0\" >Light Gradient Boosting Machine</td>\n",
       "      <td id=\"T_d827c_row0_col1\" class=\"data row0 col1\" >0.9715</td>\n",
       "      <td id=\"T_d827c_row0_col2\" class=\"data row0 col2\" >0.9250</td>\n",
       "      <td id=\"T_d827c_row0_col3\" class=\"data row0 col3\" >0.2212</td>\n",
       "      <td id=\"T_d827c_row0_col4\" class=\"data row0 col4\" >0.6522</td>\n",
       "      <td id=\"T_d827c_row0_col5\" class=\"data row0 col5\" >0.3188</td>\n",
       "      <td id=\"T_d827c_row0_col6\" class=\"data row0 col6\" >0.3083</td>\n",
       "      <td id=\"T_d827c_row0_col7\" class=\"data row0 col7\" >0.3606</td>\n",
       "      <td id=\"T_d827c_row0_col8\" class=\"data row0 col8\" >1.9450</td>\n",
       "    </tr>\n",
       "  </tbody>\n",
       "</table>\n"
      ],
      "text/plain": [
       "<pandas.io.formats.style.Styler at 0x252704fa980>"
      ]
     },
     "metadata": {},
     "output_type": "display_data"
    },
    {
     "data": {
      "text/html": [],
      "text/plain": [
       "<IPython.core.display.HTML object>"
      ]
     },
     "metadata": {},
     "output_type": "display_data"
    }
   ],
   "source": [
    "selected_model='lightgbm'\n",
    "best_model = compare_models(include=[selected_model])"
   ]
  },
  {
   "cell_type": "code",
   "execution_count": 73,
   "metadata": {},
   "outputs": [
    {
     "data": {
      "text/html": [
       "<style type=\"text/css\">\n",
       "</style>\n",
       "<table id=\"T_2b609\">\n",
       "  <thead>\n",
       "    <tr>\n",
       "      <th class=\"blank level0\" >&nbsp;</th>\n",
       "      <th id=\"T_2b609_level0_col0\" class=\"col_heading level0 col0\" >Model</th>\n",
       "      <th id=\"T_2b609_level0_col1\" class=\"col_heading level0 col1\" >Accuracy</th>\n",
       "      <th id=\"T_2b609_level0_col2\" class=\"col_heading level0 col2\" >AUC</th>\n",
       "      <th id=\"T_2b609_level0_col3\" class=\"col_heading level0 col3\" >Recall</th>\n",
       "      <th id=\"T_2b609_level0_col4\" class=\"col_heading level0 col4\" >Prec.</th>\n",
       "      <th id=\"T_2b609_level0_col5\" class=\"col_heading level0 col5\" >F1</th>\n",
       "      <th id=\"T_2b609_level0_col6\" class=\"col_heading level0 col6\" >Kappa</th>\n",
       "      <th id=\"T_2b609_level0_col7\" class=\"col_heading level0 col7\" >MCC</th>\n",
       "    </tr>\n",
       "  </thead>\n",
       "  <tbody>\n",
       "    <tr>\n",
       "      <th id=\"T_2b609_level0_row0\" class=\"row_heading level0 row0\" >0</th>\n",
       "      <td id=\"T_2b609_row0_col0\" class=\"data row0 col0\" >Random Forest Classifier</td>\n",
       "      <td id=\"T_2b609_row0_col1\" class=\"data row0 col1\" >0.9914</td>\n",
       "      <td id=\"T_2b609_row0_col2\" class=\"data row0 col2\" >0.9889</td>\n",
       "      <td id=\"T_2b609_row0_col3\" class=\"data row0 col3\" >0.7574</td>\n",
       "      <td id=\"T_2b609_row0_col4\" class=\"data row0 col4\" >0.9552</td>\n",
       "      <td id=\"T_2b609_row0_col5\" class=\"data row0 col5\" >0.8449</td>\n",
       "      <td id=\"T_2b609_row0_col6\" class=\"data row0 col6\" >0.8405</td>\n",
       "      <td id=\"T_2b609_row0_col7\" class=\"data row0 col7\" >0.8465</td>\n",
       "    </tr>\n",
       "  </tbody>\n",
       "</table>\n"
      ],
      "text/plain": [
       "<pandas.io.formats.style.Styler at 0x2526f794eb0>"
      ]
     },
     "metadata": {},
     "output_type": "display_data"
    },
    {
     "data": {
      "text/html": [
       "<style type=\"text/css\">\n",
       "</style>\n",
       "<table id=\"T_5fa32\">\n",
       "  <thead>\n",
       "    <tr>\n",
       "      <th class=\"blank level0\" >&nbsp;</th>\n",
       "      <th id=\"T_5fa32_level0_col0\" class=\"col_heading level0 col0\" >Model</th>\n",
       "      <th id=\"T_5fa32_level0_col1\" class=\"col_heading level0 col1\" >Accuracy</th>\n",
       "      <th id=\"T_5fa32_level0_col2\" class=\"col_heading level0 col2\" >AUC</th>\n",
       "      <th id=\"T_5fa32_level0_col3\" class=\"col_heading level0 col3\" >Recall</th>\n",
       "      <th id=\"T_5fa32_level0_col4\" class=\"col_heading level0 col4\" >Prec.</th>\n",
       "      <th id=\"T_5fa32_level0_col5\" class=\"col_heading level0 col5\" >F1</th>\n",
       "      <th id=\"T_5fa32_level0_col6\" class=\"col_heading level0 col6\" >Kappa</th>\n",
       "      <th id=\"T_5fa32_level0_col7\" class=\"col_heading level0 col7\" >MCC</th>\n",
       "    </tr>\n",
       "  </thead>\n",
       "  <tbody>\n",
       "    <tr>\n",
       "      <th id=\"T_5fa32_level0_row0\" class=\"row_heading level0 row0\" >0</th>\n",
       "      <td id=\"T_5fa32_row0_col0\" class=\"data row0 col0\" >Random Forest Classifier</td>\n",
       "      <td id=\"T_5fa32_row0_col1\" class=\"data row0 col1\" >0.9648</td>\n",
       "      <td id=\"T_5fa32_row0_col2\" class=\"data row0 col2\" >0.9026</td>\n",
       "      <td id=\"T_5fa32_row0_col3\" class=\"data row0 col3\" >0.1373</td>\n",
       "      <td id=\"T_5fa32_row0_col4\" class=\"data row0 col4\" >0.6364</td>\n",
       "      <td id=\"T_5fa32_row0_col5\" class=\"data row0 col5\" >0.2258</td>\n",
       "      <td id=\"T_5fa32_row0_col6\" class=\"data row0 col6\" >0.2154</td>\n",
       "      <td id=\"T_5fa32_row0_col7\" class=\"data row0 col7\" >0.2847</td>\n",
       "    </tr>\n",
       "  </tbody>\n",
       "</table>\n"
      ],
      "text/plain": [
       "<pandas.io.formats.style.Styler at 0x252745c3400>"
      ]
     },
     "metadata": {},
     "output_type": "display_data"
    }
   ],
   "source": [
    "# not outperforming my random forest classifier (recall/precision on test):\n",
    "y_train_pr_pcrf=predict_model(best,df_train)\n",
    "y_test_pr_pcrf=predict_model(best,df_test)"
   ]
  },
  {
   "cell_type": "code",
   "execution_count": 74,
   "metadata": {},
   "outputs": [
    {
     "data": {
      "text/html": [
       "<style type=\"text/css\">\n",
       "</style>\n",
       "<table id=\"T_efe2c\">\n",
       "  <thead>\n",
       "    <tr>\n",
       "      <th class=\"blank level0\" >&nbsp;</th>\n",
       "      <th id=\"T_efe2c_level0_col0\" class=\"col_heading level0 col0\" >Model</th>\n",
       "      <th id=\"T_efe2c_level0_col1\" class=\"col_heading level0 col1\" >Accuracy</th>\n",
       "      <th id=\"T_efe2c_level0_col2\" class=\"col_heading level0 col2\" >AUC</th>\n",
       "      <th id=\"T_efe2c_level0_col3\" class=\"col_heading level0 col3\" >Recall</th>\n",
       "      <th id=\"T_efe2c_level0_col4\" class=\"col_heading level0 col4\" >Prec.</th>\n",
       "      <th id=\"T_efe2c_level0_col5\" class=\"col_heading level0 col5\" >F1</th>\n",
       "      <th id=\"T_efe2c_level0_col6\" class=\"col_heading level0 col6\" >Kappa</th>\n",
       "      <th id=\"T_efe2c_level0_col7\" class=\"col_heading level0 col7\" >MCC</th>\n",
       "    </tr>\n",
       "  </thead>\n",
       "  <tbody>\n",
       "    <tr>\n",
       "      <th id=\"T_efe2c_level0_row0\" class=\"row_heading level0 row0\" >0</th>\n",
       "      <td id=\"T_efe2c_row0_col0\" class=\"data row0 col0\" >Light Gradient Boosting Machine</td>\n",
       "      <td id=\"T_efe2c_row0_col1\" class=\"data row0 col1\" >0.9916</td>\n",
       "      <td id=\"T_efe2c_row0_col2\" class=\"data row0 col2\" >0.9876</td>\n",
       "      <td id=\"T_efe2c_row0_col3\" class=\"data row0 col3\" >0.7692</td>\n",
       "      <td id=\"T_efe2c_row0_col4\" class=\"data row0 col4\" >0.9489</td>\n",
       "      <td id=\"T_efe2c_row0_col5\" class=\"data row0 col5\" >0.8497</td>\n",
       "      <td id=\"T_efe2c_row0_col6\" class=\"data row0 col6\" >0.8454</td>\n",
       "      <td id=\"T_efe2c_row0_col7\" class=\"data row0 col7\" >0.8503</td>\n",
       "    </tr>\n",
       "  </tbody>\n",
       "</table>\n"
      ],
      "text/plain": [
       "<pandas.io.formats.style.Styler at 0x25274625e70>"
      ]
     },
     "metadata": {},
     "output_type": "display_data"
    },
    {
     "data": {
      "text/html": [
       "<style type=\"text/css\">\n",
       "</style>\n",
       "<table id=\"T_9cb00\">\n",
       "  <thead>\n",
       "    <tr>\n",
       "      <th class=\"blank level0\" >&nbsp;</th>\n",
       "      <th id=\"T_9cb00_level0_col0\" class=\"col_heading level0 col0\" >Model</th>\n",
       "      <th id=\"T_9cb00_level0_col1\" class=\"col_heading level0 col1\" >Accuracy</th>\n",
       "      <th id=\"T_9cb00_level0_col2\" class=\"col_heading level0 col2\" >AUC</th>\n",
       "      <th id=\"T_9cb00_level0_col3\" class=\"col_heading level0 col3\" >Recall</th>\n",
       "      <th id=\"T_9cb00_level0_col4\" class=\"col_heading level0 col4\" >Prec.</th>\n",
       "      <th id=\"T_9cb00_level0_col5\" class=\"col_heading level0 col5\" >F1</th>\n",
       "      <th id=\"T_9cb00_level0_col6\" class=\"col_heading level0 col6\" >Kappa</th>\n",
       "      <th id=\"T_9cb00_level0_col7\" class=\"col_heading level0 col7\" >MCC</th>\n",
       "    </tr>\n",
       "  </thead>\n",
       "  <tbody>\n",
       "    <tr>\n",
       "      <th id=\"T_9cb00_level0_row0\" class=\"row_heading level0 row0\" >0</th>\n",
       "      <td id=\"T_9cb00_row0_col0\" class=\"data row0 col0\" >Light Gradient Boosting Machine</td>\n",
       "      <td id=\"T_9cb00_row0_col1\" class=\"data row0 col1\" >0.9677</td>\n",
       "      <td id=\"T_9cb00_row0_col2\" class=\"data row0 col2\" >0.9381</td>\n",
       "      <td id=\"T_9cb00_row0_col3\" class=\"data row0 col3\" >0.2353</td>\n",
       "      <td id=\"T_9cb00_row0_col4\" class=\"data row0 col4\" >0.7059</td>\n",
       "      <td id=\"T_9cb00_row0_col5\" class=\"data row0 col5\" >0.3529</td>\n",
       "      <td id=\"T_9cb00_row0_col6\" class=\"data row0 col6\" >0.3406</td>\n",
       "      <td id=\"T_9cb00_row0_col7\" class=\"data row0 col7\" >0.3959</td>\n",
       "    </tr>\n",
       "  </tbody>\n",
       "</table>\n"
      ],
      "text/plain": [
       "<pandas.io.formats.style.Styler at 0x252766b4eb0>"
      ]
     },
     "metadata": {},
     "output_type": "display_data"
    }
   ],
   "source": [
    "# this one seems to be more promising than my random forest classifier due to high recall on test including a high precision and thus in a higher f1 score:\n",
    "y_train_pr_pcrf=predict_model(best_model,df_train)\n",
    "y_test_pr_pcrf=predict_model(best_model,df_test)"
   ]
  },
  {
   "cell_type": "code",
   "execution_count": 90,
   "metadata": {},
   "outputs": [
    {
     "name": "stdout",
     "output_type": "stream",
     "text": [
      "Recall train: 0.7692307692307693\n",
      "Recall test: 0.23529411764705882\n",
      "Precision train: 0.948905109489051\n",
      "Precision test: 0.7058823529411765\n",
      "F1 train: 0.8496732026143791\n",
      "F1 test: 0.35294117647058826\n"
     ]
    }
   ],
   "source": [
    "print('Recall train: ' + str(recall_score(y_train, y_train_pr_pcrf.prediction_label)))\n",
    "print('Recall test: ' + str(recall_score(y_test, y_test_pr_pcrf.prediction_label)))\n",
    "print('Precision train: ' + str(precision_score(y_train, y_train_pr_pcrf.prediction_label)))\n",
    "print('Precision test: ' + str(precision_score(y_test, y_test_pr_pcrf.prediction_label)))\n",
    "print('F1 train: ' + str(f1_score(y_train, y_train_pr_pcrf.prediction_label)))\n",
    "print('F1 test: ' + str(f1_score(y_test, y_test_pr_pcrf.prediction_label)))"
   ]
  },
  {
   "cell_type": "code",
   "execution_count": 96,
   "metadata": {},
   "outputs": [
    {
     "data": {
      "application/vnd.jupyter.widget-view+json": {
       "model_id": "7546dc6e8a494f8894379ce4e3725cc4",
       "version_major": 2,
       "version_minor": 0
      },
      "text/plain": [
       "interactive(children=(ToggleButtons(description='Plot Type:', icons=('',), options=(('Pipeline Plot', 'pipelin…"
      ]
     },
     "metadata": {},
     "output_type": "display_data"
    }
   ],
   "source": [
    "# feature importance shows a very good feature on rank one (interest-bearing debt interest rate) \n",
    "\n",
    "evaluate_model(best_model)"
   ]
  },
  {
   "cell_type": "code",
   "execution_count": 94,
   "metadata": {},
   "outputs": [
    {
     "name": "stdout",
     "output_type": "stream",
     "text": [
      "Transformation Pipeline and Model Successfully Saved\n"
     ]
    },
    {
     "data": {
      "text/plain": [
       "(Pipeline(memory=Memory(location=None),\n",
       "          steps=[('numerical_imputer',\n",
       "                  TransformerWrapper(exclude=None,\n",
       "                                     include=[' ROA(C) before interest and '\n",
       "                                              'depreciation before interest',\n",
       "                                              ' ROA(A) before interest and % '\n",
       "                                              'after tax',\n",
       "                                              ' ROA(B) before interest and '\n",
       "                                              'depreciation after tax',\n",
       "                                              ' Operating Gross Margin',\n",
       "                                              ' Realized Sales Gross Margin',\n",
       "                                              ' Operating Profit Rate',\n",
       "                                              ' Pre-tax net Interest Rate',\n",
       "                                              ' After-...\n",
       "                  LGBMClassifier(boosting_type='gbdt', class_weight=None,\n",
       "                                 colsample_bytree=1.0, importance_type='split',\n",
       "                                 learning_rate=0.1, max_depth=-1,\n",
       "                                 min_child_samples=20, min_child_weight=0.001,\n",
       "                                 min_split_gain=0.0, n_estimators=100, n_jobs=-1,\n",
       "                                 num_leaves=31, objective=None,\n",
       "                                 random_state=1781, reg_alpha=0.0,\n",
       "                                 reg_lambda=0.0, subsample=1.0,\n",
       "                                 subsample_for_bin=200000, subsample_freq=0))],\n",
       "          verbose=False),\n",
       " 'my_best_pipeline.pkl')"
      ]
     },
     "execution_count": 94,
     "metadata": {},
     "output_type": "execute_result"
    }
   ],
   "source": [
    "# unclear what the pipeline is doing. why is an imputer needed when no NAs are present?\n",
    "save_model(best_model, 'my_best_pipeline')"
   ]
  },
  {
   "cell_type": "markdown",
   "metadata": {},
   "source": [
    "## Step 5\n",
    "**Step 5: Result extration & interpretation**\n",
    "- make your conclusions and interpretation on the model and final results\n",
    "- evaluate the performance of your model and algorithm using different KPIs\n"
   ]
  },
  {
   "cell_type": "markdown",
   "metadata": {},
   "source": [
    "my conclusions:\n",
    "- although I was not overwhelmed by the features included in the data, the recall and precision are (much) better than expected with all ways to determine the final model\n",
    "- as final model I would go with the LGBM found by pycaret, but only due to metrics, because it is not clear for me what pycaret is evaluating/showing as outcome\n",
    "    - the interest-beaering debt rate is in the end the most important feature, which makes sense, although I think that including the interbank swaprates would increase the fit \n",
    "    - if cash turnover ratio is really that informative for bankruptcy I do not know, this is a bit surprising for me\n",
    "\n",
    "In practice I would now start a hyperparameter tuning with LGBM on my own, but as I will be on holidays from 14.6.-24.6. and I have other tasks as well which have to be done before that I stop here and hope that the use case exercise is fulfilled\n",
    "\n"
   ]
  },
  {
   "cell_type": "code",
   "execution_count": null,
   "metadata": {},
   "outputs": [],
   "source": []
  }
 ],
 "metadata": {
  "application/vnd.databricks.v1+notebook": {
   "dashboards": [],
   "language": "python",
   "notebookMetadata": {},
   "notebookName": "classification_task_instruction_jupyter",
   "widgets": {}
  },
  "kernelspec": {
   "display_name": ".venv",
   "language": "python",
   "name": "python3"
  },
  "language_info": {
   "codemirror_mode": {
    "name": "ipython",
    "version": 3
   },
   "file_extension": ".py",
   "mimetype": "text/x-python",
   "name": "python",
   "nbconvert_exporter": "python",
   "pygments_lexer": "ipython3",
   "version": "3.10.10"
  }
 },
 "nbformat": 4,
 "nbformat_minor": 0
}
